{
 "cells": [
  {
   "cell_type": "markdown",
   "metadata": {},
   "source": [
    "## Review of basic operations & statistics in Python. \n",
    "## HackerRank\n",
    "\n",
    "https://www.hackerrank.com/challenges/s10-basic-statistics/problem"
   ]
  },
  {
   "cell_type": "code",
   "execution_count": 1,
   "metadata": {},
   "outputs": [],
   "source": [
    "# pip install statistics"
   ]
  },
  {
   "cell_type": "code",
   "execution_count": 1,
   "metadata": {},
   "outputs": [],
   "source": [
    "import numpy as np\n",
    "from scipy import stats\n",
    "import statistics as st"
   ]
  },
  {
   "cell_type": "markdown",
   "metadata": {},
   "source": [
    "## Stat 0. Mean, Median, and Mode"
   ]
  },
  {
   "cell_type": "code",
   "execution_count": 3,
   "metadata": {},
   "outputs": [
    {
     "name": "stdout",
     "output_type": "stream",
     "text": [
      "[11, 22, 22, 33, 33, 44, 44, 44, 55, 55, 55]\n",
      "11\n"
     ]
    }
   ],
   "source": [
    "l = [22,11,22,44,55,33,44,44,55,55,33]\n",
    "n=len(l)\n",
    "\n",
    "print(sorted(l))\n",
    "print(n)"
   ]
  },
  {
   "cell_type": "markdown",
   "metadata": {},
   "source": [
    "### Mean"
   ]
  },
  {
   "cell_type": "code",
   "execution_count": 4,
   "metadata": {},
   "outputs": [
    {
     "name": "stdout",
     "output_type": "stream",
     "text": [
      "38.0\n",
      "38.0\n",
      "38\n"
     ]
    }
   ],
   "source": [
    "# mean\n",
    "print(sum(l)/n)\n",
    "print(np.mean(l))\n",
    "print(st.mean(l))"
   ]
  },
  {
   "cell_type": "markdown",
   "metadata": {},
   "source": [
    "### Median"
   ]
  },
  {
   "cell_type": "code",
   "execution_count": 5,
   "metadata": {},
   "outputs": [
    {
     "name": "stdout",
     "output_type": "stream",
     "text": [
      "44.0\n",
      "44.0\n",
      "44\n"
     ]
    }
   ],
   "source": [
    "# for odd and even numbers idx = n//2 and idx = -(n//2 + 1)\n",
    "median = (sorted(l)[n//2]+sorted(l)[-(n//2 + 1)])/2\n",
    "print(median)\n",
    "\n",
    "# using numpy\n",
    "print(np.median(l))\n",
    "\n",
    "# using statistics\n",
    "print(st.median(l))"
   ]
  },
  {
   "cell_type": "markdown",
   "metadata": {},
   "source": [
    "### Mode"
   ]
  },
  {
   "cell_type": "code",
   "execution_count": 6,
   "metadata": {},
   "outputs": [
    {
     "name": "stdout",
     "output_type": "stream",
     "text": [
      "ModeResult(mode=array([44]), count=array([3]))\n"
     ]
    }
   ],
   "source": [
    "print(stats.mode(l))"
   ]
  },
  {
   "cell_type": "code",
   "execution_count": 7,
   "metadata": {},
   "outputs": [
    {
     "data": {
      "text/plain": [
       "44"
      ]
     },
     "execution_count": 7,
     "metadata": {},
     "output_type": "execute_result"
    }
   ],
   "source": [
    "# method 1\n",
    "max(sorted(l),key=sorted(l).count)"
   ]
  },
  {
   "cell_type": "code",
   "execution_count": 8,
   "metadata": {},
   "outputs": [
    {
     "name": "stdout",
     "output_type": "stream",
     "text": [
      "44\n"
     ]
    }
   ],
   "source": [
    "# method 2\n",
    "# sorted(set(l))=[11,22,33,44,55]\n",
    "#           frq = [1,2, 2, 3, 3] \n",
    "frq = [sorted(l).count(i) for i in sorted(set(l))]\n",
    "idx = frq.index(max(frq))\n",
    "\n",
    "mode = sorted(set(l))[idx]\n",
    "\n",
    "print(mode)"
   ]
  },
  {
   "cell_type": "markdown",
   "metadata": {},
   "source": [
    "### Weighted Mean"
   ]
  },
  {
   "cell_type": "code",
   "execution_count": 9,
   "metadata": {},
   "outputs": [
    {
     "name": "stdout",
     "output_type": "stream",
     "text": [
      "3\n",
      "1 2 3\n",
      "2 3 5\n",
      "2.3\n"
     ]
    }
   ],
   "source": [
    "# Enter your code here. Read input from STDIN. Print output to STDOUT\n",
    "n = int(input())\n",
    "x = [int(i) for i in input().split()]\n",
    "w = [float(i) for i in input().split()]\n",
    "\n",
    "numerator = 0\n",
    "for i in range(len(x)):\n",
    "    numerator += x[i]*w[i]\n",
    "w_mean = numerator/sum(w)\n",
    "\n",
    "print(round(w_mean,1))"
   ]
  },
  {
   "cell_type": "code",
   "execution_count": 10,
   "metadata": {},
   "outputs": [
    {
     "data": {
      "text/plain": [
       "([1, 2, 3], [2.0, 3.0, 5.0])"
      ]
     },
     "execution_count": 10,
     "metadata": {},
     "output_type": "execute_result"
    }
   ],
   "source": [
    "x, w"
   ]
  },
  {
   "cell_type": "code",
   "execution_count": 11,
   "metadata": {},
   "outputs": [
    {
     "data": {
      "text/plain": [
       "2.3"
      ]
     },
     "execution_count": 11,
     "metadata": {},
     "output_type": "execute_result"
    }
   ],
   "source": [
    "# using numpy\n",
    "np.average(x,weights = w)"
   ]
  },
  {
   "cell_type": "markdown",
   "metadata": {},
   "source": [
    "## Stat 1 a. Quartiles"
   ]
  },
  {
   "cell_type": "code",
   "execution_count": 12,
   "metadata": {},
   "outputs": [
    {
     "name": "stdout",
     "output_type": "stream",
     "text": [
      "4\n",
      "2 5 4 9\n",
      "3\n",
      "4\n",
      "7\n"
     ]
    }
   ],
   "source": [
    "#\n",
    "n = int(input())\n",
    "x = [int(i) for i in input().split()]\n",
    "\n",
    "def median(li, n):\n",
    "    return int((sorted(li)[n//2]+sorted(li)[-(n//2 + 1)])/2)\n",
    "# median or Q2\n",
    "q_2 = median(x,n)\n",
    "\n",
    "# Q1\n",
    "x_1 = sorted(x)[:(n//2)]\n",
    "q_1 = median(x_1, len(x_1))\n",
    "\n",
    "# Q3\n",
    "x_3 = sorted(x)[-(n//2):]\n",
    "q_3 = median(x_3, len(x_3))\n",
    "\n",
    "print(q_1)\n",
    "print(q_2)\n",
    "print(q_3)"
   ]
  },
  {
   "cell_type": "code",
   "execution_count": 13,
   "metadata": {},
   "outputs": [
    {
     "data": {
      "text/plain": [
       "[2, 4]"
      ]
     },
     "execution_count": 13,
     "metadata": {},
     "output_type": "execute_result"
    }
   ],
   "source": [
    "x_1"
   ]
  },
  {
   "cell_type": "code",
   "execution_count": 14,
   "metadata": {},
   "outputs": [
    {
     "data": {
      "text/plain": [
       "[5, 9]"
      ]
     },
     "execution_count": 14,
     "metadata": {},
     "output_type": "execute_result"
    }
   ],
   "source": [
    "x_3"
   ]
  },
  {
   "cell_type": "code",
   "execution_count": 15,
   "metadata": {},
   "outputs": [
    {
     "data": {
      "text/plain": [
       "[2, 5]"
      ]
     },
     "execution_count": 15,
     "metadata": {},
     "output_type": "execute_result"
    }
   ],
   "source": [
    "x[:2]"
   ]
  },
  {
   "cell_type": "markdown",
   "metadata": {},
   "source": [
    "## Stat_1 b. Interquartile Range"
   ]
  },
  {
   "cell_type": "code",
   "execution_count": 16,
   "metadata": {},
   "outputs": [
    {
     "name": "stdout",
     "output_type": "stream",
     "text": [
      "6\n",
      "6 12 8 10 20 16\n",
      "5 4 3 2 1 5\n",
      "9.0\n"
     ]
    }
   ],
   "source": [
    "# https://www.hackerrank.com/challenges/s10-interquartile-range/problem\n",
    "\n",
    "def median(x,n):\n",
    "    # returns median, given list x and length of x = n\n",
    "    return (sorted(x)[n//2]+sorted(x)[-(n//2+1)])/2\n",
    "\n",
    "n = int(input())\n",
    "x = [int(i) for i in input().split()]\n",
    "f = [int(i) for i in input().split()]\n",
    "\n",
    "s = []\n",
    "for i in range(len(x)):\n",
    "    for j in range(f[i]):\n",
    "        s.append(x[i])\n",
    "        \n",
    "s = sorted(s)\n",
    "\n",
    "l_1 = s[:len(s)//2]\n",
    "l_2 = s[-(len(s)//2):]\n",
    "\n",
    "int_quart = median(l_2, len(l_2))-median(l_1, len(l_1))\n",
    "print(round(int_quart,1))\n",
    "\n",
    "# 6\n",
    "# 6 12 8 10 20 16\n",
    "# 5 4 3 2 1 5"
   ]
  },
  {
   "cell_type": "markdown",
   "metadata": {},
   "source": [
    "## Stat 1c. Standard Deviation"
   ]
  },
  {
   "cell_type": "code",
   "execution_count": 17,
   "metadata": {},
   "outputs": [
    {
     "name": "stdout",
     "output_type": "stream",
     "text": [
      "4\n",
      "20 5 4 1\n",
      "7.4\n"
     ]
    }
   ],
   "source": [
    "# Enter your code here. Read input from STDIN. Print output to STDOUT\n",
    "n = int(input())\n",
    "x = [int(i) for i in input().split()]\n",
    "\n",
    "# mean\n",
    "mean = sum(x)/n\n",
    "\n",
    "# list of squared difference\n",
    "sq_list = [(i-mean)**2 for i in x]\n",
    "\n",
    "# variance\n",
    "var = sum(sq_list)/n\n",
    "\n",
    "# std_deviation\n",
    "s_dev = round(var**0.5,1)\n",
    "\n",
    "print(s_dev)"
   ]
  },
  {
   "cell_type": "markdown",
   "metadata": {},
   "source": [
    "### Time conversion \n",
    "https://www.hackerrank.com/challenges/time-conversion/problem"
   ]
  },
  {
   "cell_type": "code",
   "execution_count": 18,
   "metadata": {},
   "outputs": [],
   "source": [
    "# arr = [6, 2, 3, 4, 5, 4, 4, 5, 6]\n",
    "# max(arr)\n",
    "# arr.count(max(arr))"
   ]
  },
  {
   "cell_type": "code",
   "execution_count": 19,
   "metadata": {},
   "outputs": [],
   "source": [
    "def timeConversion(s):\n",
    "    #\n",
    "    # Write your code here.\n",
    "    #\n",
    "    \n",
    "    hour = int(s[:2])\n",
    "    if s[-2:] == 'PM':\n",
    "        res = '%02d' % (hour%12+12) + f'{s[2:-2]}'\n",
    "    else:\n",
    "        res = '%02d' % (hour%12) + f'{s[2:-2]}'\n",
    "    return res"
   ]
  },
  {
   "cell_type": "code",
   "execution_count": 20,
   "metadata": {},
   "outputs": [
    {
     "data": {
      "text/plain": [
       "'01:05:45'"
      ]
     },
     "execution_count": 20,
     "metadata": {},
     "output_type": "execute_result"
    }
   ],
   "source": [
    "timeConversion('01:05:45AM')"
   ]
  },
  {
   "cell_type": "markdown",
   "metadata": {},
   "source": [
    "### Counting Valleys\n",
    "https://www.hackerrank.com/challenges/counting-valleys/problem?h_l=interview&playlist_slugs%5B%5D=interview-preparation-kit&playlist_slugs%5B%5D=warmup"
   ]
  },
  {
   "cell_type": "code",
   "execution_count": 21,
   "metadata": {},
   "outputs": [],
   "source": [
    "### Using Numpy cummulative\n",
    "# import numpy as np\n",
    "# np.cumsum(path)"
   ]
  },
  {
   "cell_type": "code",
   "execution_count": 22,
   "metadata": {},
   "outputs": [],
   "source": [
    "def countingValleys(steps, path):\n",
    "    # counts number of valleys\n",
    "    # path is a string coded as U =up, D =down\n",
    "    # steps is number of U and D steps\n",
    "    \n",
    "    # convert U as +1, D as -1\n",
    "    new_path = [1 if elem=='U' else -1 for elem in path]\n",
    "    \n",
    "    \n",
    "    # create vertical coordinate list, starting with zero\n",
    "    coord = []\n",
    "    sum = 0\n",
    "    \n",
    "    for i in new_path:\n",
    "        sum += i\n",
    "        coord.append(sum)\n",
    "    coord = [0] + coord\n",
    "    \n",
    "    # get valleys(local minima)\n",
    "    count = 0\n",
    "    for i, j in enumerate(coord[:-1]):\n",
    "        if j == 0 and coord[i+1] == -1:\n",
    "            count += 1\n",
    "            \n",
    "    return count"
   ]
  },
  {
   "cell_type": "code",
   "execution_count": 23,
   "metadata": {},
   "outputs": [
    {
     "data": {
      "text/plain": [
       "2"
      ]
     },
     "execution_count": 23,
     "metadata": {},
     "output_type": "execute_result"
    }
   ],
   "source": [
    "countingValleys(10, 'UDDDUDUUDU')"
   ]
  },
  {
   "cell_type": "markdown",
   "metadata": {},
   "source": [
    "### Repeated String\n",
    "https://www.hackerrank.com/challenges/repeated-string/problem?h_l=interview&playlist_slugs%5B%5D=interview-preparation-kit&playlist_slugs%5B%5D=warmup"
   ]
  },
  {
   "cell_type": "code",
   "execution_count": 24,
   "metadata": {},
   "outputs": [],
   "source": [
    "def count_a(s):\n",
    "    # counts 'a' letters in string 's'\n",
    "    count = 0\n",
    "    for i in s:\n",
    "        if i == 'a':\n",
    "            count += 1\n",
    "    return count\n",
    "\n",
    "# num = n%len(s)\n",
    "# s[:num]\n",
    "\n",
    "def repeatedString(s, n):\n",
    "    # returns a total number of 'a' in  a string 's', \n",
    "    # repeated till reaching the length 'n'\n",
    "    total = n//len(s)*count_a(s) + count_a(s[:n%len(s)])\n",
    "    return total"
   ]
  },
  {
   "cell_type": "code",
   "execution_count": 25,
   "metadata": {},
   "outputs": [
    {
     "data": {
      "text/plain": [
       "7"
      ]
     },
     "execution_count": 25,
     "metadata": {},
     "output_type": "execute_result"
    }
   ],
   "source": [
    "# test 1\n",
    "s = 'aba'\n",
    "n = 10\n",
    "\n",
    "repeatedString(s, n)"
   ]
  },
  {
   "cell_type": "code",
   "execution_count": 1,
   "metadata": {},
   "outputs": [
    {
     "ename": "NameError",
     "evalue": "name 'repeatedString' is not defined",
     "output_type": "error",
     "traceback": [
      "\u001b[0;31m---------------------------------------------------------------------------\u001b[0m",
      "\u001b[0;31mNameError\u001b[0m                                 Traceback (most recent call last)",
      "\u001b[0;32m<ipython-input-1-0523cd2a959b>\u001b[0m in \u001b[0;36m<module>\u001b[0;34m\u001b[0m\n\u001b[1;32m      3\u001b[0m \u001b[0mn\u001b[0m \u001b[0;34m=\u001b[0m \u001b[0;36m100\u001b[0m\u001b[0;34m\u001b[0m\u001b[0;34m\u001b[0m\u001b[0m\n\u001b[1;32m      4\u001b[0m \u001b[0;34m\u001b[0m\u001b[0m\n\u001b[0;32m----> 5\u001b[0;31m \u001b[0mrepeatedString\u001b[0m\u001b[0;34m(\u001b[0m\u001b[0ms\u001b[0m\u001b[0;34m,\u001b[0m \u001b[0mn\u001b[0m\u001b[0;34m)\u001b[0m\u001b[0;34m\u001b[0m\u001b[0;34m\u001b[0m\u001b[0m\n\u001b[0m",
      "\u001b[0;31mNameError\u001b[0m: name 'repeatedString' is not defined"
     ]
    }
   ],
   "source": [
    "# test 2\n",
    "s = 'a'\n",
    "n = 100\n",
    "\n",
    "repeatedString(s, n)"
   ]
  },
  {
   "cell_type": "markdown",
   "metadata": {},
   "source": [
    "## Working on the problems"
   ]
  },
  {
   "cell_type": "markdown",
   "metadata": {},
   "source": [
    "### Jumping on the Clouds\n",
    "https://www.hackerrank.com/challenges/jumping-on-the-clouds/problem?h_l=interview&playlist_slugs%5B%5D=interview-preparation-kit&playlist_slugs%5B%5D=warmup"
   ]
  },
  {
   "cell_type": "code",
   "execution_count": 27,
   "metadata": {},
   "outputs": [],
   "source": []
  },
  {
   "cell_type": "code",
   "execution_count": 137,
   "metadata": {},
   "outputs": [
    {
     "data": {
      "text/plain": [
       "3"
      ]
     },
     "execution_count": 137,
     "metadata": {},
     "output_type": "execute_result"
    }
   ],
   "source": [
    "# minimum lemgth of c =2 per conditions:\n",
    "c = [0, 0, 0, 0, 1, 0]\n",
    "\n",
    "\n",
    "\n",
    "jump_count = 0 # jumps counter\n",
    "idx = 0 # index of the element in the list\n",
    "\n",
    "while idx <= len(c)-3:\n",
    "    if c[idx+2]: # == True == 1\n",
    "        idx += 1 # Jump to the next cloud\n",
    "    else:\n",
    "        idx += 2 # jump over one cloud\n",
    "    jump_count += 1\n",
    "    \n",
    "if idx < len(c) - 1:\n",
    "    jump_count += 1\n",
    "\n",
    "    \n",
    "jump_count\n",
    "        "
   ]
  },
  {
   "cell_type": "code",
   "execution_count": 144,
   "metadata": {},
   "outputs": [
    {
     "data": {
      "text/plain": [
       "3"
      ]
     },
     "execution_count": 144,
     "metadata": {},
     "output_type": "execute_result"
    }
   ],
   "source": [
    "def jumpingOnClouds(c):\n",
    "    jump_count = 0 # jumps counter\n",
    "    idx = 0 # index of the element in the list\n",
    "\n",
    "    while idx <= len(c)-3:\n",
    "        if c[idx+2]: # == True == 1\n",
    "            idx += 1 # Jump to the next cloud\n",
    "        else:\n",
    "            idx += 2 # jump over one cloud\n",
    "        jump_count += 1\n",
    "\n",
    "    if idx < len(c) - 1:\n",
    "        jump_count += 1\n",
    "\n",
    "    return jump_count\n",
    "\n",
    "jumpingOnClouds([0, 0, 1, 0, 0])"
   ]
  },
  {
   "cell_type": "markdown",
   "metadata": {},
   "source": [
    "### 2D Array Problem\n",
    "https://www.hackerrank.com/challenges/2d-array/problem?h_l=interview&playlist_slugs%5B%5D=interview-preparation-kit&playlist_slugs%5B%5D=arrays"
   ]
  },
  {
   "cell_type": "code",
   "execution_count": null,
   "metadata": {},
   "outputs": [],
   "source": [
    "# Hourglass arrays 3x3 from 6x6 array\n",
    "# find the maxima from'hourglasses' array\n",
    "# see link above for the full desciption "
   ]
  },
  {
   "cell_type": "code",
   "execution_count": 6,
   "metadata": {},
   "outputs": [],
   "source": [
    "import random as ra\n",
    "random.seed(1)"
   ]
  },
  {
   "cell_type": "markdown",
   "metadata": {},
   "source": [
    "### method 1"
   ]
  },
  {
   "cell_type": "code",
   "execution_count": 30,
   "metadata": {},
   "outputs": [
    {
     "data": {
      "text/plain": [
       "[[2, 4, 9, -9, -1, 5],\n",
       " [1, 5, -9, -2, 9, -7],\n",
       " [8, -4, -7, -1, -9, 4],\n",
       " [-7, 9, -9, 5, 7, 3],\n",
       " [-1, -2, 9, -6, 3, 0],\n",
       " [-4, 2, 0, -7, 6, 5]]"
      ]
     },
     "execution_count": 30,
     "metadata": {},
     "output_type": "execute_result"
    }
   ],
   "source": [
    "x = []\n",
    "for i in range(6):\n",
    "    x.append(random.sample(range(-9,10), 6))\n",
    "n = len(x)\n",
    "x"
   ]
  },
  {
   "cell_type": "code",
   "execution_count": 57,
   "metadata": {},
   "outputs": [
    {
     "data": {
      "text/plain": [
       "-9"
      ]
     },
     "execution_count": 57,
     "metadata": {},
     "output_type": "execute_result"
    }
   ],
   "source": [
    "x[3][2]"
   ]
  },
  {
   "cell_type": "code",
   "execution_count": 105,
   "metadata": {},
   "outputs": [],
   "source": [
    "def hourglassSum(x,n=6):\n",
    "    # returns the maximum sum of 'hourglasses' arrays\n",
    "    \n",
    "    hour_glass = []\n",
    "    for i in range(n-2):\n",
    "        for j in range(n-2):\n",
    "            hour_glass.append(\n",
    "                x[i][j]+x[i][j+1]+x[i][j+2]+\n",
    "                x[i+1][j+1]+\n",
    "                x[i+2][j]+x[i+2][j+1]+x[i+2][j+2])\n",
    "        \n",
    "    return max(hour_glass)\n",
    "\n",
    "# or  similary\n",
    "\n",
    "def hourglassSum_2(x,n=6):\n",
    "    # returns the maximum sum of 'hourglasses' arrays\n",
    "    \n",
    "    maxima = -63 # 7*9\n",
    "    for i in range(n-2):\n",
    "        for j in range(n-2):\n",
    "            \n",
    "            # sum top row, mid element and bottom row\n",
    "            hour_glass = \\\n",
    "            sum(x[i][j:(j+3)]) + \\\n",
    "            x[i+1][j+1] +  \\\n",
    "            sum(x[i+2][j:(j+3)])\n",
    "            \n",
    "            if hour_glass > maxima:\n",
    "                maxima = hour_glass\n",
    "        \n",
    "    return maxima\n"
   ]
  },
  {
   "cell_type": "code",
   "execution_count": 104,
   "metadata": {},
   "outputs": [
    {
     "data": {
      "text/plain": [
       "(22, 22)"
      ]
     },
     "execution_count": 104,
     "metadata": {},
     "output_type": "execute_result"
    }
   ],
   "source": [
    "hourglassSum(x,n=6), hourglassSum_2(x,n=6)"
   ]
  },
  {
   "cell_type": "code",
   "execution_count": null,
   "metadata": {},
   "outputs": [],
   "source": []
  },
  {
   "cell_type": "markdown",
   "metadata": {},
   "source": [
    "### method 2"
   ]
  },
  {
   "cell_type": "code",
   "execution_count": 76,
   "metadata": {},
   "outputs": [],
   "source": [
    "# import numpy as np"
   ]
  },
  {
   "cell_type": "code",
   "execution_count": 131,
   "metadata": {},
   "outputs": [
    {
     "data": {
      "text/plain": [
       "array([[ 2,  4,  9],\n",
       "       [ 1,  5, -9],\n",
       "       [ 8, -4, -7]])"
      ]
     },
     "execution_count": 131,
     "metadata": {},
     "output_type": "execute_result"
    }
   ],
   "source": [
    "arr = np.asarray(x)\n",
    "arr[:3,:3]"
   ]
  },
  {
   "cell_type": "code",
   "execution_count": 134,
   "metadata": {},
   "outputs": [
    {
     "data": {
      "text/plain": [
       "(11, 1, -9)"
      ]
     },
     "execution_count": 134,
     "metadata": {},
     "output_type": "execute_result"
    }
   ],
   "source": [
    "np.sum(arr), arr[1,0], arr[1,2]"
   ]
  },
  {
   "cell_type": "code",
   "execution_count": 135,
   "metadata": {},
   "outputs": [],
   "source": [
    "def hourglassSum_3(x,n=6):\n",
    "    # returns the maximum sum of 'hourglasses' arrays\n",
    "\n",
    "    \n",
    "    x = np.asarray(x)\n",
    "    maxima = -63 # 7*9\n",
    "    \n",
    "    for i in range(n-2):\n",
    "        for j in range(n-2):\n",
    "            \n",
    "            # create np array 3x3\n",
    "            arr = x[i:i+3,j:j+3] \n",
    "            \n",
    "            # sum top row, mid element and bottom row\n",
    "            hour_glass = np.sum(arr) - arr[1,0] - arr[1,2]\n",
    "            \n",
    "            if hour_glass > maxima:\n",
    "                maxima = hour_glass\n",
    "        \n",
    "    return maxima"
   ]
  },
  {
   "cell_type": "code",
   "execution_count": 136,
   "metadata": {},
   "outputs": [
    {
     "data": {
      "text/plain": [
       "(22, 22)"
      ]
     },
     "execution_count": 136,
     "metadata": {},
     "output_type": "execute_result"
    }
   ],
   "source": [
    "hourglassSum(x,n=6), hourglassSum_3(x,n=6)"
   ]
  },
  {
   "cell_type": "markdown",
   "metadata": {},
   "source": [
    "### Arrays: Left Rotation\n",
    "https://www.hackerrank.com/challenges/ctci-array-left-rotation/problem?h_l=interview&playlist_slugs%5B%5D=interview-preparation-kit&playlist_slugs%5B%5D=arrays\n",
    "\n"
   ]
  },
  {
   "cell_type": "code",
   "execution_count": 151,
   "metadata": {},
   "outputs": [
    {
     "data": {
      "text/plain": [
       "[2, 3, 4, 5, 0, 1]"
      ]
     },
     "execution_count": 151,
     "metadata": {},
     "output_type": "execute_result"
    }
   ],
   "source": [
    "x = [0,1,2,3,4,5]\n",
    "n=2\n",
    "\n",
    "x[n:] + x[:n]"
   ]
  },
  {
   "cell_type": "code",
   "execution_count": 154,
   "metadata": {},
   "outputs": [],
   "source": [
    "def solve(a, d):\n",
    "    \n",
    "    # return 'left rotated' list 'a' by 'd' number of first elements \n",
    "    # see link for detailed description of the task\n",
    "    i = d%len(a)# general solution when d can be more than n\n",
    "    return(a[i:]+a[:i])"
   ]
  },
  {
   "cell_type": "code",
   "execution_count": 153,
   "metadata": {},
   "outputs": [
    {
     "data": {
      "text/plain": [
       "[2, 3, 4, 5, 0, 1]"
      ]
     },
     "execution_count": 153,
     "metadata": {},
     "output_type": "execute_result"
    }
   ],
   "source": [
    "solve(x,n)"
   ]
  },
  {
   "cell_type": "code",
   "execution_count": null,
   "metadata": {},
   "outputs": [],
   "source": []
  },
  {
   "cell_type": "markdown",
   "metadata": {},
   "source": [
    "### Minimum Swaps 2\n",
    "\n",
    "https://www.hackerrank.com/challenges/minimum-swaps-2/problem?h_l=interview&playlist_slugs%5B%5D=interview-preparation-kit&playlist_slugs%5B%5D=arrays\n",
    "\n",
    "Task: need to find the minimum number of swaps required to sort the array in ascending order.\n",
    "Array elements are integers (== 1,2,3,4,...)\n",
    "\n"
   ]
  },
  {
   "cell_type": "code",
   "execution_count": 271,
   "metadata": {},
   "outputs": [
    {
     "name": "stdout",
     "output_type": "stream",
     "text": [
      "[1, 7, 3, 2, 4, 5, 6] 1\n",
      "[1, 2, 3, 7, 4, 5, 6] 2\n",
      "[1, 2, 3, 4, 7, 5, 6] 3\n",
      "[1, 2, 3, 4, 5, 7, 6] 4\n",
      "[1, 2, 3, 4, 5, 6, 7] 5\n"
     ]
    }
   ],
   "source": [
    "# method 1\n",
    "\n",
    "x = [7, 1, 3, 2, 4, 5, 6]\n",
    "xc= x.copy()\n",
    "\n",
    "# [7, 1, 3, 2, 4, 5, 6] - initial\n",
    "# [1,7,3,2,4,5,6] - swap 1\n",
    "# [1,2,3,7,4,5,6] - swap 2\n",
    "# [1,2,3,4,7,5,6] - swap 3\n",
    "# [1,2,3,4,5,7,6] - swap 4\n",
    "# [1,2,3,4,5,6,7] - swap 5\n",
    "\n",
    "\n",
    "# xc[0],xc[1]=xc[1],xc[0]\n",
    "\n",
    "count = 0\n",
    "for idx,val in enumerate(sorted(xc)):\n",
    "    swap_idx = xc.index(val) # index = 1\n",
    "    \n",
    "    if xc != sorted(xc) and xc[idx] != xc[swap_idx]:\n",
    "        xc[idx], xc[swap_idx] = xc[swap_idx], xc[idx]\n",
    "        count += 1\n",
    "        print(xc, count)\n"
   ]
  },
  {
   "cell_type": "code",
   "execution_count": 272,
   "metadata": {},
   "outputs": [
    {
     "data": {
      "text/plain": [
       "5"
      ]
     },
     "execution_count": 272,
     "metadata": {},
     "output_type": "execute_result"
    }
   ],
   "source": [
    "# The same as above in function\n",
    "\n",
    "#        x  = [7, 1, 3, 2, 4, 5, 6] \n",
    "# sorted(x) = [1, 2, 3, 4, 5, 6, 7]\n",
    "\n",
    "def minimumSwaps(x):\n",
    "    # returns number of swaps required to orginize \n",
    "    # list 'x' in the ascending order\n",
    "    count = 0\n",
    "    for idx, val in enumerate(sorted(x)):\n",
    "        swap_idx = x.index(val)\n",
    "        if x != sorted(x) and x[idx] != x[swap_idx]:\n",
    "            x[idx], x[swap_idx] = x [swap_idx], x[idx]\n",
    "            count += 1\n",
    "    return count\n",
    "\n",
    "minimumSwaps([7, 1, 3, 2, 4, 5, 6])"
   ]
  },
  {
   "cell_type": "code",
   "execution_count": 279,
   "metadata": {},
   "outputs": [
    {
     "data": {
      "text/plain": [
       "5"
      ]
     },
     "execution_count": 279,
     "metadata": {},
     "output_type": "execute_result"
    }
   ],
   "source": [
    "# Method 2 \n",
    "\n",
    "# xc.insert(0,1)\n",
    "# xc.pop(2)\n",
    "\n",
    "# The same as above in function\n",
    "#        x  = [7, 1, 3, 2, 4, 5, 6] \n",
    "# sorted(x) = [1, 2, 3, 4, 5, 6, 7]\n",
    "\n",
    "def minimumSwaps_2(x):\n",
    "    # returns number of swaps required to orginize \n",
    "    # list 'x' in the ascending order\n",
    "    count = 0\n",
    "    for idx, val in enumerate(sorted(x)):\n",
    "        swap_idx = x.index(val)\n",
    "        swap_val = x[idx]\n",
    "        if x != sorted(x) and x[idx] != x[swap_idx]:\n",
    "            \n",
    "            x.pop(idx)\n",
    "            x.insert(idx,val)\n",
    "            \n",
    "            x.pop(swap_idx)\n",
    "            x.insert(swap_idx,swap_val)\n",
    "            \n",
    "            count += 1\n",
    "    return count\n",
    "\n",
    "minimumSwaps_2([7, 1, 3, 2, 4, 5, 6])"
   ]
  },
  {
   "cell_type": "code",
   "execution_count": null,
   "metadata": {},
   "outputs": [],
   "source": []
  },
  {
   "cell_type": "code",
   "execution_count": 294,
   "metadata": {},
   "outputs": [
    {
     "data": {
      "text/plain": [
       "{1: 0, 2: 1, 3: 2, 4: 3, 5: 4, 6: 5, 7: 6}"
      ]
     },
     "execution_count": 294,
     "metadata": {},
     "output_type": "execute_result"
    }
   ],
   "source": [
    "# method 3 using hash table (dictionary)\n",
    "\n",
    "# The same as above in function\n",
    "#        x  = [7, 1, 3, 2, 4, 5, 6] \n",
    "# sorted(x) = [1, 2, 3, 4, 5, 6, 7]\n",
    "\n",
    "d = {val : idx for idx, val in enumerate(x)}\n",
    "d"
   ]
  },
  {
   "cell_type": "code",
   "execution_count": 309,
   "metadata": {},
   "outputs": [],
   "source": [
    "def minimumSwaps_3(x):\n",
    "    d = {val : idx for idx, val in enumerate(x)}\n",
    "    count = 0 \n",
    "    for idx, val in enumerate(sorted(x)):\n",
    "        swap_idx = d[val]\n",
    "#         print(swap_idx,idx)\n",
    "        if x != sorted(x) and x[idx] != x[swap_idx]:\n",
    "            x[idx], x[swap_idx] = x [swap_idx], x[idx]\n",
    "            \n",
    "            d[val] = idx\n",
    "            d[x[swap_idx]] = swap_idx\n",
    "            count += 1\n",
    "#             print(x, count)\n",
    "    return count\n",
    "\n",
    "# def minimumSwaps(arr):\n",
    "#     ref_arr = sorted(arr)\n",
    "#     index_dict = {v: i for i,v in enumerate(arr)}\n",
    "#     swaps = 0\n",
    "    \n",
    "#     for i,v in enumerate(arr):\n",
    "#         correct_value = ref_arr[i]\n",
    "#         if v != correct_value:\n",
    "#             to_swap_ix = index_dict[correct_value]\n",
    "#             arr[to_swap_ix],arr[i] = arr[i], arr[to_swap_ix]\n",
    "#             index_dict[v] = to_swap_ix\n",
    "#             index_dict[correct_value] = i\n",
    "#             swaps += 1\n",
    "            \n",
    "#     return swaps"
   ]
  },
  {
   "cell_type": "code",
   "execution_count": 311,
   "metadata": {},
   "outputs": [
    {
     "data": {
      "text/plain": [
       "5"
      ]
     },
     "execution_count": 311,
     "metadata": {},
     "output_type": "execute_result"
    }
   ],
   "source": [
    "# minimumSwaps_3([7, 1, 3, 2, 4, 5, 6] ), \n",
    "minimumSwaps_3([7, 1, 3, 2, 4, 5, 6])"
   ]
  },
  {
   "cell_type": "markdown",
   "metadata": {},
   "source": [
    "### Rotate matrix 90 degree"
   ]
  },
  {
   "cell_type": "code",
   "execution_count": 565,
   "metadata": {},
   "outputs": [],
   "source": [
    "#rotate matrix 90 degree without imports\n",
    "z = [['a','b','c'],['d','e','f'],['g','h','i']] \n",
    "\n",
    "# a b c        g d a\n",
    "# d e f        h e b\n",
    "# g h i        i f c\n",
    "\n",
    "# rows = len(z[0])\n",
    "# cols = len(z)\n",
    "# rows,cols"
   ]
  },
  {
   "cell_type": "markdown",
   "metadata": {},
   "source": [
    "#### Method a"
   ]
  },
  {
   "cell_type": "code",
   "execution_count": 286,
   "metadata": {},
   "outputs": [
    {
     "data": {
      "text/plain": [
       "[['a', 'd', 'g'], ['b', 'e', 'h'], ['c', 'f', 'i']]"
      ]
     },
     "execution_count": 286,
     "metadata": {},
     "output_type": "execute_result"
    }
   ],
   "source": [
    "z = [['a','b','c'],['d','e','f'],['g','h','i']] \n",
    "\n",
    "# Transpose\n",
    "tr = list(map(list,zip(*z)))\n",
    "tr"
   ]
  },
  {
   "cell_type": "code",
   "execution_count": 287,
   "metadata": {},
   "outputs": [
    {
     "data": {
      "text/plain": [
       "[['g', 'd', 'a'], ['h', 'e', 'b'], ['i', 'f', 'c']]"
      ]
     },
     "execution_count": 287,
     "metadata": {},
     "output_type": "execute_result"
    }
   ],
   "source": [
    "# reverse all rows\n",
    "for i in tr:\n",
    "    i.reverse()\n",
    "tr"
   ]
  },
  {
   "cell_type": "code",
   "execution_count": 293,
   "metadata": {},
   "outputs": [
    {
     "data": {
      "text/plain": [
       "[['a', 'd', 'g'], ['b', 'e', 'h'], ['c', 'f', 'i']]"
      ]
     },
     "execution_count": 293,
     "metadata": {},
     "output_type": "execute_result"
    }
   ],
   "source": [
    "z = [['a','b','c'],['d','e','f'],['g','h','i']] \n",
    "\n",
    "# Transpose\n",
    "[list(i) for i in zip(*z)]"
   ]
  },
  {
   "cell_type": "code",
   "execution_count": 294,
   "metadata": {},
   "outputs": [
    {
     "data": {
      "text/plain": [
       "[['g', 'd', 'a'], ['h', 'e', 'b'], ['i', 'f', 'c']]"
      ]
     },
     "execution_count": 294,
     "metadata": {},
     "output_type": "execute_result"
    }
   ],
   "source": [
    "rot = []\n",
    "for i in tr:\n",
    "    rot.append(i[::-1])\n",
    "rot"
   ]
  },
  {
   "cell_type": "markdown",
   "metadata": {},
   "source": [
    "#### Method b"
   ]
  },
  {
   "cell_type": "code",
   "execution_count": 622,
   "metadata": {},
   "outputs": [
    {
     "data": {
      "text/plain": [
       "[['a', 'd', 'g'], ['b', 'e', 'h'], ['c', 'f', 'i']]"
      ]
     },
     "execution_count": 622,
     "metadata": {},
     "output_type": "execute_result"
    }
   ],
   "source": [
    "# Transpose\n",
    "tr = [list(i) for i in zip(*z)]\n",
    "tr"
   ]
  },
  {
   "cell_type": "code",
   "execution_count": 623,
   "metadata": {},
   "outputs": [
    {
     "data": {
      "text/plain": [
       "[['g', 'd', 'a'], ['h', 'e', 'b'], ['i', 'f', 'c']]"
      ]
     },
     "execution_count": 623,
     "metadata": {},
     "output_type": "execute_result"
    }
   ],
   "source": [
    "rev = []\n",
    "for i in tr:\n",
    "    rev.append(list(reversed(i)))\n",
    "rev"
   ]
  },
  {
   "cell_type": "markdown",
   "metadata": {},
   "source": [
    "#### Method c"
   ]
  },
  {
   "cell_type": "code",
   "execution_count": 634,
   "metadata": {},
   "outputs": [],
   "source": [
    "# transpose and reverse\n",
    "# [list(i) for i in zip(*z)]"
   ]
  },
  {
   "cell_type": "code",
   "execution_count": 635,
   "metadata": {},
   "outputs": [
    {
     "data": {
      "text/plain": [
       "[['g', 'd', 'a'], ['h', 'e', 'b'], ['i', 'f', 'c']]"
      ]
     },
     "execution_count": 635,
     "metadata": {},
     "output_type": "execute_result"
    }
   ],
   "source": [
    "[list(i)[::-1] for i in zip(*z)]"
   ]
  },
  {
   "cell_type": "code",
   "execution_count": null,
   "metadata": {},
   "outputs": [],
   "source": []
  },
  {
   "cell_type": "markdown",
   "metadata": {},
   "source": [
    "https://stackoverflow.com/questions/6473679/transpose-list-of-lists\n",
    "\n",
    "https://scipython.com/book/chapter-4-the-core-python-language-ii/examples/the-matrix-transpose-by-list-comprehension/\n",
    "\n",
    "https://realpython.com/copying-python-objects/\n",
    "\n",
    "https://stackoverflow.com/questions/41777333/how-to-reverse-a-list-without-modifying-the-original-list-in-python\n",
    "\n",
    "https://stackoverflow.com/questions/28684154/python-copy-a-list-of-lists\n",
    "\n",
    "https://stackoverflow.com/questions/2921847/what-does-the-star-operator-mean-in-a-function-call\n"
   ]
  },
  {
   "cell_type": "markdown",
   "metadata": {},
   "source": [
    "### Rotate Array\n",
    "https://leetcode.com/problems/rotate-array/\n",
    "https://leetcode.com/problems/rotate-array/solution/"
   ]
  },
  {
   "cell_type": "code",
   "execution_count": 652,
   "metadata": {},
   "outputs": [],
   "source": [
    "nums = [1,2,3,4,5,6,7]\n",
    "k = 3"
   ]
  },
  {
   "cell_type": "code",
   "execution_count": 653,
   "metadata": {},
   "outputs": [
    {
     "data": {
      "text/plain": [
       "[5, 6, 7, 1, 2, 3, 4]"
      ]
     },
     "execution_count": 653,
     "metadata": {},
     "output_type": "execute_result"
    }
   ],
   "source": [
    "# Method 1\n",
    "k = k % len(nums)\n",
    "for idx in range(1,k+1):\n",
    "    nums.insert(0, nums[-1])\n",
    "#     nums=nums[:-1]\n",
    "    nums.pop(-1)\n",
    "\n",
    "nums"
   ]
  },
  {
   "cell_type": "code",
   "execution_count": 657,
   "metadata": {},
   "outputs": [
    {
     "data": {
      "text/plain": [
       "[5, 6, 7, 1, 2, 3, 4]"
      ]
     },
     "execution_count": 657,
     "metadata": {},
     "output_type": "execute_result"
    }
   ],
   "source": [
    "# method 2\n",
    "# Before:[1, 2, 3, 4, 5, 6, 7]\n",
    "# After: [5, 6, 7, 1, 2, 3, 4]\n",
    "nums = [1,2,3,4,5,6,7]\n",
    "k = 3\n",
    "\n",
    "k %= len(nums)\n",
    "nums[:k], nums[k:] = nums[-k:],nums[:-k]\n",
    "nums"
   ]
  },
  {
   "cell_type": "code",
   "execution_count": 662,
   "metadata": {},
   "outputs": [
    {
     "data": {
      "text/plain": [
       "[6, 7, 1, 2, 3, 4, 5]"
      ]
     },
     "execution_count": 662,
     "metadata": {},
     "output_type": "execute_result"
    }
   ],
   "source": [
    "nums = [1,2,3,4,5,6,7]\n",
    "k = 2\n",
    "\n",
    "k %= len(nums)\n",
    "nums[:] = nums[-k:] + nums[:-k]\n",
    "nums"
   ]
  },
  {
   "cell_type": "code",
   "execution_count": 668,
   "metadata": {},
   "outputs": [],
   "source": [
    "# # Method 1\n",
    "\n",
    "# x = ['a',2,3,4,5,6,7]\n",
    "# nums = x[:]\n",
    "# k = 2\n",
    "\n",
    "# k = k % len(nums)\n",
    "# for idx in range(1,k+1):\n",
    "#     nums.insert(0, nums[-1])\n",
    "# #     nums=nums[:-1]\n",
    "#     nums.pop(-1)\n",
    "\n",
    "# nums"
   ]
  },
  {
   "cell_type": "markdown",
   "metadata": {},
   "source": [
    "### Flatten the list of lists:\n",
    "https://stackoverflow.com/questions/952914/how-to-make-a-flat-list-out-of-list-of-lists"
   ]
  },
  {
   "cell_type": "code",
   "execution_count": 669,
   "metadata": {},
   "outputs": [
    {
     "data": {
      "text/plain": [
       "['a', 'b', 'c', 'd', 'e', 'f', 'g', 'h', 'i']"
      ]
     },
     "execution_count": 669,
     "metadata": {},
     "output_type": "execute_result"
    }
   ],
   "source": [
    "z = [['a','b','c'],['d','e','f'],['g','h','i']] \n",
    "[elem for li in z for elem in li]"
   ]
  },
  {
   "cell_type": "code",
   "execution_count": 670,
   "metadata": {},
   "outputs": [
    {
     "data": {
      "text/plain": [
       "['a', 'b', 'c', 'd', 'e', 'f', 'g', 'h', 'i']"
      ]
     },
     "execution_count": 670,
     "metadata": {},
     "output_type": "execute_result"
    }
   ],
   "source": [
    "fl = []\n",
    "for li in z:\n",
    "    for element in li:\n",
    "        fl.append(element)\n",
    "fl"
   ]
  },
  {
   "cell_type": "markdown",
   "metadata": {},
   "source": [
    "### Contigious Array\n",
    "https://leetcode.com/problems/contiguous-array/"
   ]
  },
  {
   "cell_type": "code",
   "execution_count": null,
   "metadata": {},
   "outputs": [],
   "source": [
    "\n",
    "    "
   ]
  },
  {
   "cell_type": "markdown",
   "metadata": {},
   "source": [
    "### Larry's Array\n",
    "https://www.hackerrank.com/challenges/larrys-array/problem"
   ]
  },
  {
   "cell_type": "code",
   "execution_count": 298,
   "metadata": {},
   "outputs": [],
   "source": [
    "a = [3, 1, 2]  # [1, 2, 3]\n",
    "b = [1, 3, 4, 2]\n",
    "c = [1, 2, 3, 5, 4]"
   ]
  },
  {
   "cell_type": "code",
   "execution_count": null,
   "metadata": {},
   "outputs": [],
   "source": [
    "    \n",
    "    \n",
    "        \n",
    "        \n",
    "    "
   ]
  },
  {
   "cell_type": "markdown",
   "metadata": {},
   "source": [
    "### Stat 4: Binomial Distribution I\n",
    "https://www.hackerrank.com/challenges/s10-binomial-distribution-1/tutorial`\n"
   ]
  },
  {
   "cell_type": "code",
   "execution_count": 2,
   "metadata": {},
   "outputs": [],
   "source": [
    "import math\n",
    "import scipy.stats as stats\n",
    "from scipy.stats import binom \n",
    "from scipy.stats import poisson\n",
    "import random"
   ]
  },
  {
   "cell_type": "markdown",
   "metadata": {},
   "source": [
    "Task 1"
   ]
  },
  {
   "cell_type": "code",
   "execution_count": 4,
   "metadata": {},
   "outputs": [],
   "source": [
    "# Example\n",
    "# A fair coin is tossed 10 times. Find the following probabilities:\n",
    "# 1) Getting 5 heads.\n",
    "# 2) Getting at least 5 heads.\n",
    "# 3) Getting at most 5 heads. \n"
   ]
  },
  {
   "cell_type": "code",
   "execution_count": 8,
   "metadata": {},
   "outputs": [
    {
     "name": "stdout",
     "output_type": "stream",
     "text": [
      "0.24609375000000025\n",
      "0.6230468749999999\n",
      "0.6230468749999999\n"
     ]
    }
   ],
   "source": [
    "### 1) Getting 5 heads. \n",
    "print(binom.pmf(5,10,0.5))\n",
    "\n",
    "### 2) Getting at least 5 heads.\n",
    "print(binom.cdf(10,10,0.5)-binom.cdf(4,10,0.5)) # prob = binom.cdf(x, n, p)\n",
    "\n",
    "### 2) Getting at most 5 heads.\n",
    "print(binom.cdf(5,10,0.5))# prob = binom.cdf(x, n, p)\n"
   ]
  },
  {
   "cell_type": "markdown",
   "metadata": {},
   "source": [
    "Task 2. without any imports\n",
    "\n",
    "The ratio of boys to girls for babies born in Russia is 1.09:1. If there is 1 child born per birth, what proportion of Russian families with exactly 6 children will have at least 3 boys?\n",
    "Write a program to compute the answer using the above parameters. Then print your result, rounded to a scale of  decimal places (i.e.,  format).\n"
   ]
  },
  {
   "cell_type": "code",
   "execution_count": 21,
   "metadata": {},
   "outputs": [
    {
     "name": "stdout",
     "output_type": "stream",
     "text": [
      "1.09 1\n",
      "0.696\n"
     ]
    }
   ],
   "source": [
    "# Enter your code here. Read input from STDIN. Print output to STDOUT\n",
    "data = [float(x) for x in input().split()]\n",
    "p = data[0]/sum(data)\n",
    "\n",
    "def factorial(x):\n",
    "    factorial = 1\n",
    "    if x >= 1:\n",
    "        for i in range(1,x+1):\n",
    "            factorial *= i \n",
    "    return factorial\n",
    "\n",
    "def binom_pmf(x,n,p):\n",
    "    coef = factorial(n)/(factorial(x)*factorial(n-x))\n",
    "    prob = coef * (p**x) * ((1-p)**(n-x))\n",
    "    return prob\n",
    "\n",
    "cumm_prob = 0\n",
    "for i in range(3,6+1):\n",
    "    cumm_prob += binom_pmf(i,6,p=p)\n",
    "print(round(cumm_prob,3))  "
   ]
  },
  {
   "cell_type": "markdown",
   "metadata": {},
   "source": [
    "Task 3. without any imports\n",
    "\n",
    "Task \n",
    "A manufacturer of metal pistons finds that, on average, 12% of the pistons they manufacture are rejected because they are incorrectly sized. What is the probability that a batch of 10 pistons will contain:\n",
    "No more than 2 rejects?\n",
    "At least 2 rejects?"
   ]
  },
  {
   "cell_type": "code",
   "execution_count": 23,
   "metadata": {},
   "outputs": [
    {
     "name": "stdout",
     "output_type": "stream",
     "text": [
      "12 10\n",
      "0.891\n",
      "0.342\n"
     ]
    }
   ],
   "source": [
    "data = [float(x) for x in input().split()]\n",
    "p = data[0]/100\n",
    "n= int(data[1])\n",
    "\n",
    "def factorial(x):\n",
    "    factorial = 1\n",
    "    if x >= 1:\n",
    "        for i in range(1,x+1):\n",
    "            factorial *= i \n",
    "    return factorial\n",
    "\n",
    "def binom_pmf(x,n,p):\n",
    "    coef = factorial(n)/(factorial(x)*factorial(n-x))\n",
    "    prob = coef * (p**x) * ((1-p)**(n-x))\n",
    "    return prob\n",
    "\n",
    "def binom_cmf(lower,upper,n,p):\n",
    "    cumm_prob = 0\n",
    "    for i in range(lower,upper+1):\n",
    "        cumm_prob += binom_pmf(i,n,p)\n",
    "    return cumm_prob\n",
    "\n",
    "# no more than 2 rejects/defects:\n",
    "print(round(binom_cmf(0,2,n,p),3))  \n",
    "\n",
    "# at least 2 rejects/defects:\n",
    "print(round(binom_cmf(2,10,n,p),3))  "
   ]
  },
  {
   "cell_type": "code",
   "execution_count": 29,
   "metadata": {},
   "outputs": [
    {
     "data": {
      "text/plain": [
       "2.718281828459045"
      ]
     },
     "execution_count": 29,
     "metadata": {},
     "output_type": "execute_result"
    }
   ],
   "source": [
    "math.exp(1)"
   ]
  },
  {
   "cell_type": "code",
   "execution_count": 50,
   "metadata": {},
   "outputs": [],
   "source": [
    "# method 1\n",
    "def isMonotonic(A):\n",
    "    if A == sorted(A) or A == sorted(A, reverse=True):\n",
    "        return True\n",
    "    else:\n",
    "        return False\n",
    "        \n",
    "# method 2\n",
    "        \n",
    "def isMonotonic_2(A):\n",
    "    increasing = True\n",
    "    decreasing = True\n",
    "\n",
    "    for i in range(len(A) - 1):\n",
    "        if A[i] > A[i+1]:\n",
    "            increasing = False\n",
    "        if A[i] < A[i+1]:\n",
    "            decreasing = False\n",
    "#         print(increasing, decreasing)\n",
    "\n",
    "    return increasing or decreasing\n",
    "\n",
    "def isMonotonic_3(A):\n",
    "    return (all(A[i] <= A[i+1] for i in range(len(A) - 1)) or\n",
    "            all(A[i] >= A[i+1] for i in range(len(A) - 1)))"
   ]
  },
  {
   "cell_type": "code",
   "execution_count": null,
   "metadata": {},
   "outputs": [],
   "source": []
  },
  {
   "cell_type": "code",
   "execution_count": 56,
   "metadata": {},
   "outputs": [
    {
     "data": {
      "text/plain": [
       "True"
      ]
     },
     "execution_count": 56,
     "metadata": {},
     "output_type": "execute_result"
    }
   ],
   "source": [
    "a = [1,1,2,2,3,3,7]\n",
    "isMonotonic_3(a)\n"
   ]
  },
  {
   "cell_type": "code",
   "execution_count": 133,
   "metadata": {},
   "outputs": [
    {
     "data": {
      "text/plain": [
       "[2, 3, 1, 2]"
      ]
     },
     "execution_count": 133,
     "metadata": {},
     "output_type": "execute_result"
    }
   ],
   "source": [
    "arr = [3,1,1,2,5,5,2,2]\n",
    "s_arr = sorted(arr)\n",
    "\n",
    "dof = []\n",
    "count = 1\n",
    "for i in range(0,len(s_arr)-1):\n",
    "    if s_arr[i+1] == s_arr[i]:\n",
    "        count += 1\n",
    "    else:\n",
    "        dof.append(count)\n",
    "        count = 1\n",
    "dof.append(count)\n",
    "dof"
   ]
  },
  {
   "cell_type": "code",
   "execution_count": 134,
   "metadata": {},
   "outputs": [
    {
     "data": {
      "text/plain": [
       "[1, 2, 3, 5]"
      ]
     },
     "execution_count": 134,
     "metadata": {},
     "output_type": "execute_result"
    }
   ],
   "source": [
    "sorted(set(arr))"
   ]
  },
  {
   "cell_type": "code",
   "execution_count": 136,
   "metadata": {},
   "outputs": [
    {
     "data": {
      "text/plain": [
       "[2, 3, 1, 2]"
      ]
     },
     "execution_count": 136,
     "metadata": {},
     "output_type": "execute_result"
    }
   ],
   "source": [
    "dof"
   ]
  },
  {
   "cell_type": "code",
   "execution_count": 155,
   "metadata": {},
   "outputs": [],
   "source": [
    "def findShortestSubArray(nums):\n",
    "        cmap = {}\n",
    "        min_subarray  =  math.inf\n",
    "        for i, num in enumerate(nums):\n",
    "            if num not in cmap:\n",
    "                cmap[num] = [i]\n",
    "            else:\n",
    "                cmap[num].append(i)\n",
    "        degree = max([len(c) for c in cmap.values()])\n",
    "        for v in cmap.values():\n",
    "            if len(v)==degree:\n",
    "                subarray = v[-1]-v[0]\n",
    "                if subarray<min_subarray:\n",
    "                    min_subarray = subarray\n",
    "        return min_subarray+1"
   ]
  },
  {
   "cell_type": "code",
   "execution_count": 156,
   "metadata": {},
   "outputs": [
    {
     "data": {
      "text/plain": [
       "5"
      ]
     },
     "execution_count": 156,
     "metadata": {},
     "output_type": "execute_result"
    }
   ],
   "source": [
    "findShortestSubArray(nums=arr)"
   ]
  },
  {
   "cell_type": "code",
   "execution_count": 145,
   "metadata": {},
   "outputs": [
    {
     "data": {
      "text/plain": [
       "[3, 1, 1, 2, 5, 5, 2, 2]"
      ]
     },
     "execution_count": 145,
     "metadata": {},
     "output_type": "execute_result"
    }
   ],
   "source": [
    "arr"
   ]
  },
  {
   "cell_type": "code",
   "execution_count": 207,
   "metadata": {},
   "outputs": [],
   "source": [
    "cmap = {}\n",
    "for i, num in enumerate(arr):\n",
    "    if num not in cmap:\n",
    "        cmap[num] = [i]\n",
    "    else:\n",
    "        cmap[num].append(i)\n"
   ]
  },
  {
   "cell_type": "code",
   "execution_count": 208,
   "metadata": {},
   "outputs": [
    {
     "data": {
      "text/plain": [
       "{3: [0], 1: [1, 2], 2: [3, 6, 7], 5: [4, 5]}"
      ]
     },
     "execution_count": 208,
     "metadata": {},
     "output_type": "execute_result"
    }
   ],
   "source": [
    "cmap"
   ]
  },
  {
   "cell_type": "code",
   "execution_count": 153,
   "metadata": {},
   "outputs": [
    {
     "data": {
      "text/plain": [
       "3"
      ]
     },
     "execution_count": 153,
     "metadata": {},
     "output_type": "execute_result"
    }
   ],
   "source": [
    "max([len(i) for i in cmap.values()])"
   ]
  },
  {
   "cell_type": "code",
   "execution_count": 157,
   "metadata": {},
   "outputs": [
    {
     "data": {
      "text/plain": [
       "[3, 1, 1, 2, 5, 5, 2, 2]"
      ]
     },
     "execution_count": 157,
     "metadata": {},
     "output_type": "execute_result"
    }
   ],
   "source": [
    "arr"
   ]
  },
  {
   "cell_type": "code",
   "execution_count": 154,
   "metadata": {},
   "outputs": [
    {
     "data": {
      "text/plain": [
       "dict_values([[0], [1, 2], [3, 6, 7], [4, 5]])"
      ]
     },
     "execution_count": 154,
     "metadata": {},
     "output_type": "execute_result"
    }
   ],
   "source": [
    "cmap.values()"
   ]
  },
  {
   "cell_type": "code",
   "execution_count": 158,
   "metadata": {},
   "outputs": [
    {
     "name": "stdout",
     "output_type": "stream",
     "text": [
      "0\n",
      "1\n",
      "4\n",
      "1\n"
     ]
    }
   ],
   "source": [
    "for v in cmap.values():\n",
    "    print(v[-1]-v[0])\n",
    "    \n",
    "    "
   ]
  },
  {
   "cell_type": "code",
   "execution_count": 219,
   "metadata": {},
   "outputs": [
    {
     "data": {
      "text/plain": [
       "[3, 1, 1, 2, 5, 5, 2, 2]"
      ]
     },
     "execution_count": 219,
     "metadata": {},
     "output_type": "execute_result"
    }
   ],
   "source": [
    "arr"
   ]
  },
  {
   "cell_type": "code",
   "execution_count": 222,
   "metadata": {},
   "outputs": [
    {
     "data": {
      "text/plain": [
       "{3: [0], 1: [1, 2], 2: [3, 6, 7], 5: [4, 5]}"
      ]
     },
     "execution_count": 222,
     "metadata": {},
     "output_type": "execute_result"
    }
   ],
   "source": [
    "# pos = {3: [0], 1: [1, 2], 2: [3, 6, 7], 5: [4, 5]}\n",
    "# arr = [3, 1, 1, 2, 5, 5, 2, 2]\n",
    "\n",
    "pos = {}\n",
    "\n",
    "for idx,number in enumerate(arr):\n",
    "    if number not in pos.keys():\n",
    "        pos[number] = [idx]\n",
    "    else:\n",
    "        pos[number].append(idx)\n",
    "pos\n",
    "        "
   ]
  },
  {
   "cell_type": "code",
   "execution_count": 229,
   "metadata": {},
   "outputs": [
    {
     "data": {
      "text/plain": [
       "3"
      ]
     },
     "execution_count": 229,
     "metadata": {},
     "output_type": "execute_result"
    }
   ],
   "source": [
    "rep = max([len(i) for i in pos.values()])\n",
    "rep"
   ]
  },
  {
   "cell_type": "code",
   "execution_count": 232,
   "metadata": {},
   "outputs": [
    {
     "data": {
      "text/plain": [
       "([5], 5)"
      ]
     },
     "execution_count": 232,
     "metadata": {},
     "output_type": "execute_result"
    }
   ],
   "source": [
    "length = []\n",
    "for i in pos.values():\n",
    "    if len(i)==rep:\n",
    "        rep_len = i[-1] - i[0] + 1\n",
    "        length.append(rep_len)\n",
    "\n",
    "length, min(length)\n",
    "\n",
    "# length = 50000\n",
    "        "
   ]
  },
  {
   "cell_type": "markdown",
   "metadata": {},
   "source": [
    "### 561. Array Partition I\n",
    "\n",
    "https://leetcode.com/problems/array-partition-i/"
   ]
  },
  {
   "cell_type": "code",
   "execution_count": 295,
   "metadata": {},
   "outputs": [],
   "source": [
    "nums = [1,4,3,2]\n",
    "nums = [6,2,6,5,1,2]\n",
    "sort_nums =sorted(nums)\n",
    "# sorted(nums) [1,2,3,4]\n",
    "# pairs = 1 & 2, 1 & 3, 1 & 4, 2 & 3, 2 & 4, 3 & 4\n",
    "\n",
    "# 1,2, 3,4, 5,6\n",
    "# 1,2, 3,5, 4,6\n",
    "# 1,2, 3,6, 4,5\n",
    "#\n",
    "# 1,6"
   ]
  },
  {
   "cell_type": "code",
   "execution_count": 296,
   "metadata": {},
   "outputs": [
    {
     "data": {
      "text/plain": [
       "[1, 2, 2, 5, 6, 6]"
      ]
     },
     "execution_count": 296,
     "metadata": {},
     "output_type": "execute_result"
    }
   ],
   "source": [
    "n = len(nums)/2 # number of pairs\n",
    "\n",
    "sum([i for i in sorted(nums)[::2]])\n",
    "sorted(nums)"
   ]
  },
  {
   "cell_type": "code",
   "execution_count": 297,
   "metadata": {},
   "outputs": [
    {
     "data": {
      "text/plain": [
       "[1, 2, 6]"
      ]
     },
     "execution_count": 297,
     "metadata": {},
     "output_type": "execute_result"
    }
   ],
   "source": [
    "sorted(nums)[::2]"
   ]
  },
  {
   "cell_type": "markdown",
   "metadata": {},
   "source": [
    "### Find median of two combined arrays:\n"
   ]
  },
  {
   "cell_type": "code",
   "execution_count": 254,
   "metadata": {},
   "outputs": [
    {
     "data": {
      "text/plain": [
       "[1, 2, 3, 4, 5, 6]"
      ]
     },
     "execution_count": 254,
     "metadata": {},
     "output_type": "execute_result"
    }
   ],
   "source": [
    "a = [1,2,3]\n",
    "b = [4,5,6]\n",
    "c = sorted(a + b)\n",
    "c"
   ]
  },
  {
   "cell_type": "code",
   "execution_count": 256,
   "metadata": {},
   "outputs": [
    {
     "data": {
      "text/plain": [
       "3"
      ]
     },
     "execution_count": 256,
     "metadata": {},
     "output_type": "execute_result"
    }
   ],
   "source": [
    "n = len(c)//2\n",
    "n"
   ]
  },
  {
   "cell_type": "code",
   "execution_count": 257,
   "metadata": {},
   "outputs": [
    {
     "data": {
      "text/plain": [
       "3.5"
      ]
     },
     "execution_count": 257,
     "metadata": {},
     "output_type": "execute_result"
    }
   ],
   "source": [
    "median = (c[n]+c[-(n+1)])/2\n",
    "median"
   ]
  },
  {
   "cell_type": "markdown",
   "metadata": {},
   "source": [
    "### 23. Merge k Sorted Lists\n",
    "\n",
    "https://leetcode.com/problems/merge-k-sorted-lists/"
   ]
  },
  {
   "cell_type": "code",
   "execution_count": 266,
   "metadata": {},
   "outputs": [],
   "source": [
    "lists = [[1,4,5],[1,3,4],[2,6]]"
   ]
  },
  {
   "cell_type": "code",
   "execution_count": 267,
   "metadata": {},
   "outputs": [
    {
     "data": {
      "text/plain": [
       "[1, 1, 2, 3, 4, 4, 5, 6]"
      ]
     },
     "execution_count": 267,
     "metadata": {},
     "output_type": "execute_result"
    }
   ],
   "source": [
    "sorted([j for i in lists for j in i])"
   ]
  },
  {
   "cell_type": "markdown",
   "metadata": {},
   "source": [
    "### 61. Rotate List\n",
    "\n",
    "https://leetcode.com/problems/rotate-list/"
   ]
  },
  {
   "cell_type": "code",
   "execution_count": 271,
   "metadata": {},
   "outputs": [
    {
     "data": {
      "text/plain": [
       "[1, 1, 2, 3, 4, 4, 5, 6]"
      ]
     },
     "execution_count": 271,
     "metadata": {},
     "output_type": "execute_result"
    }
   ],
   "source": [
    "a = sorted([j for i in lists for j in i])\n",
    "a"
   ]
  },
  {
   "cell_type": "code",
   "execution_count": 273,
   "metadata": {},
   "outputs": [
    {
     "data": {
      "text/plain": [
       "[3, 4, 4, 5, 6, 1, 1, 2]"
      ]
     },
     "execution_count": 273,
     "metadata": {},
     "output_type": "execute_result"
    }
   ],
   "source": [
    "k = 5\n",
    "a[-k:] + a[:-k]"
   ]
  },
  {
   "cell_type": "markdown",
   "metadata": {},
   "source": [
    "### 7. Reverse Integer\n",
    "\n",
    "https://leetcode.com/problems/reverse-integer/\n",
    "\n",
    "x   = 321\n",
    "rev = 123"
   ]
  },
  {
   "cell_type": "code",
   "execution_count": 386,
   "metadata": {},
   "outputs": [
    {
     "data": {
      "text/plain": [
       "'75210'"
      ]
     },
     "execution_count": 386,
     "metadata": {},
     "output_type": "execute_result"
    }
   ],
   "source": [
    "x = 75210\n",
    "str(x)"
   ]
  },
  {
   "cell_type": "code",
   "execution_count": 388,
   "metadata": {},
   "outputs": [
    {
     "data": {
      "text/plain": [
       "[7, 5, 2, 1, 0]"
      ]
     },
     "execution_count": 388,
     "metadata": {},
     "output_type": "execute_result"
    }
   ],
   "source": [
    "li_x = [int(i) for i in str(x)]\n",
    "li_x"
   ]
  },
  {
   "cell_type": "code",
   "execution_count": 389,
   "metadata": {},
   "outputs": [
    {
     "data": {
      "text/plain": [
       "1257"
      ]
     },
     "execution_count": 389,
     "metadata": {},
     "output_type": "execute_result"
    }
   ],
   "source": [
    "a = 0\n",
    "for i,j in enumerate(li_x):\n",
    "    a += 10**(i)*j\n",
    "a"
   ]
  },
  {
   "cell_type": "code",
   "execution_count": 413,
   "metadata": {},
   "outputs": [],
   "source": [
    "# method 1\n",
    "def reverse(x):\n",
    "    ### use string to reverse integer\n",
    "    li_x = [int(i) for i in str(abs(x))]\n",
    "    a = 0\n",
    "    for i,j in enumerate(li_x):\n",
    "        a += 10**(i)*j\n",
    "        \n",
    "    if x >= 0 and a <=2**31-1: # condition that reverse with int_32\n",
    "        return a\n",
    "    elif x < 0 and -a >= -2**31: # condition that reverse with int_32\n",
    "        return -a\n",
    "    else:\n",
    "        return 0 # when revesre is outside int_32 boundary"
   ]
  },
  {
   "cell_type": "code",
   "execution_count": 414,
   "metadata": {},
   "outputs": [
    {
     "data": {
      "text/plain": [
       "(0, 463847412, -41, 41)"
      ]
     },
     "execution_count": 414,
     "metadata": {},
     "output_type": "execute_result"
    }
   ],
   "source": [
    "reverse(-2147483648), reverse(2147483640), reverse(-140), reverse(140)"
   ]
  },
  {
   "cell_type": "code",
   "execution_count": 415,
   "metadata": {},
   "outputs": [],
   "source": [
    "#method 2\n",
    "def reverse(x):\n",
    "    ### use string to reverse integer\n",
    "    a = int(str(abs(x))[::-1])\n",
    "    if x >= 0 and a <=2**31-1: # condition that reverse with int_32\n",
    "        return a\n",
    "    elif x < 0 and -a >= -2**31: # condition that reverse with int_32\n",
    "        return -a\n",
    "    else:\n",
    "        return 0 # when revesre is outside int_32 boundary"
   ]
  },
  {
   "cell_type": "code",
   "execution_count": 416,
   "metadata": {},
   "outputs": [
    {
     "data": {
      "text/plain": [
       "(0, 463847412, -41, 41)"
      ]
     },
     "execution_count": 416,
     "metadata": {},
     "output_type": "execute_result"
    }
   ],
   "source": [
    "reverse(-2147483648), reverse(2147483640), reverse(-140), reverse(140)"
   ]
  },
  {
   "cell_type": "markdown",
   "metadata": {},
   "source": [
    "### 9. Palindrome Number\n",
    "\n",
    "https://leetcode.com/problems/palindrome-number/"
   ]
  },
  {
   "cell_type": "code",
   "execution_count": 419,
   "metadata": {},
   "outputs": [],
   "source": [
    "x = 1221\n",
    "\n",
    "# if x >= 0:\n",
    "    \n",
    "    "
   ]
  },
  {
   "cell_type": "code",
   "execution_count": 437,
   "metadata": {},
   "outputs": [],
   "source": [
    "def palindrome_1(x):\n",
    "    if x > 0:\n",
    "        current = x\n",
    "        rev_list = []\n",
    "        while current > 0:\n",
    "            rev_list.append(current%10)\n",
    "            current //= 10\n",
    "        return rev_list == rev_list[::-1]\n",
    "    elif x == 0:\n",
    "        return True\n",
    "    return False"
   ]
  },
  {
   "cell_type": "code",
   "execution_count": 438,
   "metadata": {},
   "outputs": [],
   "source": [
    "def palindrome_2(x):\n",
    "    if x < 0:\n",
    "        return False\n",
    "    elif x == 0:\n",
    "        return True\n",
    "    else:\n",
    "        current = x\n",
    "        rev = 0\n",
    "        while current > 0:\n",
    "            rev = rev * 10 + current % 10\n",
    "            current //= 10\n",
    "        if rev == x:\n",
    "            return True\n",
    "        return False"
   ]
  },
  {
   "cell_type": "code",
   "execution_count": 444,
   "metadata": {},
   "outputs": [
    {
     "data": {
      "text/plain": [
       "(False, False, True, True)"
      ]
     },
     "execution_count": 444,
     "metadata": {},
     "output_type": "execute_result"
    }
   ],
   "source": [
    "palindrome_1(-10),palindrome_1(1210),palindrome_1(2332), palindrome_1(0)"
   ]
  },
  {
   "cell_type": "code",
   "execution_count": 445,
   "metadata": {},
   "outputs": [
    {
     "data": {
      "text/plain": [
       "(False, False, True, True)"
      ]
     },
     "execution_count": 445,
     "metadata": {},
     "output_type": "execute_result"
    }
   ],
   "source": [
    "palindrome_2(-10),palindrome_2(1210),palindrome_2(2332), palindrome_2(0)"
   ]
  },
  {
   "cell_type": "markdown",
   "metadata": {},
   "source": [
    "### 1266. Minimum Time Visiting All Points\n",
    "\n",
    "On a plane there are n points with integer coordinates points[i] = [xi, yi]. Your task is to find the minimum time in seconds to visit all points.\n",
    "\n",
    "You can move according to the next rules:\n",
    "\n",
    "In one second always you can either move vertically, horizontally by one unit or diagonally (it means to move one unit vertically and one unit horizontally in one second).\n",
    "You have to visit the points in the same order as they appear in the array.\n",
    "https://leetcode.com/problems/minimum-time-visiting-all-points/"
   ]
  },
  {
   "cell_type": "code",
   "execution_count": 2,
   "metadata": {},
   "outputs": [
    {
     "data": {
      "text/plain": [
       "[[1, 1], [3, 4], [-1, 0]]"
      ]
     },
     "execution_count": 2,
     "metadata": {},
     "output_type": "execute_result"
    }
   ],
   "source": [
    "points = [[1,1],[3,4],[-1,0]]\n",
    "points"
   ]
  },
  {
   "cell_type": "code",
   "execution_count": 6,
   "metadata": {},
   "outputs": [],
   "source": [
    "def min_two_points(a,b):\n",
    "    # minimum distance between two pionts\n",
    "    horiz = abs(a[0]-b[0])\n",
    "    vert = abs(a[1]-b[1])\n",
    "    if horiz == vert:\n",
    "        return horiz\n",
    "    else:\n",
    "        return min(horiz,vert) + abs(horiz-vert) "
   ]
  },
  {
   "cell_type": "code",
   "execution_count": 7,
   "metadata": {},
   "outputs": [
    {
     "data": {
      "text/plain": [
       "3"
      ]
     },
     "execution_count": 7,
     "metadata": {},
     "output_type": "execute_result"
    }
   ],
   "source": [
    "min_two_points(points[1],points[0])"
   ]
  },
  {
   "cell_type": "code",
   "execution_count": 8,
   "metadata": {},
   "outputs": [],
   "source": [
    "def min_all_points(points):\n",
    "    total = 0\n",
    "    for i in range(len(points)-1):\n",
    "        total += min_two_points(points[i],points[i+1])\n",
    "    return total"
   ]
  },
  {
   "cell_type": "code",
   "execution_count": 9,
   "metadata": {},
   "outputs": [
    {
     "data": {
      "text/plain": [
       "7"
      ]
     },
     "execution_count": 9,
     "metadata": {},
     "output_type": "execute_result"
    }
   ],
   "source": [
    "min_all_points(points)"
   ]
  },
  {
   "cell_type": "markdown",
   "metadata": {},
   "source": [
    "### 1470. Shuffle the Array\n",
    "https://leetcode.com/problems/shuffle-the-array/"
   ]
  },
  {
   "cell_type": "code",
   "execution_count": 1,
   "metadata": {},
   "outputs": [],
   "source": [
    "nums = [2,5,1,3,4,7]\n",
    "n = len(nums)//2"
   ]
  },
  {
   "cell_type": "code",
   "execution_count": 5,
   "metadata": {},
   "outputs": [
    {
     "data": {
      "text/plain": [
       "[2, 3, 5, 4, 1, 7]"
      ]
     },
     "execution_count": 5,
     "metadata": {},
     "output_type": "execute_result"
    }
   ],
   "source": [
    "shuffle = []\n",
    "for i in range(n):\n",
    "    shuffle.append(nums[i])\n",
    "    shuffle.append(nums[i+n])\n",
    "shuffle"
   ]
  },
  {
   "cell_type": "code",
   "execution_count": 6,
   "metadata": {},
   "outputs": [],
   "source": [
    "def shuffle(nums,n):\n",
    "    shuffle = []\n",
    "    for i in range(n):\n",
    "        shuffle.append(nums[i])\n",
    "        shuffle.append(nums[i+n])\n",
    "    return shuffle"
   ]
  },
  {
   "cell_type": "code",
   "execution_count": 11,
   "metadata": {},
   "outputs": [
    {
     "data": {
      "text/plain": [
       "[1, 2, 1, 2]"
      ]
     },
     "execution_count": 11,
     "metadata": {},
     "output_type": "execute_result"
    }
   ],
   "source": [
    "shuffle([1,1,2,2], 2)"
   ]
  },
  {
   "cell_type": "markdown",
   "metadata": {},
   "source": [
    "### 1512. Number of Good Pairs\n",
    "https://leetcode.com/problems/number-of-good-pairs/"
   ]
  },
  {
   "cell_type": "code",
   "execution_count": 18,
   "metadata": {},
   "outputs": [],
   "source": [
    "nums = [1,2,3,1,1,3]\n",
    "# nums = [1,1,1,1]\n",
    "# nums= [1,2,3]\n",
    "n = len(nums)"
   ]
  },
  {
   "cell_type": "code",
   "execution_count": 19,
   "metadata": {},
   "outputs": [
    {
     "data": {
      "text/plain": [
       "4"
      ]
     },
     "execution_count": 19,
     "metadata": {},
     "output_type": "execute_result"
    }
   ],
   "source": [
    "res = 0\n",
    "for i in range(n):\n",
    "    j = i + 1\n",
    "    while j <= (n-1):\n",
    "        if nums[i] == nums[j]:\n",
    "            res += 1\n",
    "        j += 1\n",
    "res\n",
    "        \n",
    "            "
   ]
  },
  {
   "cell_type": "code",
   "execution_count": 20,
   "metadata": {},
   "outputs": [],
   "source": [
    "def pairs(nums):    \n",
    "    res = 0\n",
    "    for i in range(n):\n",
    "        j = i + 1\n",
    "        while j <= (n-1):\n",
    "            if nums[i] == nums[j]:\n",
    "                res += 1\n",
    "            j += 1\n",
    "    return res"
   ]
  },
  {
   "cell_type": "code",
   "execution_count": 21,
   "metadata": {},
   "outputs": [
    {
     "data": {
      "text/plain": [
       "4"
      ]
     },
     "execution_count": 21,
     "metadata": {},
     "output_type": "execute_result"
    }
   ],
   "source": [
    "pairs([1,2,3,1,1,3])\n"
   ]
  },
  {
   "cell_type": "code",
   "execution_count": 39,
   "metadata": {},
   "outputs": [],
   "source": [
    "def pairs_2(nums):\n",
    "    di = {}\n",
    "    res = 0\n",
    "    for num in nums:\n",
    "        if num in di.keys():\n",
    "            res += di[num]\n",
    "            di[num] += 1\n",
    "            \n",
    "        else:\n",
    "            di[num] = 1\n",
    "#         print(num,res)\n",
    "    return res"
   ]
  },
  {
   "cell_type": "code",
   "execution_count": 40,
   "metadata": {},
   "outputs": [
    {
     "data": {
      "text/plain": [
       "4"
      ]
     },
     "execution_count": 40,
     "metadata": {},
     "output_type": "execute_result"
    }
   ],
   "source": [
    "pairs_2([1,2,3,1,1,3])\n"
   ]
  },
  {
   "cell_type": "markdown",
   "metadata": {},
   "source": [
    "### 1636. Sort Array by Increasing Frequency\n",
    "\n",
    "https://leetcode.com/problems/sort-array-by-increasing-frequency/"
   ]
  },
  {
   "cell_type": "code",
   "execution_count": 45,
   "metadata": {},
   "outputs": [],
   "source": [
    "nums = [1,1,2,2,2,3]"
   ]
  },
  {
   "cell_type": "code",
   "execution_count": 52,
   "metadata": {},
   "outputs": [],
   "source": [
    "    "
   ]
  },
  {
   "cell_type": "code",
   "execution_count": 53,
   "metadata": {},
   "outputs": [
    {
     "data": {
      "text/plain": [
       "[3, 1, 1, 2, 2, 2]"
      ]
     },
     "execution_count": 53,
     "metadata": {},
     "output_type": "execute_result"
    }
   ],
   "source": [
    "sorted(nums, key= lambda x:(nums.count(x),-x))"
   ]
  },
  {
   "cell_type": "markdown",
   "metadata": {},
   "source": [
    "### 697. Degree of an Array\n",
    "\n",
    "https://leetcode.com/problems/degree-of-an-array/\n",
    "\n",
    "Given a non-empty array of non-negative integers nums, the degree of this array is defined as the maximum frequency of any one of its elements.\n",
    "\n",
    "Your task is to find the smallest possible length of a (contiguous) subarray of nums, that has the same degree as nums.\n",
    "\n"
   ]
  },
  {
   "cell_type": "code",
   "execution_count": 83,
   "metadata": {},
   "outputs": [
    {
     "data": {
      "text/plain": [
       "[1, 1, 2, 2, 2, 3, 4]"
      ]
     },
     "execution_count": 83,
     "metadata": {},
     "output_type": "execute_result"
    }
   ],
   "source": [
    "nums = [1,2,2,3,1]\n",
    "nums = [1,2,2,3,1,4,2]\n",
    "sorted(nums)"
   ]
  },
  {
   "cell_type": "code",
   "execution_count": 84,
   "metadata": {},
   "outputs": [
    {
     "data": {
      "text/plain": [
       "{1: [2, 0, 4], 2: [3, 1, 6], 3: [1, 3, 3], 4: [1, 5, 5]}"
      ]
     },
     "execution_count": 84,
     "metadata": {},
     "output_type": "execute_result"
    }
   ],
   "source": [
    "di = {}\n",
    "for idx, num in enumerate(nums):\n",
    "    if num not in di:\n",
    "        di[num] = [1,idx,idx]\n",
    "    else:\n",
    "        di[num] = [di[num][0]+1, di[num][1], idx]\n",
    "di"
   ]
  },
  {
   "cell_type": "code",
   "execution_count": 89,
   "metadata": {},
   "outputs": [
    {
     "data": {
      "text/plain": [
       "(3, 6)"
      ]
     },
     "execution_count": 89,
     "metadata": {},
     "output_type": "execute_result"
    }
   ],
   "source": [
    "freq = list(di.values())[0][0] # frequency of 1st element\n",
    "length = list(di.values())[0][-1] - list(di.values())[0][1] + 1 # length of 1st element\n",
    "\n",
    "for v in di.values():\n",
    "    if v[0] > freq:\n",
    "        freq = v[0]\n",
    "        length = v[-1]-v[1]+1\n",
    "    elif v[0] == freq:\n",
    "        length = min(length, v[-1]-v[1]+1) \n",
    "        \n",
    "freq,length"
   ]
  },
  {
   "cell_type": "code",
   "execution_count": 90,
   "metadata": {},
   "outputs": [],
   "source": [
    "# as function\n",
    "def findShortestSubArray(nums):\n",
    "    di = {}\n",
    "    for idx, num in enumerate(nums):\n",
    "        if num not in di:\n",
    "            di[num] = [1,idx,idx]\n",
    "        else:\n",
    "            di[num] = [di[num][0]+1, di[num][1], idx]\n",
    "        \n",
    "    freq = list(di.values())[0][0]\n",
    "    length = list(di.values())[0][-1] - list(di.values())[0][1] + 1\n",
    "\n",
    "    for v in di.values():\n",
    "        if v[0] > freq:\n",
    "            freq = v[0]\n",
    "            length = v[-1]-v[1]+1\n",
    "        elif v[0] == freq:\n",
    "            length = min(length, v[-1]-v[1]+1)\n",
    "    return length"
   ]
  },
  {
   "cell_type": "code",
   "execution_count": 91,
   "metadata": {},
   "outputs": [
    {
     "data": {
      "text/plain": [
       "(2, 6)"
      ]
     },
     "execution_count": 91,
     "metadata": {},
     "output_type": "execute_result"
    }
   ],
   "source": [
    "findShortestSubArray([1,2,2,3,1]),findShortestSubArray([1,2,2,3,1,4,2])"
   ]
  },
  {
   "cell_type": "markdown",
   "metadata": {},
   "source": [
    "### 1122. Relative Sort Array\n",
    "\n",
    "Given two arrays arr1 and arr2, the elements of arr2 are distinct, and all elements in arr2 are also in arr1.\n",
    "\n",
    "Sort the elements of arr1 such that the relative ordering of items in arr1 are the same as in arr2.  Elements that don't appear in arr2 should be placed at the end of arr1 in ascending order.\n",
    "\n",
    "https://leetcode.com/problems/relative-sort-array/\n",
    "\n",
    "Input: arr1 = [2,3,1,3,2,4,6,7,9,2,19], arr2 = [2,1,4,3,9,6]\n",
    "\n",
    "Output: [2,2,2,1,4,3,3,9,6,7,19]"
   ]
  },
  {
   "cell_type": "code",
   "execution_count": 37,
   "metadata": {},
   "outputs": [],
   "source": [
    "arr1 = [2,3,1,3,2,4,6,7,9,2,19]\n",
    "arr2 = [2,1,4,3,9,6]"
   ]
  },
  {
   "cell_type": "code",
   "execution_count": 48,
   "metadata": {},
   "outputs": [
    {
     "data": {
      "text/plain": [
       "[2, 2, 2, 1, 4, 3, 3, 9, 6, 7, 19]"
      ]
     },
     "execution_count": 48,
     "metadata": {},
     "output_type": "execute_result"
    }
   ],
   "source": [
    "c = []\n",
    "for x in arr2:\n",
    "    count = arr1.count(x)\n",
    "    c.append(count*[x])\n",
    "\n",
    "c2 = []\n",
    "for x in arr1:\n",
    "    if x not in arr2:\n",
    "        c2.append(x)\n",
    "c2 = sorted(c2)\n",
    "\n",
    "c.append(c2)\n",
    "\n",
    "c = [item for sublist in c for item in sublist]\n",
    "c"
   ]
  },
  {
   "cell_type": "code",
   "execution_count": 49,
   "metadata": {},
   "outputs": [],
   "source": [
    "# https://stackoverflow.com/questions/952914/how-to-make-a-flat-list-out-of-list-of-lists"
   ]
  },
  {
   "cell_type": "markdown",
   "metadata": {},
   "source": [
    "### 1093. Statistics from a Large Sample\n",
    "\n",
    "We sampled integers between 0 and 255, and stored the results in an array count:  count[k] is the number of integers we sampled equal to k.\n",
    "\n",
    "Return the minimum, maximum, mean, median, and mode of the sample respectively, as an array of floating point numbers.  The mode is guaranteed to be unique.\n",
    "\n",
    "(Recall that the median of a sample is:\n",
    "\n",
    "The middle element, if the elements of the sample were sorted and the number of elements is odd;\n",
    "The average of the middle two elements, if the elements of the sample were sorted and the number of elements is even.)\n",
    "\n",
    "https://leetcode.com/problems/statistics-from-a-large-sample/"
   ]
  },
  {
   "cell_type": "markdown",
   "metadata": {},
   "source": [
    "Input: \n",
    "\n",
    "count = [0,1,3,4,0,0,0,0,0,0,0,0,0,0,0,0,0,0,0,0,0,0,0,0,0,0,0,0,0,0,0,0,0,0,0,0,0,0,0,0,0,0,0,0,0,0,0,0,0,0,0,0,0,0,0,0,0,0,0,0,0,0,0,0,0,0,0,0,0,0,0,0,0,0,0,0,0,0,0,0,0,0,0,0,0,0,0,0,0,0,0,0,0,0,0,0,0,0,0,0,0,0,0,0,0,0,0,0,0,0,0,0,0,0,0,0,0,0,0,0,0,0,0,0,0,0,0,0,0,0,0,0,0,0,0,0,0,0,0,0,0,0,0,0,0,0,0,0,0,0,0,0,0,0,0,0,0,0,0,0,0,0,0,0,0,0,0,0,0,0,0,0,0,0,0,0,0,0,0,0,0,0,0,0,0,0,0,0,0,0,0,0,0,0,0,0,0,0,0,0,0,0,0,0,0,0,0,0,0,0,0,0,0,0,0,0,0,0,0,0,0,0,0,0,0,0,0,0,0,0,0,0,0,0,0,0,0,0,0,0,0,0,0,0,0,0,0,0,0,0,0,0,0,0,0,0]\n",
    "Output: \n",
    "[1.00000,3.00000,2.37500,2.50000,3.00000]"
   ]
  },
  {
   "cell_type": "code",
   "execution_count": 69,
   "metadata": {},
   "outputs": [
    {
     "data": {
      "text/plain": [
       "256"
      ]
     },
     "execution_count": 69,
     "metadata": {},
     "output_type": "execute_result"
    }
   ],
   "source": [
    "count = [0,1,3,4,0,0,0,0,0,0,0,0,0,0,0,0,0,0,0,0,0,0,0,0,0,0,0,0,0,0,0,0,0,0,0,\n",
    "         0,0,0,0,0,0,0,0,0,0,0,0,0,0,0,0,0,0,0,0,0,0,0,0,0,0,0,0,0,0,0,0,0,0,0,\n",
    "         0,0,0,0,0,0,0,0,0,0,0,0,0,0,0,0,0,0,0,0,0,0,0,0,0,0,0,0,0,0,0,0,0,0,0,\n",
    "         0,0,0,0,0,0,0,0,0,0,0,0,0,0,0,0,0,0,0,0,0,0,0,0,0,0,0,0,0,0,0,0,0,0,0,\n",
    "         0,0,0,0,0,0,0,0,0,0,0,0,0,0,0,0,0,0,0,0,0,0,0,0,0,0,0,0,0,0,0,0,0,0,0,\n",
    "         0,0,0,0,0,0,0,0,0,0,0,0,0,0,0,0,0,0,0,0,0,0,0,0,0,0,0,0,0,0,0,0,0,0,0,\n",
    "         0,0,0,0,0,0,0,0,0,0,0,0,0,0,0,0,0,0,0,0,0,0,0,0,0,0,0,0,0,0,0,0,0,0,0,\n",
    "         0,0,0,0,0,0,0,0,0,0,0]\n",
    "len(count)"
   ]
  },
  {
   "cell_type": "markdown",
   "metadata": {},
   "source": [
    "#### Method 1. Brute force approach"
   ]
  },
  {
   "cell_type": "code",
   "execution_count": 3,
   "metadata": {},
   "outputs": [
    {
     "data": {
      "text/plain": [
       "[1.0, 2.0, 2.0, 2.0, 3.0, 3.0, 3.0, 3.0]"
      ]
     },
     "execution_count": 3,
     "metadata": {},
     "output_type": "execute_result"
    }
   ],
   "source": [
    "# array will be sorted:\n",
    "arr = [] \n",
    "for i,v in enumerate(count):\n",
    "    if v != 0:\n",
    "        for x in range(1,v+1):\n",
    "            arr.append(float(i))\n",
    "arr"
   ]
  },
  {
   "cell_type": "code",
   "execution_count": 4,
   "metadata": {},
   "outputs": [],
   "source": [
    "def median(arr):\n",
    "    n = len(arr)\n",
    "    median = (arr[n//2] + arr[-(1 + n//2)])/2\n",
    "    return median"
   ]
  },
  {
   "cell_type": "code",
   "execution_count": 5,
   "metadata": {},
   "outputs": [
    {
     "data": {
      "text/plain": [
       "[1.0, 3.0, 2.375, 2.5, 3.0]"
      ]
     },
     "execution_count": 5,
     "metadata": {},
     "output_type": "execute_result"
    }
   ],
   "source": [
    "# minimum, maximum, mean, median, and mode(mode is unique per task description)\n",
    "Min = min(arr)\n",
    "Max = max(arr)\n",
    "Mean = sum(arr)/(len(arr))\n",
    "Median = median(arr)\n",
    "Mode = max(arr,key = arr.count)\n",
    "\n",
    "result = [Min,Max,Mean,Median,Mode]\n",
    "result"
   ]
  },
  {
   "cell_type": "markdown",
   "metadata": {},
   "source": [
    "#### Method 2."
   ]
  },
  {
   "cell_type": "code",
   "execution_count": 70,
   "metadata": {},
   "outputs": [
    {
     "data": {
      "text/plain": [
       "{1: 1, 2: 3, 3: 4}"
      ]
     },
     "execution_count": 70,
     "metadata": {},
     "output_type": "execute_result"
    }
   ],
   "source": [
    "d = {}\n",
    "for i,v in enumerate(count):\n",
    "    if v != 0:\n",
    "        d[i] = v\n",
    "d"
   ]
  },
  {
   "cell_type": "code",
   "execution_count": 71,
   "metadata": {},
   "outputs": [],
   "source": [
    "def mean(dictionary):\n",
    "    res = 0\n",
    "    for num in d.keys():\n",
    "        res += num * d[num]\n",
    "    return res/sum(d.values())\n",
    "\n",
    "def mode(dictionary):\n",
    "    Max = max(d.values()) # mode is unique per task description\n",
    "    for num in d.keys():\n",
    "        if d[num] == Max:\n",
    "            Max = num\n",
    "    return Max\n",
    "\n",
    "def median(dictionary):\n",
    "    arr = []\n",
    "    for num in d.keys():\n",
    "        for i in range(1,d[num]+1):\n",
    "            arr.append(num)\n",
    "    \n",
    "    arr = sorted(arr)\n",
    "    n = len(arr)\n",
    "    median = (arr[n//2] + arr[-(1 + n//2)])/2\n",
    "    return median"
   ]
  },
  {
   "cell_type": "code",
   "execution_count": 72,
   "metadata": {},
   "outputs": [
    {
     "data": {
      "text/plain": [
       "[1.0, 3.0, 2.375, 2.5, 3.0]"
      ]
     },
     "execution_count": 72,
     "metadata": {},
     "output_type": "execute_result"
    }
   ],
   "source": [
    "Min = min(d.keys())\n",
    "Max = max(d.keys())\n",
    "Mean = mean(d)\n",
    "Median = median(d)\n",
    "Mode = mode(d)\n",
    "\n",
    "result = [Min,Max,Mean,Median,Mode]\n",
    "result = [float(i) for i in result]\n",
    "result"
   ]
  },
  {
   "cell_type": "markdown",
   "metadata": {},
   "source": [
    "### 1646. Get Maximum in Generated Array\n",
    "\n",
    "https://leetcode.com/problems/get-maximum-in-generated-array/\n",
    "\n",
    "Problem Description:\n",
    "\n",
    "You are given an integer n. An array nums of length n + 1 is generated in the following way:\n",
    "nums[0] = 0\n",
    "\n",
    "nums[1] = 1\n",
    "\n",
    "nums[2 * i] = nums[i] when 2 <= 2 * i <= n\n",
    "\n",
    "nums[2 * i + 1] = nums[i] + nums[i + 1] when 2 <= 2 * i + 1 <= n\n",
    "\n",
    "Return the maximum integer in the array nums.\n",
    "\n",
    "Example:\n",
    "Input: n = 7\n",
    "then nums = [0,1,1,2,1,3,2,3]\n"
   ]
  },
  {
   "cell_type": "code",
   "execution_count": 2,
   "metadata": {},
   "outputs": [],
   "source": [
    "n=7"
   ]
  },
  {
   "cell_type": "code",
   "execution_count": 3,
   "metadata": {},
   "outputs": [
    {
     "data": {
      "text/plain": [
       "3"
      ]
     },
     "execution_count": 3,
     "metadata": {},
     "output_type": "execute_result"
    }
   ],
   "source": [
    "if n < 2:\n",
    "    res = n\n",
    "        \n",
    "nums = [0, 1]\n",
    "for k in range(2, n + 1):\n",
    "    m = k // 2\n",
    "    if k & 1 == 0:\n",
    "        nums.append(nums[m])\n",
    "    else:\n",
    "        nums.append(nums[m] + nums[m + 1])\n",
    "res = max(nums)\n",
    "res"
   ]
  },
  {
   "cell_type": "code",
   "execution_count": 5,
   "metadata": {},
   "outputs": [],
   "source": [
    "def get_max(n):\n",
    "    if n < 2:\n",
    "        result = n\n",
    "        return result\n",
    "        \n",
    "    nums = [0, 1]\n",
    "    for k in range(2, n + 1):\n",
    "        m = k // 2\n",
    "        if k & 1 == 0:\n",
    "            nums.append(nums[m])\n",
    "        else:\n",
    "            nums.append(nums[m] + nums[m + 1])\n",
    "    result = max(nums)\n",
    "    return result"
   ]
  },
  {
   "cell_type": "code",
   "execution_count": 10,
   "metadata": {},
   "outputs": [
    {
     "data": {
      "text/plain": [
       "(1, 1, 2, 3)"
      ]
     },
     "execution_count": 10,
     "metadata": {},
     "output_type": "execute_result"
    }
   ],
   "source": [
    "get_max(n=1), get_max(n=2), get_max(n=3), get_max(n=7)"
   ]
  },
  {
   "cell_type": "markdown",
   "metadata": {},
   "source": [
    "### 1480. Running Sum of 1d Array\n",
    "\n",
    "https://leetcode.com/problems/running-sum-of-1d-array/\n",
    "\n",
    "Given an array nums. We define a running sum of an array as \n",
    "runningSum[i] = sum(nums[0]…nums[i]).\n",
    "\n",
    "Return the running sum of nums.\n",
    "\n",
    "Example:\n",
    "\n",
    "Input: nums = [1,2,3,4]\n",
    "\n",
    "Output: [1,3,6,10]"
   ]
  },
  {
   "cell_type": "code",
   "execution_count": 4,
   "metadata": {},
   "outputs": [],
   "source": [
    "nums = [1,2,3,4]"
   ]
  },
  {
   "cell_type": "code",
   "execution_count": 14,
   "metadata": {},
   "outputs": [],
   "source": [
    "def running_sum(nums):\n",
    "    arr = []\n",
    "    count = 0\n",
    "    for i in nums:\n",
    "        count += i\n",
    "        arr.append(count)\n",
    "    return arr"
   ]
  },
  {
   "cell_type": "code",
   "execution_count": 15,
   "metadata": {},
   "outputs": [
    {
     "data": {
      "text/plain": [
       "[1, 3, 6, 10]"
      ]
     },
     "execution_count": 15,
     "metadata": {},
     "output_type": "execute_result"
    }
   ],
   "source": [
    "running_sum(nums)"
   ]
  },
  {
   "cell_type": "markdown",
   "metadata": {},
   "source": [
    "### Mark and Toys Problems\n",
    "\n",
    "https://www.hackerrank.com/challenges/mark-and-toys/problem?h_l=interview&playlist_slugs%5B%5D=interview-preparation-kit&playlist_slugs%5B%5D=sorting\n",
    "\n",
    "Mark and Jane are very happy after having their first child. Their son loves toys, so Mark wants to buy some. There are a number of different toys lying in front of him, tagged with their prices. Mark has only a certain amount to spend, and he wants to maximize the number of toys he buys with this money. Given a list of toy prices and an amount to spend, determine the maximum number of gifts he can buy.\n",
    "Note Each toy can be purchased only once.\n",
    "\n",
    "Example :\n",
    "prices = [1,2,3,4]\n",
    "\n",
    "k=7 (bubget)\n",
    "\n",
    "The budget is 7 units of currency. He can buy items that cost[1,2,3] for 6, or [3,4] for 7 units. The maximum is 3 items."
   ]
  },
  {
   "cell_type": "code",
   "execution_count": 18,
   "metadata": {},
   "outputs": [],
   "source": [
    "def max_units(prices, budget):\n",
    "    prices = sorted(prices)\n",
    "    \n",
    "    count = 0\n",
    "    \n",
    "    for i in range(len(prices)):\n",
    "        count += prices[i]\n",
    "        if count == budget:\n",
    "            return i+1\n",
    "        elif count > budget:\n",
    "            return i  \n",
    "    return i    "
   ]
  },
  {
   "cell_type": "code",
   "execution_count": 22,
   "metadata": {},
   "outputs": [
    {
     "data": {
      "text/plain": [
       "3"
      ]
     },
     "execution_count": 22,
     "metadata": {},
     "output_type": "execute_result"
    }
   ],
   "source": [
    "prices = [1,2,3,4]\n",
    "k = 7\n",
    "max_units(prices, k)"
   ]
  },
  {
   "cell_type": "code",
   "execution_count": 23,
   "metadata": {},
   "outputs": [
    {
     "data": {
      "text/plain": [
       "4"
      ]
     },
     "execution_count": 23,
     "metadata": {},
     "output_type": "execute_result"
    }
   ],
   "source": [
    "prices = [3,5,1,2,4]\n",
    "k = 10\n",
    "max_units(prices, k)"
   ]
  },
  {
   "cell_type": "markdown",
   "metadata": {},
   "source": [
    "### 134. Gas Station\n",
    "\n",
    "https://leetcode.com/problems/gas-station/\n",
    "\n",
    "There are n gas stations along a circular route, where the amount of gas at the ith station is = gas[i].\n",
    "\n",
    "You have a car with an unlimited gas tank and it costs cost[i] of gas to travel from the ith station to its next (i + 1)th station. You begin the journey with an empty tank at one of the gas stations.\n",
    "\n",
    "Given two integer arrays gas and cost, return the starting gas station's index if you can travel around the circuit once in the clockwise direction, otherwise return -1. If there exists a solution, it is guaranteed to be unique.\n",
    "\n",
    "Test # 1\n",
    "Input: gas = [1,2,3,4,5], cost = [3,4,5,1,2]\n",
    "Output: 3\n"
   ]
  },
  {
   "cell_type": "code",
   "execution_count": 23,
   "metadata": {},
   "outputs": [],
   "source": [
    "# delta = 0\n",
    "# for i in range(len(gas)):\n",
    "#     tank = delta + gas[i]\n",
    "#     req = cost[i]\n",
    "#     delta = tank - req\n",
    "#     print(f'{i}: tank:{tank}, gas:{gas[i]}, required:{req}, delta: {delta}')"
   ]
  },
  {
   "cell_type": "code",
   "execution_count": 28,
   "metadata": {},
   "outputs": [],
   "source": [
    "# tank, required_tank = 0,0\n",
    "# for i in range(len(gas)):\n",
    "#     delta = gas[i]-cost[i]\n",
    "#     tank += delta\n",
    "#     required_tank += delta\n",
    "\n",
    "#     if delta < 0:\n",
    "#         indx = i + 1\n",
    "#         tank = 0\n",
    "# indx "
   ]
  },
  {
   "cell_type": "code",
   "execution_count": 46,
   "metadata": {},
   "outputs": [],
   "source": [
    "def trip_complete(gas, cost):\n",
    "    tank, required_tank, indx = 0,0,0\n",
    "    # because existing of unique solution is garanteed\n",
    "    # we check the overall required_tank >= 0, if its >= 0,\n",
    "    # that means there is a solution, we keep track \n",
    "    # of positive and negative deltas to identify where to start\n",
    "    \n",
    "    for i in range(len(gas)):\n",
    "        delta = gas[i]-cost[i]\n",
    "        tank += delta\n",
    "        required_tank += delta\n",
    "\n",
    "        if tank < 0:\n",
    "            indx = i + 1\n",
    "            tank = 0\n",
    "    if required_tank >= 0:\n",
    "        return indx\n",
    "    return -1"
   ]
  },
  {
   "cell_type": "code",
   "execution_count": 50,
   "metadata": {},
   "outputs": [
    {
     "data": {
      "text/plain": [
       "3"
      ]
     },
     "execution_count": 50,
     "metadata": {},
     "output_type": "execute_result"
    }
   ],
   "source": [
    "gas = [1,2,3,4,5]\n",
    "cost = [3,4,5,1,2]\n",
    "trip_complete(gas, cost)"
   ]
  },
  {
   "cell_type": "code",
   "execution_count": 51,
   "metadata": {},
   "outputs": [
    {
     "data": {
      "text/plain": [
       "-1"
      ]
     },
     "execution_count": 51,
     "metadata": {},
     "output_type": "execute_result"
    }
   ],
   "source": [
    "gas = [2,3,4]\n",
    "cost = [3,4,3]\n",
    "trip_complete(gas, cost)"
   ]
  },
  {
   "cell_type": "code",
   "execution_count": 52,
   "metadata": {},
   "outputs": [
    {
     "data": {
      "text/plain": [
       "0"
      ]
     },
     "execution_count": 52,
     "metadata": {},
     "output_type": "execute_result"
    }
   ],
   "source": [
    "gas = [3,1,1]\n",
    "cost = [1,2,2]\n",
    "trip_complete(gas, cost)"
   ]
  },
  {
   "cell_type": "markdown",
   "metadata": {},
   "source": [
    "### 1450. Number of Students Doing Homework at a Given Time\n",
    "\n",
    "Given two integer arrays startTime and endTime and given an integer queryTime.\n",
    "\n",
    "The ith student started doing their homework at the time startTime[i] and finished it at time endTime[i].\n",
    "\n",
    "Return the number of students doing their homework at time queryTime. More formally, return the number of students where queryTime lays in the interval [startTime[i], endTime[i]] inclusive.\n",
    "\n",
    "Test_5:\n",
    "Input: startTime = [9,8,7,6,5,4,3,2,1], \n",
    "\n",
    "endTime = [10,10,10,10,10,10,10,10,10], queryTime = 5\n",
    "Output: 5\n"
   ]
  },
  {
   "cell_type": "code",
   "execution_count": 57,
   "metadata": {},
   "outputs": [],
   "source": [
    "startTime = [9,8,7,6,5,4,3,2,1]\n",
    "\n",
    "endTime = [10,10,10,10,10,10,10,10,10]\n",
    "queryTime = 5"
   ]
  },
  {
   "cell_type": "code",
   "execution_count": null,
   "metadata": {},
   "outputs": [],
   "source": []
  },
  {
   "cell_type": "code",
   "execution_count": 63,
   "metadata": {},
   "outputs": [
    {
     "data": {
      "text/plain": [
       "5"
      ]
     },
     "execution_count": 63,
     "metadata": {},
     "output_type": "execute_result"
    }
   ],
   "source": [
    "count = 0\n",
    "for i in range(len(startTime)):\n",
    "    if queryTime >= startTime[i] and queryTime <= endTime[i]:\n",
    "        count += 1\n",
    "count"
   ]
  },
  {
   "cell_type": "code",
   "execution_count": 64,
   "metadata": {},
   "outputs": [
    {
     "data": {
      "text/plain": [
       "5"
      ]
     },
     "execution_count": 64,
     "metadata": {},
     "output_type": "execute_result"
    }
   ],
   "source": [
    "count = 0\n",
    "for start, end in zip(startTime, endTime):\n",
    "    if queryTime >= start and queryTime <= end:\n",
    "        count += 1\n",
    "count\n",
    "    "
   ]
  },
  {
   "cell_type": "markdown",
   "metadata": {},
   "source": [
    "### 867. Transpose Matrix\n",
    "\n",
    "https://leetcode.com/problems/transpose-matrix/\n",
    "\n",
    "Given a matrix A, return the transpose of A.\n",
    "\n",
    "The transpose of a matrix is the matrix flipped over it's main diagonal, switching the row and column indices of the matrix.\n",
    "\n",
    "example:\n",
    "Input: [[1,2,3],[4,5,6],[7,8,9]]\n",
    "Output: [[1,4,7],[2,5,8],[3,6,9]]\n",
    "\n"
   ]
  },
  {
   "cell_type": "code",
   "execution_count": 65,
   "metadata": {},
   "outputs": [],
   "source": [
    "a = [[1,2,3],[4,5,6],[7,8,9]]"
   ]
  },
  {
   "cell_type": "code",
   "execution_count": 66,
   "metadata": {},
   "outputs": [
    {
     "data": {
      "text/plain": [
       "[[1, 4, 7], [2, 5, 8], [3, 6, 9]]"
      ]
     },
     "execution_count": 66,
     "metadata": {},
     "output_type": "execute_result"
    }
   ],
   "source": [
    "# Transpose method 1\n",
    "[list(i) for i in zip(*a)]"
   ]
  },
  {
   "cell_type": "code",
   "execution_count": 73,
   "metadata": {},
   "outputs": [],
   "source": [
    "# method 2. not my solution, copied from answer\n",
    "def transpose(A):\n",
    "        R, C = len(A), len(A[0])\n",
    "        ans = [[None] * R for _ in range(C)]\n",
    "        for r, row in enumerate(A):\n",
    "            for c, val in enumerate(row):\n",
    "                ans[c][r] = val\n",
    "        return ans"
   ]
  },
  {
   "cell_type": "code",
   "execution_count": 74,
   "metadata": {},
   "outputs": [
    {
     "data": {
      "text/plain": [
       "[[1, 4, 7], [2, 5, 8], [3, 6, 9]]"
      ]
     },
     "execution_count": 74,
     "metadata": {},
     "output_type": "execute_result"
    }
   ],
   "source": [
    "transpose(a)"
   ]
  },
  {
   "cell_type": "markdown",
   "metadata": {},
   "source": [
    "### 1572. Matrix Diagonal Sum\n",
    "\n",
    "https://leetcode.com/problems/matrix-diagonal-sum/\n",
    "\n",
    "Given a square matrix mat, return the sum of the matrix diagonals.\n",
    "\n",
    "Only include the sum of all the elements on the primary diagonal and all the elements on the secondary diagonal that are not part of the primary diagonal.\n",
    "\n",
    "\n",
    "Example:\n",
    "\n",
    "Input: mat = [[1,2,3],\n",
    "              [4,5,6],\n",
    "              [7,8,9]]\n",
    "\n",
    "Output: 25\n",
    "Explanation: Diagonals sum: 1 + 5 + 9 + 3 + 7 = 25"
   ]
  },
  {
   "cell_type": "code",
   "execution_count": 93,
   "metadata": {},
   "outputs": [],
   "source": [
    "# x = [[1,2,3],[4,5,6],[7,8,9]]\n",
    "# n = len(x)\n",
    "# total = 0\n",
    "# for i,j in enumerate(x):\n",
    "#     total+=j[i]+j[-(i+1)]\n",
    "# if n % 2 != 0:\n",
    "#     total -= x[n//2][n//2]\n",
    "# total"
   ]
  },
  {
   "cell_type": "code",
   "execution_count": 118,
   "metadata": {},
   "outputs": [],
   "source": [
    "def diagonal(x):\n",
    "    total = 0\n",
    "    n = len(x)\n",
    "    for i,j in enumerate(x):\n",
    "        total+=j[i]+j[-(i+1)]\n",
    "    if n % 2 != 0:\n",
    "        total -= x[n//2][n//2]\n",
    "    return total"
   ]
  },
  {
   "cell_type": "code",
   "execution_count": 119,
   "metadata": {},
   "outputs": [
    {
     "data": {
      "text/plain": [
       "25"
      ]
     },
     "execution_count": 119,
     "metadata": {},
     "output_type": "execute_result"
    }
   ],
   "source": [
    "x = [[1,2,3],[4,5,6],[7,8,9]]\n",
    "diagonal(x)"
   ]
  },
  {
   "cell_type": "code",
   "execution_count": 120,
   "metadata": {},
   "outputs": [
    {
     "data": {
      "text/plain": [
       "8"
      ]
     },
     "execution_count": 120,
     "metadata": {},
     "output_type": "execute_result"
    }
   ],
   "source": [
    "x = [[1,1,1,1],[1,1,1,1],[1,1,1,1],[1,1,1,1]]\n",
    "diagonal(x)"
   ]
  },
  {
   "cell_type": "code",
   "execution_count": 123,
   "metadata": {},
   "outputs": [
    {
     "data": {
      "text/plain": [
       "5"
      ]
     },
     "execution_count": 123,
     "metadata": {},
     "output_type": "execute_result"
    }
   ],
   "source": [
    "x = [[5]]\n",
    "diagonal(x)"
   ]
  },
  {
   "cell_type": "markdown",
   "metadata": {},
   "source": [
    "### 838. Push Dominoes\n",
    "\n",
    "https://leetcode.com/problems/push-dominoes/\n",
    "\n",
    "There are N dominoes in a line, and we place each domino vertically upright.\n",
    "\n",
    "In the beginning, we simultaneously push some of the dominoes either to the left or to the right.\n",
    "\n",
    "\n",
    "\n",
    "After each second, each domino that is falling to the left pushes the adjacent domino on the left.\n",
    "\n",
    "Similarly, the dominoes falling to the right push their adjacent dominoes standing on the right.\n",
    "\n",
    "When a vertical domino has dominoes falling on it from both sides, it stays still due to the balance of the forces.\n",
    "\n",
    "For the purposes of this question, we will consider that a falling domino expends no additional force to a falling or already fallen domino.\n",
    "\n",
    "Given a string \"S\" representing the initial state. S[i] = 'L', if the i-th domino has been pushed to the left; S[i] = 'R', if the i-th domino has been pushed to the right; S[i] = '.', if the i-th domino has not been pushed.\n",
    "\n",
    "Return a string representing the final state. \n",
    "\n",
    "Test:\n",
    "Input: \".L.R...LR..L..\"\n",
    "Output: \"LL.RR.LLRRLL..\""
   ]
  },
  {
   "cell_type": "code",
   "execution_count": 102,
   "metadata": {},
   "outputs": [],
   "source": [
    "given = \".L.R...LR..L..\"\n",
    "# l = [i for i in x]"
   ]
  },
  {
   "cell_type": "code",
   "execution_count": 103,
   "metadata": {},
   "outputs": [],
   "source": [
    "# pos, letter = [], []\n",
    "# for i,val in enumerate(l):\n",
    "#     if val != '.':\n",
    "#         pos.append(i)\n",
    "#         letter.append(val)\n",
    "# pos, letter"
   ]
  },
  {
   "cell_type": "code",
   "execution_count": 104,
   "metadata": {},
   "outputs": [],
   "source": [
    "# d = {}\n",
    "# for i,val in enumerate(l):\n",
    "#     if val != '.':\n",
    "#         d[i]=val\n",
    "# d\n",
    "# for i in d:\n",
    "#     print(i, d[i])"
   ]
  },
  {
   "cell_type": "code",
   "execution_count": 115,
   "metadata": {},
   "outputs": [],
   "source": [
    "# this solution is inspired by the discussion section\n",
    "\n",
    "def dominoes(given):\n",
    "    given = \"L\" + given + \"R\"\n",
    "    answer = str()\n",
    "    x = 0\n",
    "    y = 1\n",
    "    delta = y - x\n",
    "        \n",
    "    while len(given) > y:\n",
    "        \n",
    "        if given[y] != \".\":\n",
    "            \n",
    "            if given[x] == given[y]:\n",
    "                answer += given[x] * (y - x)  \n",
    "                \n",
    "            elif given[x] == 'R' and given[y] == 'L':\n",
    "                num = (x + y) // 2\n",
    "                \n",
    "                if (x + y) % 2 == 0: \n",
    "                    answer += given[x] * (num - x)  + '.' +  given[y] * (y - num - 1)\n",
    "                else:\n",
    "                    answer += given[x] * (num - x + 1) + given[y] * (y - num - 1)\n",
    "            \n",
    "            else:\n",
    "                answer += given[x] + '.' * (y - x - 1)\n",
    "                \n",
    "            x = y \n",
    "        y += 1\n",
    "            \n",
    "    return answer[1:]"
   ]
  },
  {
   "cell_type": "code",
   "execution_count": 116,
   "metadata": {},
   "outputs": [
    {
     "data": {
      "text/plain": [
       "'LL.RR.LLRRLL..'"
      ]
     },
     "execution_count": 116,
     "metadata": {},
     "output_type": "execute_result"
    }
   ],
   "source": [
    "dominoes(given)"
   ]
  },
  {
   "cell_type": "markdown",
   "metadata": {},
   "source": [
    "883. Projection Area of 3D Shapes\n",
    "\n",
    "https://leetcode.com/problems/projection-area-of-3d-shapes/\n",
    "\n",
    "You are given an n x n grid where we place some 1 x 1 x 1 cubes that are axis-aligned with the x, y, and z axes.\n",
    "\n",
    "Each value v = grid[i][j] represents a tower of v cubes placed on top of the cell (i, j).\n",
    "\n",
    "We view the projection of these cubes onto the xy, yz, and zx planes.\n",
    "\n",
    "A projection is like a shadow, that maps our 3-dimensional figure to a 2-dimensional plane. We are viewing the \"shadow\" when looking at the cubes from the top, the front, and the side.\n",
    "\n",
    "Return the total area of all three projections."
   ]
  },
  {
   "cell_type": "code",
   "execution_count": 117,
   "metadata": {},
   "outputs": [],
   "source": []
  },
  {
   "cell_type": "code",
   "execution_count": 135,
   "metadata": {},
   "outputs": [],
   "source": [
    "# xy = len(grid)*len(grid[0])\n",
    "# xz = sum([max(i) for i in grid])"
   ]
  },
  {
   "cell_type": "code",
   "execution_count": 136,
   "metadata": {},
   "outputs": [],
   "source": [
    "# temp = []\n",
    "# yz = 0\n",
    "# for i in range(len(grid[0])):\n",
    "#     for j in range(len(grid)):\n",
    "#         temp.append((grid[j][i]))\n",
    "#     yz += max(temp)\n",
    "#     temp = []"
   ]
  },
  {
   "cell_type": "code",
   "execution_count": 139,
   "metadata": {},
   "outputs": [],
   "source": [
    "# xy+xz+yz"
   ]
  },
  {
   "cell_type": "code",
   "execution_count": 150,
   "metadata": {},
   "outputs": [],
   "source": [
    "def projection(grid):\n",
    "    temp = []\n",
    "    zero_count = 0\n",
    "    yz = 0\n",
    "    for i in range(len(grid[0])):\n",
    "        for j in range(len(grid)):\n",
    "            temp.append((grid[j][i]))\n",
    "            if grid[j][i] == 0:\n",
    "                zero_count += 1\n",
    "\n",
    "        yz += max(temp)\n",
    "        temp = []\n",
    "    \n",
    "    xy = len(grid)*len(grid[0]) - zero_count\n",
    "    xz = sum([max(i) for i in grid])\n",
    "#     yz = sum([max(i) for i in list(zip(*grid))]) alternative\n",
    "#     yz = sum(map(max, zip(*grid)))\n",
    "    return xy+xz+yz"
   ]
  },
  {
   "cell_type": "code",
   "execution_count": 157,
   "metadata": {},
   "outputs": [
    {
     "data": {
      "text/plain": [
       "17"
      ]
     },
     "execution_count": 157,
     "metadata": {},
     "output_type": "execute_result"
    }
   ],
   "source": [
    "grid = [[1,2],[3,4]]\n",
    "projection(grid)"
   ]
  },
  {
   "cell_type": "code",
   "execution_count": 166,
   "metadata": {},
   "outputs": [
    {
     "data": {
      "text/plain": [
       "6"
      ]
     },
     "execution_count": 166,
     "metadata": {},
     "output_type": "execute_result"
    }
   ],
   "source": [
    "sum(map(max, grid))"
   ]
  },
  {
   "cell_type": "code",
   "execution_count": 152,
   "metadata": {},
   "outputs": [
    {
     "data": {
      "text/plain": [
       "5"
      ]
     },
     "execution_count": 152,
     "metadata": {},
     "output_type": "execute_result"
    }
   ],
   "source": [
    "grid = [[2]]\n",
    "projection(grid)"
   ]
  },
  {
   "cell_type": "code",
   "execution_count": 153,
   "metadata": {},
   "outputs": [
    {
     "data": {
      "text/plain": [
       "21"
      ]
     },
     "execution_count": 153,
     "metadata": {},
     "output_type": "execute_result"
    }
   ],
   "source": [
    "grid = [[2,2,2],[2,1,2],[2,2,2]]\n",
    "projection(grid)"
   ]
  },
  {
   "cell_type": "code",
   "execution_count": 154,
   "metadata": {},
   "outputs": [
    {
     "data": {
      "text/plain": [
       "14"
      ]
     },
     "execution_count": 154,
     "metadata": {},
     "output_type": "execute_result"
    }
   ],
   "source": [
    "grid = [[1,1,1],[1,0,1],[1,1,1]]\n",
    "projection(grid)"
   ]
  },
  {
   "cell_type": "markdown",
   "metadata": {},
   "source": [
    "### 509. Fibonacci Number\n",
    "\n",
    "https://leetcode.com/problems/fibonacci-number/\n",
    "\n",
    "The Fibonacci numbers, commonly denoted F(n) form a sequence, called the Fibonacci sequence, such that each number is the sum of the two preceding ones, starting from 0 and 1. That is,\n",
    "\n",
    "F(0) = 0, F(1) = 1\n",
    "F(n) = F(n - 1) + F(n - 2), for n > 1.\n",
    "Given n, calculate F(n)."
   ]
  },
  {
   "cell_type": "code",
   "execution_count": 209,
   "metadata": {},
   "outputs": [],
   "source": [
    "def fi(n):\n",
    "    \n",
    "    if n == 0: return 0\n",
    "    \n",
    "    x, y = 0, 1 \n",
    "    for i in range(2,n+1):\n",
    "        x, y = y, (x + y)\n",
    "    return y"
   ]
  },
  {
   "cell_type": "code",
   "execution_count": 218,
   "metadata": {},
   "outputs": [
    {
     "data": {
      "text/plain": [
       "[0, 1, 1, 2, 3, 5, 8, 13, 21, 34, 55]"
      ]
     },
     "execution_count": 218,
     "metadata": {},
     "output_type": "execute_result"
    }
   ],
   "source": [
    "# test\n",
    "[fi(i) for i in range(11)]"
   ]
  },
  {
   "cell_type": "markdown",
   "metadata": {},
   "source": [
    "### 1200. Minimum Absolute Difference\n",
    "\n",
    "https://leetcode.com/problems/minimum-absolute-difference/\n",
    "\n",
    "Given an array of distinct integers arr, find all pairs of elements with the minimum absolute difference of any two elements. \n",
    "\n",
    "Return a list of pairs in ascending order(with respect to pairs), each pair [a, b] follows\n",
    "\n",
    "a, b are from arr\n",
    "a < b\n",
    "b - a equals to the minimum absolute difference of any two elements in arr\n",
    "\n",
    "\n",
    "test:\n",
    "\n",
    "Input: arr = [3,8,-10,23,19,-4,-14,27]\n",
    "\n",
    "Output: [[-14,-10],[19,23],[23,27]]\n"
   ]
  },
  {
   "cell_type": "code",
   "execution_count": 222,
   "metadata": {},
   "outputs": [],
   "source": [
    "def min_abs_diff(arr):\n",
    "    \n",
    "    arr = sorted(arr)\n",
    "    n = len(arr)\n",
    "    \n",
    "    diff = arr[1]-arr[0]\n",
    "    min_arr = [[arr[0],arr[1]]]\n",
    "    \n",
    "    for i in range(1, n - 1):\n",
    "        new_diff = arr[i+1] - arr[i]\n",
    "        \n",
    "        if new_diff == diff:\n",
    "            min_arr.append([arr[i], arr[i+1]])\n",
    "        \n",
    "        elif new_diff < diff:\n",
    "            min_arr = [[arr[i], arr[i+1]]]\n",
    "            diff = new_diff\n",
    "\n",
    "            \n",
    "    return min_arr"
   ]
  },
  {
   "cell_type": "code",
   "execution_count": 224,
   "metadata": {},
   "outputs": [
    {
     "data": {
      "text/plain": [
       "[[-14, -10], [19, 23], [23, 27]]"
      ]
     },
     "execution_count": 224,
     "metadata": {},
     "output_type": "execute_result"
    }
   ],
   "source": [
    "# test\n",
    "arr = [3,8,-10,23,19,-4,-14,27]\n",
    "min_abs_diff(arr)"
   ]
  },
  {
   "cell_type": "markdown",
   "metadata": {},
   "source": [
    "### 812. Largest Triangle Area\n",
    "\n",
    "https://leetcode.com/problems/largest-triangle-area/\n",
    "\n",
    "\n",
    "You have a list of points in the plane. Return the area of the largest triangle that can be formed by any 3 of the points.\n",
    "\n",
    "Example:\n",
    "\n",
    "Input: points = [[0,0],[0,1],[1,0],[0,2],[2,0]]\n",
    "\n",
    "Output: 2\n"
   ]
  },
  {
   "cell_type": "code",
   "execution_count": 231,
   "metadata": {},
   "outputs": [],
   "source": [
    "from itertools import combinations"
   ]
  },
  {
   "cell_type": "code",
   "execution_count": 232,
   "metadata": {},
   "outputs": [],
   "source": [
    "def area(points):\n",
    "    \n",
    "    #S= abs(0.5 * (x1 * (y2 - y3) + x2 * (y3 - y1) + x3 * (y1 - y2))) formula\n",
    "    x1,y1 = points[0][0], points[0][1]\n",
    "    x2,y2 = points[1][0], points[1][1]\n",
    "    x3,y3 = points[2][0], points[2][1]\n",
    "    \n",
    "    return abs(0.5 * (x1 * (y2 - y3) + x2 * (y3 - y1) + x3 * (y1 - y2)))"
   ]
  },
  {
   "cell_type": "code",
   "execution_count": 233,
   "metadata": {},
   "outputs": [],
   "source": [
    "def max_area(points):\n",
    "    areas = ([area(i) for i in combinations(points,3)])\n",
    "    return max(areas)"
   ]
  },
  {
   "cell_type": "code",
   "execution_count": 235,
   "metadata": {},
   "outputs": [
    {
     "data": {
      "text/plain": [
       "2.0"
      ]
     },
     "execution_count": 235,
     "metadata": {},
     "output_type": "execute_result"
    }
   ],
   "source": [
    "# Test\n",
    "points = [[0,0],[0,1],[1,0],[0,2],[2,0]]\n",
    "max_area(points)"
   ]
  },
  {
   "cell_type": "markdown",
   "metadata": {},
   "source": [
    "### 46. Permutations\n",
    "Given an array nums of distinct integers, return all the possible permutations. You can return the answer in any order.\n",
    "\n",
    "Test:\n",
    "\n",
    "Input: nums = [1,2,3]\n",
    "\n",
    "Output: [[1,2,3],[1,3,2],[2,1,3],[2,3,1],[3,1,2],[3,2,1]]\n"
   ]
  },
  {
   "cell_type": "code",
   "execution_count": 243,
   "metadata": {},
   "outputs": [
    {
     "data": {
      "text/plain": [
       "[[1, 2, 3], [1, 3, 2], [2, 1, 3], [2, 3, 1], [3, 1, 2], [3, 2, 1]]"
      ]
     },
     "execution_count": 243,
     "metadata": {},
     "output_type": "execute_result"
    }
   ],
   "source": [
    "# using import\n",
    "nums = [1,2,3]\n",
    "from itertools import permutations\n",
    "[list(i) for i in permutations(nums)]"
   ]
  },
  {
   "cell_type": "code",
   "execution_count": 257,
   "metadata": {},
   "outputs": [],
   "source": [
    "# writing function\n",
    "def permute(nums):\n",
    "    if len(nums) == 0: return []\n",
    "    elif len(nums) == 1: return [nums]\n",
    "    else:\n",
    "        result = []\n",
    "        for i in range(len(nums)):\n",
    "            el_1 = nums[i]\n",
    "            el_2 = nums[:i] + nums[i+1 : ]\n",
    "            for j in permute(el_2):\n",
    "                result.append([el_1] + j)\n",
    "        return result"
   ]
  },
  {
   "cell_type": "code",
   "execution_count": 258,
   "metadata": {},
   "outputs": [
    {
     "data": {
      "text/plain": [
       "[[1, 2, 3], [1, 3, 2], [2, 1, 3], [2, 3, 1], [3, 1, 2], [3, 2, 1]]"
      ]
     },
     "execution_count": 258,
     "metadata": {},
     "output_type": "execute_result"
    }
   ],
   "source": [
    "permute(nums)"
   ]
  },
  {
   "cell_type": "markdown",
   "metadata": {},
   "source": [
    "### 766. Toeplitz Matrix\n",
    "\n",
    "https://leetcode.com/problems/toeplitz-matrix/\n",
    "\n",
    "Given an m x n matrix, return true if the matrix is Toeplitz. Otherwise, return false.\n",
    "\n",
    "A matrix is Toeplitz if every diagonal from top-left to bottom-right has the same elements."
   ]
  },
  {
   "cell_type": "code",
   "execution_count": 1,
   "metadata": {},
   "outputs": [
    {
     "data": {
      "text/plain": [
       "[[1, 2, 3, 4], [5, 1, 2, 3], [9, 5, 1, 2]]"
      ]
     },
     "execution_count": 1,
     "metadata": {},
     "output_type": "execute_result"
    }
   ],
   "source": [
    "matrix = [[1,2,3,4],[5,1,2,3],[9,5,1,2]]\n",
    "matrix"
   ]
  },
  {
   "cell_type": "code",
   "execution_count": 10,
   "metadata": {},
   "outputs": [],
   "source": [
    "def toeplitz(matrix):\n",
    "    n = len(matrix)-1 # get max index of rows\n",
    "    m = len(matrix[0])-1 # get max index of columns\n",
    "    \n",
    "    for i in range(n):\n",
    "        for j in range(m):\n",
    "            if matrix[i][j] != matrix[i+1][j+1]: return False\n",
    "\n",
    "    return True"
   ]
  },
  {
   "cell_type": "code",
   "execution_count": 11,
   "metadata": {},
   "outputs": [
    {
     "data": {
      "text/plain": [
       "True"
      ]
     },
     "execution_count": 11,
     "metadata": {},
     "output_type": "execute_result"
    }
   ],
   "source": [
    "toeplitz(matrix)"
   ]
  },
  {
   "cell_type": "markdown",
   "metadata": {},
   "source": [
    "### 1329. Sort the Matrix Diagonally\n",
    "\n",
    "https://leetcode.com/problems/sort-the-matrix-diagonally/\n",
    "\n",
    "A matrix diagonal is a diagonal line of cells starting from some cell in either the topmost row or leftmost column and going in the bottom-right direction until reaching the matrix's end. For example, the matrix diagonal starting from mat[2][0], where mat is a 6 x 3 matrix, includes cells mat[2][0], mat[3][1], and mat[4][2].\n",
    "\n",
    "Given an m x n matrix mat of integers, sort each matrix diagonal in ascending order and return the resulting matrix.\n",
    "\n",
    "\n"
   ]
  },
  {
   "cell_type": "code",
   "execution_count": 84,
   "metadata": {},
   "outputs": [
    {
     "data": {
      "text/plain": [
       "[[3, 3, 1, 1], [2, 2, 1, 2], [1, 1, 1, 2]]"
      ]
     },
     "execution_count": 84,
     "metadata": {},
     "output_type": "execute_result"
    }
   ],
   "source": [
    "mat = [[3,3,1,1],[2,2,1,2],[1,1,1,2]]\n",
    "mat"
   ]
  },
  {
   "cell_type": "code",
   "execution_count": 85,
   "metadata": {},
   "outputs": [
    {
     "data": {
      "text/plain": [
       "{0: [3, 2, 1], -1: [3, 1, 2], -2: [1, 2], -3: [1], 1: [2, 1], 2: [1]}"
      ]
     },
     "execution_count": 85,
     "metadata": {},
     "output_type": "execute_result"
    }
   ],
   "source": [
    "diag = dict()\n",
    "n = len(mat)\n",
    "m = len(mat[0])\n",
    "\n",
    "for i in range(n):\n",
    "    for j in range(m):\n",
    "        if i-j not in diag.keys():\n",
    "            diag[i-j] = [mat[i][j]]\n",
    "        else:\n",
    "            diag[i-j].append(mat[i][j])\n",
    "diag\n"
   ]
  },
  {
   "cell_type": "code",
   "execution_count": 86,
   "metadata": {},
   "outputs": [
    {
     "data": {
      "text/plain": [
       "{0: [3, 2, 1], -1: [3, 2, 1], -2: [2, 1], -3: [1], 1: [2, 1], 2: [1]}"
      ]
     },
     "execution_count": 86,
     "metadata": {},
     "output_type": "execute_result"
    }
   ],
   "source": [
    "for i in diag.keys():\n",
    "    diag[i] = sorted(diag[i],reverse=True)\n",
    "diag"
   ]
  },
  {
   "cell_type": "code",
   "execution_count": 87,
   "metadata": {},
   "outputs": [
    {
     "data": {
      "text/plain": [
       "[[0, 0, 0, 0], [0, 0, 0, 0], [0, 0, 0, 0]]"
      ]
     },
     "execution_count": 87,
     "metadata": {},
     "output_type": "execute_result"
    }
   ],
   "source": [
    "new_mat = [[0]*m for i in range(n)]\n",
    "new_mat"
   ]
  },
  {
   "cell_type": "code",
   "execution_count": 88,
   "metadata": {},
   "outputs": [
    {
     "data": {
      "text/plain": [
       "[[1, 1, 1, 1], [1, 2, 2, 2], [1, 2, 3, 3]]"
      ]
     },
     "execution_count": 88,
     "metadata": {},
     "output_type": "execute_result"
    }
   ],
   "source": [
    "for i in range(n):\n",
    "    for j in range(m):\n",
    "        new_mat[i][j] = diag[i-j].pop()\n",
    "new_mat"
   ]
  },
  {
   "cell_type": "code",
   "execution_count": 93,
   "metadata": {},
   "outputs": [],
   "source": [
    "def diagonal_sorted(matrix):\n",
    "    \n",
    "    n = len(matrix)\n",
    "    m = len(matrix[0])\n",
    "    \n",
    "    # dictionary with diagonals\n",
    "    diagonals = dict()\n",
    "\n",
    "    for i in range(n):\n",
    "        for j in range(m):\n",
    "            if i-j not in diagonals.keys():\n",
    "                diagonals[i-j] = [matrix[i][j]]\n",
    "            else:\n",
    "                diagonals[i-j].append(matrix[i][j])\n",
    "    \n",
    "    # sort diagonals in reverse order            \n",
    "    for i in diagonals.keys():\n",
    "        diagonals[i] = sorted(diagonals[i],reverse=True)\n",
    "                \n",
    "    # matrix with zeros\n",
    "    matrix = [[0]*m for i in range(n)]\n",
    "    for i in range(n):\n",
    "        for j in range(m):\n",
    "            # pop last element each time from array\n",
    "            matrix[i][j] = diagonals[i-j].pop()\n",
    "\n",
    "    return matrix"
   ]
  },
  {
   "cell_type": "code",
   "execution_count": 94,
   "metadata": {},
   "outputs": [
    {
     "data": {
      "text/plain": [
       "[[1, 1, 1, 1], [1, 2, 2, 2], [1, 2, 3, 3]]"
      ]
     },
     "execution_count": 94,
     "metadata": {},
     "output_type": "execute_result"
    }
   ],
   "source": [
    "matrix = [[3,3,1,1],[2,2,1,2],[1,1,1,2]]\n",
    "diagonal_sorted(matrix)"
   ]
  },
  {
   "cell_type": "markdown",
   "metadata": {},
   "source": [
    "### 1496. Path Crossing\n",
    "https://leetcode.com/problems/path-crossing/\n",
    "\n",
    "Given a string path, where path[i] = 'N', 'S', 'E' or 'W', each representing moving one unit north, south, east, or west, respectively. You start at the origin (0, 0) on a 2D plane and walk on the path specified by path.\n",
    "\n",
    "Return True if the path crosses itself at any point, that is, if at any time you are on a location you've previously visited. Return False otherwise."
   ]
  },
  {
   "cell_type": "code",
   "execution_count": 24,
   "metadata": {},
   "outputs": [],
   "source": [
    "# path = \"NES\""
   ]
  },
  {
   "cell_type": "code",
   "execution_count": 38,
   "metadata": {},
   "outputs": [],
   "source": [
    "def get_coordinates(path):    \n",
    "    y,x = 0,0\n",
    "    coord = [(x,y)]\n",
    "    for i in path:\n",
    "        if i == 'N': y += 1\n",
    "        elif i == 'S': y -= 1\n",
    "        elif i == 'W': x -= 1\n",
    "        else: x += 1\n",
    "        coord.append((x,y))\n",
    "    return coord"
   ]
  },
  {
   "cell_type": "code",
   "execution_count": 39,
   "metadata": {},
   "outputs": [],
   "source": [
    "def duplicates(coordinates_list):\n",
    "    coord_set = set()\n",
    "    for i in coordinates_list:\n",
    "        if i in coord_set:\n",
    "            return True\n",
    "        else:\n",
    "            coord_set.add(i)\n",
    "    return False"
   ]
  },
  {
   "cell_type": "code",
   "execution_count": 40,
   "metadata": {},
   "outputs": [],
   "source": [
    "def main():\n",
    "    coord = get_coordinates(path)\n",
    "    return duplicates(coord)"
   ]
  },
  {
   "cell_type": "code",
   "execution_count": 41,
   "metadata": {},
   "outputs": [
    {
     "data": {
      "text/plain": [
       "False"
      ]
     },
     "execution_count": 41,
     "metadata": {},
     "output_type": "execute_result"
    }
   ],
   "source": [
    "path = \"NES\"\n",
    "main()"
   ]
  },
  {
   "cell_type": "code",
   "execution_count": 42,
   "metadata": {},
   "outputs": [
    {
     "data": {
      "text/plain": [
       "True"
      ]
     },
     "execution_count": 42,
     "metadata": {},
     "output_type": "execute_result"
    }
   ],
   "source": [
    "path = \"NESW\"\n",
    "main()"
   ]
  },
  {
   "cell_type": "markdown",
   "metadata": {},
   "source": [
    "### 48. Rotate Image\n",
    "\n",
    "https://leetcode.com/problems/rotate-image/\n",
    "\n",
    "You are given an n x n 2D matrix representing an image, rotate the image by 90 degrees (clockwise).\n",
    "\n",
    "You have to rotate the image in-place, which means you have to modify the input 2D matrix directly. DO NOT allocate another 2D matrix and do the rotation."
   ]
  },
  {
   "cell_type": "code",
   "execution_count": 9,
   "metadata": {},
   "outputs": [
    {
     "data": {
      "text/plain": [
       "[[1, 2, 3], [4, 5, 6], [7, 8, 9]]"
      ]
     },
     "execution_count": 9,
     "metadata": {},
     "output_type": "execute_result"
    }
   ],
   "source": [
    "matrix = [[1,2,3],[4,5,6],[7,8,9]]\n",
    "matrix"
   ]
  },
  {
   "cell_type": "code",
   "execution_count": 11,
   "metadata": {},
   "outputs": [],
   "source": [
    "# list(zip(*matrix))"
   ]
  },
  {
   "cell_type": "code",
   "execution_count": 10,
   "metadata": {},
   "outputs": [
    {
     "data": {
      "text/plain": [
       "[[7, 4, 1], [8, 5, 2], [9, 6, 3]]"
      ]
     },
     "execution_count": 10,
     "metadata": {},
     "output_type": "execute_result"
    }
   ],
   "source": [
    "[list(i)[::-1] for i in zip(*matrix)]"
   ]
  },
  {
   "cell_type": "code",
   "execution_count": 12,
   "metadata": {},
   "outputs": [],
   "source": [
    "# option 2\n",
    "def rotate(matrix):\n",
    "    count = 0\n",
    "    for i in zip(*matrix):\n",
    "        matrix[count] = list(i)[::-1]\n",
    "        count += 1\n",
    "    return matrix"
   ]
  },
  {
   "cell_type": "code",
   "execution_count": 13,
   "metadata": {},
   "outputs": [
    {
     "data": {
      "text/plain": [
       "[[7, 4, 1], [8, 5, 2], [9, 6, 3]]"
      ]
     },
     "execution_count": 13,
     "metadata": {},
     "output_type": "execute_result"
    }
   ],
   "source": [
    "rotate(matrix)"
   ]
  },
  {
   "cell_type": "markdown",
   "metadata": {},
   "source": [
    "### 901. Online Stock Span\n",
    "\n",
    "https://leetcode.com/problems/online-stock-span/\n",
    "\n",
    "Write a class StockSpanner which collects daily price quotes for some stock, and returns the span of that stock's price for the current day.\n",
    "\n",
    "The span of the stock's price today is defined as the maximum number of consecutive days (starting from today and going backwards) for which the price of the stock was less than or equal to today's price.\n",
    "\n",
    "For example, if the price of a stock over the next 7 days were [100, 80, 60, 70, 60, 75, 85], then the stock spans would be [1, 1, 1, 2, 1, 4, 6]."
   ]
  },
  {
   "cell_type": "code",
   "execution_count": 49,
   "metadata": {},
   "outputs": [],
   "source": [
    "# price = [100, 80, 60, 70, 60, 75, 85]\n",
    "# span = []\n",
    "# for ind, p in enumerate(price):\n",
    "#     span.append(sum(i <= p for i in price[:ind])+1)\n",
    "# span"
   ]
  },
  {
   "cell_type": "code",
   "execution_count": 44,
   "metadata": {},
   "outputs": [],
   "source": [
    "def span(price):\n",
    "    span = []\n",
    "    for ind, p in enumerate(price):\n",
    "        span.append(sum(i <= p for i in price[:ind])+1)\n",
    "    return span"
   ]
  },
  {
   "cell_type": "code",
   "execution_count": 45,
   "metadata": {},
   "outputs": [
    {
     "data": {
      "text/plain": [
       "[1, 1, 1, 2, 2, 4, 6]"
      ]
     },
     "execution_count": 45,
     "metadata": {},
     "output_type": "execute_result"
    }
   ],
   "source": [
    "price = [100, 80, 60, 70, 60, 75, 85]\n",
    "span(price)"
   ]
  },
  {
   "cell_type": "markdown",
   "metadata": {},
   "source": [
    "### interview question\n",
    "\n",
    "https://stackoverflow.com/questions/51550654/how-to-sort-list-by-frequency-and-alphabetically/51550683\n",
    "\n",
    "An e-commerce site tracks the purchases made each day. The product that is purchased the most one day is the featured product for the following day. If there is a tie for the product purchased most frequently, those product names are ordered alphabetically ascending and the last name in the list is chosen.\n",
    "Example: products = [‘redShirt’, ‘greenPants’, ‘redShirt’, ‘orangeShoes’, ‘blackPants’, ‘blackPants’]\n",
    "Function Description:\n",
    "featuredProduct has the following parameter(s): string an array of strings where each represents a purchased product"
   ]
  },
  {
   "cell_type": "code",
   "execution_count": 11,
   "metadata": {},
   "outputs": [
    {
     "data": {
      "text/plain": [
       "{'redShirt': 2, 'greenPants': 1, 'orangeShoes': 1, 'blackPants': 2}"
      ]
     },
     "execution_count": 11,
     "metadata": {},
     "output_type": "execute_result"
    }
   ],
   "source": [
    "### interview question\n",
    "import pandas as pd\n",
    "products = ['redShirt', 'greenPants', 'redShirt', 'orangeShoes', 'blackPants', 'blackPants']\n",
    "features = {}\n",
    "for i in products:\n",
    "    if i in features: features[i] += 1\n",
    "    else: features[i] = 1\n",
    "features"
   ]
  },
  {
   "cell_type": "code",
   "execution_count": 12,
   "metadata": {},
   "outputs": [
    {
     "data": {
      "text/plain": [
       "[('redShirt', 2), ('blackPants', 2), ('greenPants', 1), ('orangeShoes', 1)]"
      ]
     },
     "execution_count": 12,
     "metadata": {},
     "output_type": "execute_result"
    }
   ],
   "source": [
    "sorted(features.items(),key=lambda x: x[1],reverse = True)"
   ]
  },
  {
   "cell_type": "markdown",
   "metadata": {},
   "source": [
    "### 62. Unique Paths\n",
    "\n",
    "https://leetcode.com/problems/unique-paths/\n",
    "\n",
    "A robot is located at the top-left corner of a m x n grid (marked 'Start' in the diagram below).\n",
    "\n",
    "The robot can only move either down or right at any point in time. The robot is trying to reach the bottom-right corner of the grid (marked 'Finish' in the diagram below).\n",
    "\n",
    "How many possible unique paths are there?"
   ]
  },
  {
   "cell_type": "code",
   "execution_count": 25,
   "metadata": {},
   "outputs": [],
   "source": [
    "m, n = 4, 4"
   ]
  },
  {
   "cell_type": "code",
   "execution_count": 27,
   "metadata": {},
   "outputs": [],
   "source": [
    "total = 0\n",
    "\n",
    "if m==1:\n",
    "    total = 1\n",
    "else:\n",
    "    for m in range(2,m+1):\n",
    "        for n in range(1,n+1):\n",
    "            total += 2* (m-2)*(n-2)\n",
    "# total   "
   ]
  },
  {
   "cell_type": "code",
   "execution_count": null,
   "metadata": {},
   "outputs": [],
   "source": []
  }
 ],
 "metadata": {
  "kernelspec": {
   "display_name": "Python 3",
   "language": "python",
   "name": "python3"
  },
  "language_info": {
   "codemirror_mode": {
    "name": "ipython",
    "version": 3
   },
   "file_extension": ".py",
   "mimetype": "text/x-python",
   "name": "python",
   "nbconvert_exporter": "python",
   "pygments_lexer": "ipython3",
   "version": "3.6.9"
  }
 },
 "nbformat": 4,
 "nbformat_minor": 4
}
