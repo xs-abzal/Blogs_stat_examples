{
 "cells": [
  {
   "cell_type": "markdown",
   "metadata": {},
   "source": [
    "# Introduction to Discrete Distributions"
   ]
  },
  {
   "cell_type": "markdown",
   "metadata": {},
   "source": [
    "## Distributions\n",
    "\n",
    "\n",
    "\n",
    "### Density Functions\n",
    "\n",
    "Distrubtions are often described in terms of their density functions.\n",
    "\n",
    "Two types of density functions are probability density functions and cumulative density functions.\n",
    "\n",
    "* **Probability Density function** (PDF): calculates the probability of observing a given value.\n",
    "* **Cumulative Density function** (CDF): calculates the probability of an observation equal or less than a value.\n",
    "\n",
    "Both PDFs and CDFs are continuous functions. The equivalent of a PDF for a discrete distribution is called a probability mass function, or PMF. And similarly we have CMFs for the cumulative discrete-analogue."
   ]
  },
  {
   "cell_type": "code",
   "execution_count": 2,
   "metadata": {},
   "outputs": [],
   "source": [
    "import matplotlib.pyplot as plt\n",
    "import seaborn as sns; sns.set()\n",
    "%matplotlib inline\n",
    "\n",
    "import numpy as np\n",
    "import pandas as pd\n",
    "import math\n",
    "\n",
    "# import scipy.stats as stats\n",
    "from scipy.stats import binom \n",
    "from scipy.stats import poisson\n",
    "\n",
    "import random"
   ]
  },
  {
   "cell_type": "markdown",
   "metadata": {},
   "source": [
    "## 1. Binomial Distribution"
   ]
  },
  {
   "cell_type": "code",
   "execution_count": 6,
   "metadata": {},
   "outputs": [],
   "source": [
    "def binom_pmf(n,k,p):\n",
    "    # calculates PMF of Binomial distribution\n",
    "    # n= number of trials\n",
    "    # k = number of succeses\n",
    "    # p = probability of success k\n",
    "    \n",
    "    pmf = (math.factorial(n)/(math.factorial(k)*math.factorial(n-k)))*(p**k)*(1-p)**(n-k)\n",
    "    return pmf\n",
    "\n",
    "def binom_cmf(lower, upper, n, p):\n",
    "    # calculates CMF of Binomial distribution\n",
    "    # lower = min number of successful trials\n",
    "    # upper = max number of successful trials\n",
    "    # n = number of trials\n",
    "    # p = probability of success\n",
    "    cmf = 0\n",
    "    for k in range(lower,upper+1):\n",
    "        cmf += binom_pmf(n,k,p)\n",
    "    return cmf"
   ]
  },
  {
   "cell_type": "code",
   "execution_count": 7,
   "metadata": {},
   "outputs": [
    {
     "data": {
      "text/plain": [
       "0.6296482639026698"
      ]
     },
     "execution_count": 7,
     "metadata": {},
     "output_type": "execute_result"
    }
   ],
   "source": [
    "binom_cmf(0,4,20,0.2)"
   ]
  },
  {
   "cell_type": "code",
   "execution_count": 8,
   "metadata": {},
   "outputs": [
    {
     "data": {
      "text/plain": [
       "0.9133074864326008"
      ]
     },
     "execution_count": 8,
     "metadata": {},
     "output_type": "execute_result"
    }
   ],
   "source": [
    "binom_cmf(0,6,20,0.2)"
   ]
  },
  {
   "cell_type": "markdown",
   "metadata": {},
   "source": [
    "### Exact binomial test"
   ]
  },
  {
   "cell_type": "code",
   "execution_count": 9,
   "metadata": {},
   "outputs": [],
   "source": [
    "### binomial test check example from Wikipedia: 'two tail'"
   ]
  },
  {
   "cell_type": "code",
   "execution_count": 26,
   "metadata": {},
   "outputs": [
    {
     "data": {
      "text/plain": [
       "0.04374797018240008"
      ]
     },
     "execution_count": 26,
     "metadata": {},
     "output_type": "execute_result"
    }
   ],
   "source": [
    "binom_cmf(51,235,235,1/6)+binom_cmf(0,27,235,1/6)"
   ]
  },
  {
   "cell_type": "code",
   "execution_count": 30,
   "metadata": {},
   "outputs": [
    {
     "data": {
      "text/plain": [
       "0.026544245711691068"
      ]
     },
     "execution_count": 30,
     "metadata": {},
     "output_type": "execute_result"
    }
   ],
   "source": [
    "### one tail test example from wikipedia\n",
    "binom_cmf(51,235,235,1/6)"
   ]
  },
  {
   "cell_type": "code",
   "execution_count": 31,
   "metadata": {},
   "outputs": [],
   "source": [
    "### example with 100 trials"
   ]
  },
  {
   "cell_type": "code",
   "execution_count": 29,
   "metadata": {},
   "outputs": [
    {
     "data": {
      "text/plain": [
       "0.06305032696946788"
      ]
     },
     "execution_count": 29,
     "metadata": {},
     "output_type": "execute_result"
    }
   ],
   "source": [
    "1-binom_cmf(0,22,100,1/6) "
   ]
  },
  {
   "cell_type": "code",
   "execution_count": 68,
   "metadata": {},
   "outputs": [
    {
     "data": {
      "text/plain": [
       "0.10018347064058694"
      ]
     },
     "execution_count": 68,
     "metadata": {},
     "output_type": "execute_result"
    }
   ],
   "source": [
    "binom_cmf(22,100,100,1/6)"
   ]
  },
  {
   "cell_type": "code",
   "execution_count": 76,
   "metadata": {},
   "outputs": [
    {
     "data": {
      "text/plain": [
       "0.10018347064058694"
      ]
     },
     "execution_count": 76,
     "metadata": {},
     "output_type": "execute_result"
    }
   ],
   "source": [
    "binom_cmf(22,100,100,1/6)"
   ]
  },
  {
   "cell_type": "code",
   "execution_count": 73,
   "metadata": {},
   "outputs": [
    {
     "data": {
      "text/plain": [
       "0.08056005280043357"
      ]
     },
     "execution_count": 73,
     "metadata": {},
     "output_type": "execute_result"
    }
   ],
   "source": [
    "binom_cmf(0,10,100,1/6)+binom_cmf(24,100,100,1/6)"
   ]
  },
  {
   "cell_type": "markdown",
   "metadata": {},
   "source": [
    "#### test with scipy stat"
   ]
  },
  {
   "cell_type": "code",
   "execution_count": 42,
   "metadata": {},
   "outputs": [
    {
     "data": {
      "text/plain": [
       "0.025185958316060155"
      ]
     },
     "execution_count": 42,
     "metadata": {},
     "output_type": "execute_result"
    }
   ],
   "source": [
    "binom.pmf(23,100,1/6) # the same as binom_pmf(100,23,1/6)"
   ]
  },
  {
   "cell_type": "code",
   "execution_count": 62,
   "metadata": {},
   "outputs": [
    {
     "data": {
      "image/png": "[encoded data removed]",
      "text/plain": [
       "<Figure size 432x288 with 1 Axes>"
      ]
     },
     "metadata": {
      "needs_background": "light"
     },
     "output_type": "display_data"
    }
   ],
   "source": [
    " # setting the values \n",
    "# of n and p \n",
    "n = 100\n",
    "p = 1/5\n",
    "# defining list of k values \n",
    "k_values = list(range(n + 1)) \n",
    "# list of pmf values \n",
    "# dist = [binom.pmf(k, n, p) for k in k_values ] \n",
    "dist = [1-binom_cmf(0, k, n, p) for k in k_values ] \n",
    "# plotting the graph  \n",
    "plt.bar(k_values, dist) \n",
    "plt.show()\n",
    "# binom_cmf(0,4,20,0.2)"
   ]
  },
  {
   "cell_type": "markdown",
   "metadata": {},
   "source": [
    "## 2. Poisson Distribution"
   ]
  },
  {
   "cell_type": "markdown",
   "metadata": {},
   "source": [
    "\n",
    "f(x) = exp(-λ) * (λ^x)/ x!\n",
    "\n",
    "\n",
    "x = 0, 1, 2, . . . "
   ]
  },
  {
   "cell_type": "markdown",
   "metadata": {},
   "source": [
    "### Example 1.\n",
    "Customers arrive at a travel agency at a mean rate\n",
    "of 11 per hour. Assuming that the number of arrivals per\n",
    "hour has a Poisson distribution, give the probability that\n",
    "more than 10 customers arrive in a given hour.\n",
    "\n",
    "Source: PROBABILITY AND STATISTICAL INFERENCE, Ninth Edition, Robert V. Hogg"
   ]
  },
  {
   "cell_type": "code",
   "execution_count": 11,
   "metadata": {},
   "outputs": [
    {
     "data": {
      "text/plain": [
       "0.5401112973063131"
      ]
     },
     "execution_count": 11,
     "metadata": {},
     "output_type": "execute_result"
    }
   ],
   "source": [
    "# Solution:\n",
    "    \n",
    "# cumulative probability X <=10 \n",
    "cumul_prob = poisson.cdf(10,11) # X<=10, lambda = 11\n",
    "\n",
    "# probabiliy of X>=11:\n",
    "1- cumul_prob"
   ]
  },
  {
   "cell_type": "markdown",
   "metadata": {},
   "source": [
    "### Example 2.\n",
    "An airline always overbooks if possible. A particular\n",
    "plane has 95 seats on a flight in which a ticket sells\n",
    "for $300. The airline sells 100 such tickets for this flight.\n",
    "\n",
    "(a) If the probability of an individual not showing up is\n",
    "0.05, assuming independence, what is the probability\n",
    "that the airline can accommodate all the passengers\n",
    "who do show up?\n",
    "\n",
    "(b) If the airline must return the 300 price plus a penalty of 400 \n",
    "to each passenger that cannot get on the\n",
    "flight, what is the expected payout (penalty plus ticket\n",
    "refund) that the airline will pay?\n",
    "\n",
    "\n",
    "Source: PROBABILITY AND STATISTICAL INFERENCE, Ninth Edition, Robert V. Hogg"
   ]
  },
  {
   "cell_type": "code",
   "execution_count": 12,
   "metadata": {},
   "outputs": [
    {
     "data": {
      "text/plain": [
       "0.5595067149347874"
      ]
     },
     "execution_count": 12,
     "metadata": {},
     "output_type": "execute_result"
    }
   ],
   "source": [
    "# Solution:\n",
    "# Here I will use Poisson distribution as a \n",
    "# good approximation of binomial distribution as n=100, and p=0.05.\n",
    "\n",
    "# (a)\n",
    "# lambda = probability*n=0.05*100\n",
    "lam = 0.05*100\n",
    "# We need to find that at least 5 people out of 100 booked will not how up. \n",
    "# P(X>=5) = 1 - P(X<=4)\n",
    "# cumulative probability X >= 5  \n",
    "1 - poisson.cdf(4,5) # X<=4, lambda = probability*n=0.05*100 = 5\n"
   ]
  },
  {
   "cell_type": "code",
   "execution_count": 14,
   "metadata": {},
   "outputs": [
    {
     "data": {
      "text/plain": [
       "614.1357941874774"
      ]
     },
     "execution_count": 14,
     "metadata": {},
     "output_type": "execute_result"
    }
   ],
   "source": [
    "# (b)\n",
    "# Airline will pay = 700 for each passenger who showed (when 96th, 97th, .. shows up)\n",
    "# or when exactly 4,3,2,1,and 0 passengers did not show up:\n",
    "pay = 1*700* poisson.pmf(4,5) + 2*700* poisson.pmf(3,5) + \\\n",
    "    3*700* poisson.pmf(2,5) + 4*700* poisson.pmf(1,5) + \\\n",
    "    5*700* poisson.pmf(0,5)\n",
    "pay"
   ]
  },
  {
   "cell_type": "markdown",
   "metadata": {},
   "source": [
    "### Exact solution with binomial pmf"
   ]
  },
  {
   "cell_type": "code",
   "execution_count": 16,
   "metadata": {},
   "outputs": [
    {
     "data": {
      "text/plain": [
       "0.5640186993142893"
      ]
     },
     "execution_count": 16,
     "metadata": {},
     "output_type": "execute_result"
    }
   ],
   "source": [
    "# lets compare with binomial distribution\n",
    "# a\n",
    "1 - binom.cdf(4,100,0.05) # prob = binom.cdf(x, n, p)"
   ]
  },
  {
   "cell_type": "code",
   "execution_count": 17,
   "metadata": {},
   "outputs": [
    {
     "data": {
      "text/plain": [
       "598.5592756741634"
      ]
     },
     "execution_count": 17,
     "metadata": {},
     "output_type": "execute_result"
    }
   ],
   "source": [
    "# b\n",
    "# use binomial pmf:  prob = binom.pmf(x, n, p)\n",
    "pay = 1*700* binom.pmf(4,100,0.05) + 2*700* binom.pmf(3,100,0.05) + \\\n",
    "    3*700*binom.pmf(2,100,0.05) + 4*700* binom.pmf(1,100,0.05) + \\\n",
    "    5*700* binom.pmf(0,100,0.05)\n",
    "pay"
   ]
  },
  {
   "cell_type": "markdown",
   "metadata": {},
   "source": [
    "We can try to answer the following question, what would be most economical number of ticket to sell to get the maximum expected profitability?"
   ]
  },
  {
   "cell_type": "markdown",
   "metadata": {},
   "source": [
    "#### Situation when company always sells n tickets and receives full pay for booking \n",
    "(we use n=95 to n = 105 to find maximum expected profit)\n",
    "\n",
    "Note: refund for no show up is not considered for this calculation"
   ]
  },
  {
   "cell_type": "code",
   "execution_count": 58,
   "metadata": {},
   "outputs": [
    {
     "data": {
      "text/plain": [
       "(30000, 598.5592756741634, 29401.440724325836)"
      ]
     },
     "execution_count": 58,
     "metadata": {},
     "output_type": "execute_result"
    }
   ],
   "source": [
    "# Lets check for 100 tickets case\n",
    "tickets = 100\n",
    "seats = 95\n",
    "\n",
    "initial = tickets*300 # company sells n tickets $300 each\n",
    "\n",
    "penalty = 0 # initialize penalty\n",
    "for x in range(1,(tickets-seats)+1):\n",
    "    penalty += x*700* binom.pmf((tickets-seats-x),tickets,0.05)\n",
    "\n",
    "expected_profit = initial - penalty \n",
    "initial, penalty, expected_profit"
   ]
  },
  {
   "cell_type": "code",
   "execution_count": 76,
   "metadata": {},
   "outputs": [],
   "source": [
    "# Now generalize for N tickets\n",
    "\n",
    "def expected_prof(tickets):\n",
    "    seats = 95\n",
    "\n",
    "    initial = tickets*300 # company sells n tickets $300 each\n",
    "\n",
    "    penalty = 0 # initialize penalty\n",
    "    for x in range(1,(tickets-seats)+1):\n",
    "        penalty += x*700* binom.pmf((tickets-seats-x),tickets,0.05)\n",
    "\n",
    "    expected_profit = initial - penalty \n",
    "    print(tickets,round(expected_profit,2), round(penalty,2), round(initial,2))"
   ]
  },
  {
   "cell_type": "code",
   "execution_count": 77,
   "metadata": {},
   "outputs": [
    {
     "name": "stdout",
     "output_type": "stream",
     "text": [
      "95 28500 0 28500\n",
      "96 28794.91 5.09 28800\n",
      "97 29065.65 34.35 29100\n",
      "98 29278.39 121.61 29400\n",
      "99 29397.35 302.65 29700\n",
      "100 29401.44 598.56 30000\n",
      "101 29291.8 1008.2 30300\n",
      "102 29087.39 1512.61 30600\n",
      "103 28814.61 2085.39 30900\n",
      "104 28498.24 2701.76 31200\n",
      "105 28156.93 3343.07 31500\n"
     ]
    }
   ],
   "source": [
    "for tickets in range(95,105+1):\n",
    "    expected_prof(tickets)"
   ]
  },
  {
   "cell_type": "code",
   "execution_count": 78,
   "metadata": {},
   "outputs": [],
   "source": [
    "# 100 tickets gives the maximum expected profit"
   ]
  },
  {
   "cell_type": "markdown",
   "metadata": {},
   "source": [
    "#### Situation when only showed up passengers are charged for tickets"
   ]
  },
  {
   "cell_type": "code",
   "execution_count": 44,
   "metadata": {},
   "outputs": [],
   "source": [
    "### Situation when only showed up passengers are charged for tickets\n",
    "\n",
    "def expected_prof(n):\n",
    "    price = 300\n",
    "    penalty = 300 + 400\n",
    "\n",
    "    expected = 0\n",
    "    for x in range(0,n+1):\n",
    "        if x <= 95:\n",
    "            profit = 300 * x\n",
    "        else:\n",
    "            profit = 300 * x - (x - 95) * penalty\n",
    "        prob = binom.pmf(x,n,1 - 0.05) # probability that x people out of 100 will show up\n",
    "        expected += profit * prob # expected profitability\n",
    "    return expected"
   ]
  },
  {
   "cell_type": "code",
   "execution_count": 40,
   "metadata": {},
   "outputs": [
    {
     "data": {
      "text/plain": [
       "0.18001782727043672"
      ]
     },
     "execution_count": 40,
     "metadata": {},
     "output_type": "execute_result"
    }
   ],
   "source": [
    "binom.pmf(95,100,1 - 0.05)"
   ]
  },
  {
   "cell_type": "code",
   "execution_count": 43,
   "metadata": {},
   "outputs": [
    {
     "name": "stdout",
     "output_type": "stream",
     "text": [
      "95 27075.0\n",
      "96 27354.91\n",
      "97 27610.65\n",
      "98 27808.39\n",
      "99 27912.35\n",
      "100 27901.44\n",
      "101 27776.8\n",
      "102 27557.39\n",
      "103 27269.61\n",
      "104 26938.24\n",
      "105 26581.93\n"
     ]
    }
   ],
   "source": [
    "for n in range(95,106):\n",
    "    print(n,round(expected_prof(n),2))"
   ]
  },
  {
   "cell_type": "code",
   "execution_count": 80,
   "metadata": {},
   "outputs": [],
   "source": [
    "# 99 tickets gives the maximum expected profit, when only showed up bookings are charged"
   ]
  },
  {
   "cell_type": "code",
   "execution_count": null,
   "metadata": {},
   "outputs": [],
   "source": []
  }
 ],
 "metadata": {
  "kernelspec": {
   "display_name": "Python 3",
   "language": "python",
   "name": "python3"
  },
  "language_info": {
   "codemirror_mode": {
    "name": "ipython",
    "version": 3
   },
   "file_extension": ".py",
   "mimetype": "text/x-python",
   "name": "python",
   "nbconvert_exporter": "python",
   "pygments_lexer": "ipython3",
   "version": "3.6.9"
  }
 },
 "nbformat": 4,
 "nbformat_minor": 2
}
