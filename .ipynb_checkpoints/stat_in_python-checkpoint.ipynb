{
 "cells": [
  {
   "cell_type": "markdown",
   "metadata": {},
   "source": [
    "## Review of basic operations & statistics in Python\n",
    "\n",
    "https://www.hackerrank.com/challenges/s10-basic-statistics/problem"
   ]
  },
  {
   "cell_type": "code",
   "execution_count": 24,
   "metadata": {},
   "outputs": [],
   "source": [
    "# pip install statistics"
   ]
  },
  {
   "cell_type": "code",
   "execution_count": 5,
   "metadata": {},
   "outputs": [],
   "source": [
    "import numpy as np\n",
    "from scipy import stats\n",
    "import statistics as st"
   ]
  },
  {
   "cell_type": "markdown",
   "metadata": {},
   "source": [
    "## Example 0. Mean, Median, and Mode"
   ]
  },
  {
   "cell_type": "code",
   "execution_count": 6,
   "metadata": {},
   "outputs": [
    {
     "name": "stdout",
     "output_type": "stream",
     "text": [
      "[11, 22, 22, 33, 33, 44, 44, 44, 55, 55, 55]\n",
      "11\n"
     ]
    }
   ],
   "source": [
    "l = [22,11,22,44,55,33,44,44,55,55,33]\n",
    "n=len(l)\n",
    "\n",
    "print(sorted(l))\n",
    "print(n)"
   ]
  },
  {
   "cell_type": "markdown",
   "metadata": {},
   "source": [
    "### Mean"
   ]
  },
  {
   "cell_type": "code",
   "execution_count": 7,
   "metadata": {},
   "outputs": [
    {
     "name": "stdout",
     "output_type": "stream",
     "text": [
      "38.0\n",
      "38.0\n",
      "38\n"
     ]
    }
   ],
   "source": [
    "# mean\n",
    "print(sum(l)/n)\n",
    "print(np.mean(l))\n",
    "print(st.mean(l))"
   ]
  },
  {
   "cell_type": "markdown",
   "metadata": {},
   "source": [
    "### Median"
   ]
  },
  {
   "cell_type": "code",
   "execution_count": 12,
   "metadata": {},
   "outputs": [
    {
     "name": "stdout",
     "output_type": "stream",
     "text": [
      "44.0\n",
      "44.0\n",
      "44\n"
     ]
    }
   ],
   "source": [
    "# for odd and even numbers idx = n//2 and idx = -(n//2 + 1)\n",
    "median = (sorted(l)[n//2]+sorted(l)[-(n//2 + 1)])/2\n",
    "print(median)\n",
    "\n",
    "# using numpy\n",
    "print(np.median(l))\n",
    "\n",
    "# using statistics\n",
    "print(st.median(l))"
   ]
  },
  {
   "cell_type": "markdown",
   "metadata": {},
   "source": [
    "### Mode"
   ]
  },
  {
   "cell_type": "code",
   "execution_count": 14,
   "metadata": {},
   "outputs": [
    {
     "name": "stdout",
     "output_type": "stream",
     "text": [
      "ModeResult(mode=array([44]), count=array([3]))\n"
     ]
    }
   ],
   "source": [
    "print(stats.mode(l))"
   ]
  },
  {
   "cell_type": "code",
   "execution_count": 15,
   "metadata": {},
   "outputs": [
    {
     "data": {
      "text/plain": [
       "44"
      ]
     },
     "execution_count": 15,
     "metadata": {},
     "output_type": "execute_result"
    }
   ],
   "source": [
    "# method 1\n",
    "max(sorted(l),key=sorted(l).count)"
   ]
  },
  {
   "cell_type": "code",
   "execution_count": 16,
   "metadata": {},
   "outputs": [
    {
     "name": "stdout",
     "output_type": "stream",
     "text": [
      "44\n"
     ]
    }
   ],
   "source": [
    "# method 2\n",
    "# sorted(set(l))=[11,22,33,44,55]\n",
    "#           frq = [1,2, 2, 3, 3] \n",
    "frq = [sorted(l).count(i) for i in sorted(set(l))]\n",
    "idx = frq.index(max(frq))\n",
    "\n",
    "mode = sorted(set(l))[idx]\n",
    "\n",
    "print(mode)"
   ]
  },
  {
   "cell_type": "markdown",
   "metadata": {},
   "source": [
    "### Weighted Mean"
   ]
  },
  {
   "cell_type": "code",
   "execution_count": 26,
   "metadata": {},
   "outputs": [
    {
     "name": "stdout",
     "output_type": "stream",
     "text": [
      "4\n",
      "90 80 78 100\n",
      "50 20 20 10\n",
      "86.6\n"
     ]
    }
   ],
   "source": [
    "# Enter your code here. Read input from STDIN. Print output to STDOUT\n",
    "n = int(input())\n",
    "x = [int(i) for i in input().split()]\n",
    "w = [float(i) for i in input().split()]\n",
    "\n",
    "numerator = 0\n",
    "for i in range(len(x)):\n",
    "    numerator += x[i]*w[i]\n",
    "w_mean = numerator/sum(w)\n",
    "\n",
    "print(round(w_mean,1))"
   ]
  },
  {
   "cell_type": "code",
   "execution_count": 27,
   "metadata": {},
   "outputs": [
    {
     "data": {
      "text/plain": [
       "([90, 80, 78, 100], [50.0, 20.0, 20.0, 10.0])"
      ]
     },
     "execution_count": 27,
     "metadata": {},
     "output_type": "execute_result"
    }
   ],
   "source": [
    "x, w"
   ]
  },
  {
   "cell_type": "code",
   "execution_count": 28,
   "metadata": {},
   "outputs": [
    {
     "data": {
      "text/plain": [
       "86.6"
      ]
     },
     "execution_count": 28,
     "metadata": {},
     "output_type": "execute_result"
    }
   ],
   "source": [
    "# using numpy\n",
    "np.average(x,weights = w)"
   ]
  },
  {
   "cell_type": "markdown",
   "metadata": {},
   "source": [
    "## Example 1 a. Quartiles"
   ]
  },
  {
   "cell_type": "code",
   "execution_count": 45,
   "metadata": {},
   "outputs": [
    {
     "name": "stdout",
     "output_type": "stream",
     "text": [
      "10\n",
      "1 2 3 4 5 6 7 8 9 10\n",
      "3\n",
      "5\n",
      "8\n"
     ]
    }
   ],
   "source": [
    "#\n",
    "n = int(input())\n",
    "x = [int(i) for i in input().split()]\n",
    "\n",
    "def median(li, n):\n",
    "    return int((sorted(li)[n//2]+sorted(li)[-(n//2 + 1)])/2)\n",
    "# median or Q2\n",
    "q_2 = median(x,n)\n",
    "\n",
    "# Q1\n",
    "x_1 = sorted(x)[:(n//2)]\n",
    "q_1 = median(x_1, len(x_1))\n",
    "\n",
    "# Q3\n",
    "x_3 = sorted(x)[-(n//2):]\n",
    "q_3 = median(x_3, len(x_3))\n",
    "\n",
    "print(q_1)\n",
    "print(q_2)\n",
    "print(q_3)"
   ]
  },
  {
   "cell_type": "code",
   "execution_count": 46,
   "metadata": {},
   "outputs": [
    {
     "data": {
      "text/plain": [
       "[1, 2, 3, 4, 5]"
      ]
     },
     "execution_count": 46,
     "metadata": {},
     "output_type": "execute_result"
    }
   ],
   "source": [
    "x_1"
   ]
  },
  {
   "cell_type": "code",
   "execution_count": 47,
   "metadata": {},
   "outputs": [
    {
     "data": {
      "text/plain": [
       "[6, 7, 8, 9, 10]"
      ]
     },
     "execution_count": 47,
     "metadata": {},
     "output_type": "execute_result"
    }
   ],
   "source": [
    "x_3"
   ]
  },
  {
   "cell_type": "code",
   "execution_count": 35,
   "metadata": {},
   "outputs": [
    {
     "data": {
      "text/plain": [
       "[3, 7]"
      ]
     },
     "execution_count": 35,
     "metadata": {},
     "output_type": "execute_result"
    }
   ],
   "source": [
    "x[:2]"
   ]
  },
  {
   "cell_type": "markdown",
   "metadata": {},
   "source": [
    "## Example_1 b. Interquartile Range"
   ]
  },
  {
   "cell_type": "code",
   "execution_count": 145,
   "metadata": {},
   "outputs": [
    {
     "name": "stdout",
     "output_type": "stream",
     "text": [
      "5\n",
      "1 2 3 4 5\n",
      "1 1 1 1 1\n",
      "3.0\n"
     ]
    }
   ],
   "source": [
    "# https://www.hackerrank.com/challenges/s10-interquartile-range/problem\n",
    "\n",
    "def median(x,n):\n",
    "    # returns median, given list x and length of x = n\n",
    "    return (sorted(x)[n//2]+sorted(x)[-(n//2+1)])/2\n",
    "\n",
    "n = int(input())\n",
    "x = [int(i) for i in input().split()]\n",
    "f = [int(i) for i in input().split()]\n",
    "\n",
    "s = []\n",
    "for i in range(len(x)):\n",
    "    for j in range(f[i]):\n",
    "        s.append(x[i])\n",
    "        \n",
    "s = sorted(s)\n",
    "\n",
    "l_1 = s[:len(s)//2]\n",
    "l_2 = s[-(len(s)//2):]\n",
    "\n",
    "int_quart = median(l_2, len(l_2))-median(l_1, len(l_1))\n",
    "print(round(int_quart,1))\n",
    "\n",
    "# 6\n",
    "# 6 12 8 10 20 16\n",
    "# 5 4 3 2 1 5"
   ]
  },
  {
   "cell_type": "markdown",
   "metadata": {},
   "source": [
    "## Example 1c. Standard Deviation"
   ]
  },
  {
   "cell_type": "code",
   "execution_count": null,
   "metadata": {},
   "outputs": [],
   "source": []
  },
  {
   "cell_type": "code",
   "execution_count": null,
   "metadata": {},
   "outputs": [],
   "source": []
  },
  {
   "cell_type": "code",
   "execution_count": null,
   "metadata": {},
   "outputs": [],
   "source": []
  },
  {
   "cell_type": "code",
   "execution_count": null,
   "metadata": {},
   "outputs": [],
   "source": []
  }
 ],
 "metadata": {
  "kernelspec": {
   "display_name": "Python 3",
   "language": "python",
   "name": "python3"
  },
  "language_info": {
   "codemirror_mode": {
    "name": "ipython",
    "version": 3
   },
   "file_extension": ".py",
   "mimetype": "text/x-python",
   "name": "python",
   "nbconvert_exporter": "python",
   "pygments_lexer": "ipython3",
   "version": "3.6.9"
  }
 },
 "nbformat": 4,
 "nbformat_minor": 4
}
