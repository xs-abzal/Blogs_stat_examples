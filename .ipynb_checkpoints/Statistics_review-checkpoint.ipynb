{
 "cells": [
  {
   "cell_type": "markdown",
   "metadata": {},
   "source": [
    "## Review of basic operations & statistics in Python. \n",
    "## HackerRank\n",
    "\n",
    "https://www.hackerrank.com/challenges/s10-basic-statistics/problem"
   ]
  },
  {
   "cell_type": "code",
   "execution_count": 1,
   "metadata": {},
   "outputs": [],
   "source": [
    "# pip install statistics"
   ]
  },
  {
   "cell_type": "code",
   "execution_count": 16,
   "metadata": {},
   "outputs": [],
   "source": [
    "import numpy as np\n",
    "from scipy import stats\n",
    "import statistics as st\n",
    "import math"
   ]
  },
  {
   "cell_type": "markdown",
   "metadata": {},
   "source": [
    "## Stat 0. Mean, Median, and Mode"
   ]
  },
  {
   "cell_type": "code",
   "execution_count": 3,
   "metadata": {},
   "outputs": [
    {
     "name": "stdout",
     "output_type": "stream",
     "text": [
      "[11, 22, 22, 33, 33, 44, 44, 44, 55, 55, 55]\n",
      "11\n"
     ]
    }
   ],
   "source": [
    "l = [22,11,22,44,55,33,44,44,55,55,33]\n",
    "n=len(l)\n",
    "\n",
    "print(sorted(l))\n",
    "print(n)"
   ]
  },
  {
   "cell_type": "markdown",
   "metadata": {},
   "source": [
    "### Mean"
   ]
  },
  {
   "cell_type": "code",
   "execution_count": 4,
   "metadata": {},
   "outputs": [
    {
     "name": "stdout",
     "output_type": "stream",
     "text": [
      "38.0\n",
      "38.0\n",
      "38\n"
     ]
    }
   ],
   "source": [
    "# mean\n",
    "print(sum(l)/n)\n",
    "print(np.mean(l))\n",
    "print(st.mean(l))"
   ]
  },
  {
   "cell_type": "markdown",
   "metadata": {},
   "source": [
    "### Median"
   ]
  },
  {
   "cell_type": "code",
   "execution_count": 5,
   "metadata": {},
   "outputs": [
    {
     "name": "stdout",
     "output_type": "stream",
     "text": [
      "44.0\n",
      "44.0\n",
      "44\n"
     ]
    }
   ],
   "source": [
    "# for odd and even numbers idx = n//2 and idx = -(n//2 + 1)\n",
    "median = (sorted(l)[n//2]+sorted(l)[-(n//2 + 1)])/2\n",
    "print(median)\n",
    "\n",
    "# using numpy\n",
    "print(np.median(l))\n",
    "\n",
    "# using statistics\n",
    "print(st.median(l))"
   ]
  },
  {
   "cell_type": "markdown",
   "metadata": {},
   "source": [
    "### Mode"
   ]
  },
  {
   "cell_type": "code",
   "execution_count": 6,
   "metadata": {},
   "outputs": [
    {
     "name": "stdout",
     "output_type": "stream",
     "text": [
      "ModeResult(mode=array([44]), count=array([3]))\n"
     ]
    }
   ],
   "source": [
    "print(stats.mode(l))"
   ]
  },
  {
   "cell_type": "code",
   "execution_count": 7,
   "metadata": {},
   "outputs": [
    {
     "data": {
      "text/plain": [
       "44"
      ]
     },
     "execution_count": 7,
     "metadata": {},
     "output_type": "execute_result"
    }
   ],
   "source": [
    "# method 1\n",
    "max(sorted(l),key=sorted(l).count)"
   ]
  },
  {
   "cell_type": "code",
   "execution_count": 8,
   "metadata": {},
   "outputs": [
    {
     "name": "stdout",
     "output_type": "stream",
     "text": [
      "44\n"
     ]
    }
   ],
   "source": [
    "# method 2\n",
    "# sorted(set(l))=[11,22,33,44,55]\n",
    "#           frq = [1,2, 2, 3, 3] \n",
    "frq = [sorted(l).count(i) for i in sorted(set(l))]\n",
    "idx = frq.index(max(frq))\n",
    "\n",
    "mode = sorted(set(l))[idx]\n",
    "\n",
    "print(mode)"
   ]
  },
  {
   "cell_type": "markdown",
   "metadata": {},
   "source": [
    "### Weighted Mean"
   ]
  },
  {
   "cell_type": "code",
   "execution_count": 11,
   "metadata": {},
   "outputs": [
    {
     "name": "stdout",
     "output_type": "stream",
     "text": [
      "4\n",
      "1 2 3 4\n",
      "2 3 4 5\n",
      "2.9\n"
     ]
    }
   ],
   "source": [
    "# Enter your code here. Read input from STDIN. Print output to STDOUT\n",
    "n = int(input())\n",
    "x = [int(i) for i in input().split()]\n",
    "w = [float(i) for i in input().split()]\n",
    "\n",
    "numerator = 0\n",
    "for i in range(len(x)):\n",
    "    numerator += x[i]*w[i]\n",
    "w_mean = numerator/sum(w)\n",
    "\n",
    "print(round(w_mean,1))"
   ]
  },
  {
   "cell_type": "code",
   "execution_count": 12,
   "metadata": {},
   "outputs": [
    {
     "data": {
      "text/plain": [
       "([1, 2, 3, 4], [2.0, 3.0, 4.0, 5.0])"
      ]
     },
     "execution_count": 12,
     "metadata": {},
     "output_type": "execute_result"
    }
   ],
   "source": [
    "x, w"
   ]
  },
  {
   "cell_type": "code",
   "execution_count": 13,
   "metadata": {},
   "outputs": [
    {
     "data": {
      "text/plain": [
       "2.857142857142857"
      ]
     },
     "execution_count": 13,
     "metadata": {},
     "output_type": "execute_result"
    }
   ],
   "source": [
    "# using numpy\n",
    "np.average(x,weights = w)"
   ]
  },
  {
   "cell_type": "markdown",
   "metadata": {},
   "source": [
    "## Stat 1 a. Quartiles"
   ]
  },
  {
   "cell_type": "code",
   "execution_count": 14,
   "metadata": {},
   "outputs": [
    {
     "name": "stdout",
     "output_type": "stream",
     "text": [
      "4\n",
      "1 2 3 4\n",
      "1\n",
      "2\n",
      "3\n"
     ]
    }
   ],
   "source": [
    "#\n",
    "n = int(input())\n",
    "x = [int(i) for i in input().split()]\n",
    "\n",
    "def median(li, n):\n",
    "    return int((sorted(li)[n//2]+sorted(li)[-(n//2 + 1)])/2)\n",
    "# median or Q2\n",
    "q_2 = median(x,n)\n",
    "\n",
    "# Q1\n",
    "x_1 = sorted(x)[:(n//2)]\n",
    "q_1 = median(x_1, len(x_1))\n",
    "\n",
    "# Q3\n",
    "x_3 = sorted(x)[-(n//2):]\n",
    "q_3 = median(x_3, len(x_3))\n",
    "\n",
    "print(q_1)\n",
    "print(q_2)\n",
    "print(q_3)"
   ]
  },
  {
   "cell_type": "code",
   "execution_count": 15,
   "metadata": {},
   "outputs": [
    {
     "data": {
      "text/plain": [
       "[1, 2]"
      ]
     },
     "execution_count": 15,
     "metadata": {},
     "output_type": "execute_result"
    }
   ],
   "source": [
    "x_1"
   ]
  },
  {
   "cell_type": "code",
   "execution_count": 16,
   "metadata": {},
   "outputs": [
    {
     "data": {
      "text/plain": [
       "[3, 4]"
      ]
     },
     "execution_count": 16,
     "metadata": {},
     "output_type": "execute_result"
    }
   ],
   "source": [
    "x_3"
   ]
  },
  {
   "cell_type": "code",
   "execution_count": 17,
   "metadata": {},
   "outputs": [
    {
     "data": {
      "text/plain": [
       "[1, 2]"
      ]
     },
     "execution_count": 17,
     "metadata": {},
     "output_type": "execute_result"
    }
   ],
   "source": [
    "x[:2]"
   ]
  },
  {
   "cell_type": "markdown",
   "metadata": {},
   "source": [
    "## Stat_1 b. Interquartile Range"
   ]
  },
  {
   "cell_type": "code",
   "execution_count": 18,
   "metadata": {},
   "outputs": [
    {
     "name": "stdout",
     "output_type": "stream",
     "text": [
      "6\n",
      "6 12 8 10 20 16\n",
      "5 4 3 2 1 5\n",
      "9.0\n"
     ]
    }
   ],
   "source": [
    "# https://www.hackerrank.com/challenges/s10-interquartile-range/problem\n",
    "\n",
    "def median(x,n):\n",
    "    # returns median, given list x and length of x = n\n",
    "    return (sorted(x)[n//2]+sorted(x)[-(n//2+1)])/2\n",
    "\n",
    "n = int(input())\n",
    "x = [int(i) for i in input().split()]\n",
    "f = [int(i) for i in input().split()]\n",
    "\n",
    "s = []\n",
    "for i in range(len(x)):\n",
    "    for j in range(f[i]):\n",
    "        s.append(x[i])\n",
    "        \n",
    "s = sorted(s)\n",
    "\n",
    "l_1 = s[:len(s)//2]\n",
    "l_2 = s[-(len(s)//2):]\n",
    "\n",
    "int_quart = median(l_2, len(l_2))-median(l_1, len(l_1))\n",
    "print(round(int_quart,1))\n",
    "\n",
    "# 6\n",
    "# 6 12 8 10 20 16\n",
    "# 5 4 3 2 1 5"
   ]
  },
  {
   "cell_type": "markdown",
   "metadata": {},
   "source": [
    "## Stat 1c. Standard Deviation"
   ]
  },
  {
   "cell_type": "code",
   "execution_count": 19,
   "metadata": {},
   "outputs": [
    {
     "name": "stdout",
     "output_type": "stream",
     "text": [
      "6\n",
      "5 4 3 2 1 5\n",
      "1.5\n"
     ]
    }
   ],
   "source": [
    "# Enter your code here. Read input from STDIN. Print output to STDOUT\n",
    "n = int(input())\n",
    "x = [int(i) for i in input().split()]\n",
    "\n",
    "# mean\n",
    "mean = sum(x)/n\n",
    "\n",
    "# list of squared difference\n",
    "sq_list = [(i-mean)**2 for i in x]\n",
    "\n",
    "# variance\n",
    "var = sum(sq_list)/n\n",
    "\n",
    "# std_deviation\n",
    "s_dev = round(var**0.5,1)\n",
    "\n",
    "print(s_dev)"
   ]
  },
  {
   "cell_type": "markdown",
   "metadata": {},
   "source": [
    "### Stat 4: Binomial Distribution I\n",
    "https://www.hackerrank.com/challenges/s10-binomial-distribution-1/tutorial`\n"
   ]
  },
  {
   "cell_type": "code",
   "execution_count": 20,
   "metadata": {},
   "outputs": [],
   "source": [
    "import math\n",
    "import scipy.stats as stats\n",
    "from scipy.stats import binom \n",
    "from scipy.stats import poisson\n",
    "import random"
   ]
  },
  {
   "cell_type": "markdown",
   "metadata": {},
   "source": [
    "Task 1"
   ]
  },
  {
   "cell_type": "code",
   "execution_count": 21,
   "metadata": {},
   "outputs": [],
   "source": [
    "# Example\n",
    "# A fair coin is tossed 10 times. Find the following probabilities:\n",
    "# 1) Getting 5 heads.\n",
    "# 2) Getting at least 5 heads.\n",
    "# 3) Getting at most 5 heads. \n"
   ]
  },
  {
   "cell_type": "code",
   "execution_count": 22,
   "metadata": {},
   "outputs": [
    {
     "name": "stdout",
     "output_type": "stream",
     "text": [
      "0.24609375000000025\n",
      "0.6230468749999999\n",
      "0.6230468749999999\n"
     ]
    }
   ],
   "source": [
    "### 1) Getting 5 heads. \n",
    "print(binom.pmf(5,10,0.5))\n",
    "\n",
    "### 2) Getting at least 5 heads.\n",
    "print(binom.cdf(10,10,0.5)-binom.cdf(4,10,0.5)) # prob = binom.cdf(x, n, p)\n",
    "\n",
    "### 2) Getting at most 5 heads.\n",
    "print(binom.cdf(5,10,0.5))# prob = binom.cdf(x, n, p)\n"
   ]
  },
  {
   "cell_type": "markdown",
   "metadata": {},
   "source": [
    "#### Task 2. without any imports\n",
    "\n",
    "The ratio of boys to girls for babies born in Russia is 1.09:1. If there is 1 child born per birth, what proportion of Russian families with exactly 6 children will have at least 3 boys?\n",
    "Write a program to compute the answer using the above parameters. Then print your result, rounded to a scale of  decimal places (i.e.,  format).\n"
   ]
  },
  {
   "cell_type": "code",
   "execution_count": 23,
   "metadata": {},
   "outputs": [
    {
     "name": "stdout",
     "output_type": "stream",
     "text": [
      "1 2 3 4\n",
      "0.016\n"
     ]
    }
   ],
   "source": [
    "# Enter your code here. Read input from STDIN. Print output to STDOUT\n",
    "data = [float(x) for x in input().split()]\n",
    "p = data[0]/sum(data)\n",
    "\n",
    "def factorial(x):\n",
    "    factorial = 1\n",
    "    if x >= 1:\n",
    "        for i in range(1,x+1):\n",
    "            factorial *= i \n",
    "    return factorial\n",
    "\n",
    "def binom_pmf(x,n,p):\n",
    "    coef = factorial(n)/(factorial(x)*factorial(n-x))\n",
    "    prob = coef * (p**x) * ((1-p)**(n-x))\n",
    "    return prob\n",
    "\n",
    "cumm_prob = 0\n",
    "for i in range(3,6+1):\n",
    "    cumm_prob += binom_pmf(i,6,p=p)\n",
    "print(round(cumm_prob,3))  "
   ]
  },
  {
   "cell_type": "markdown",
   "metadata": {},
   "source": [
    "Task 3. without any imports\n",
    "\n",
    "Task \n",
    "A manufacturer of metal pistons finds that, on average, 12% of the pistons they manufacture are rejected because they are incorrectly sized. What is the probability that a batch of 10 pistons will contain:\n",
    "No more than 2 rejects?\n",
    "At least 2 rejects?"
   ]
  },
  {
   "cell_type": "code",
   "execution_count": 24,
   "metadata": {},
   "outputs": [
    {
     "name": "stdout",
     "output_type": "stream",
     "text": [
      "1 2 3 4\n",
      "1.0\n",
      "0.0\n"
     ]
    }
   ],
   "source": [
    "data = [float(x) for x in input().split()]\n",
    "p = data[0]/100\n",
    "n= int(data[1])\n",
    "\n",
    "def factorial(x):\n",
    "    factorial = 1\n",
    "    if x >= 1:\n",
    "        for i in range(1,x+1):\n",
    "            factorial *= i \n",
    "    return factorial\n",
    "\n",
    "def binom_pmf(x,n,p):\n",
    "    coef = factorial(n)/(factorial(x)*factorial(n-x))\n",
    "    prob = coef * (p**x) * ((1-p)**(n-x))\n",
    "    return prob\n",
    "\n",
    "def binom_cmf(lower,upper,n,p):\n",
    "    cumm_prob = 0\n",
    "    for i in range(lower,upper+1):\n",
    "        cumm_prob += binom_pmf(i,n,p)\n",
    "    return cumm_prob\n",
    "\n",
    "# no more than 2 rejects/defects:\n",
    "print(round(binom_cmf(0,2,n,p),3))  \n",
    "\n",
    "# at least 2 rejects/defects:\n",
    "print(round(binom_cmf(2,10,n,p),3))  "
   ]
  },
  {
   "cell_type": "code",
   "execution_count": 25,
   "metadata": {},
   "outputs": [
    {
     "data": {
      "text/plain": [
       "2.718281828459045"
      ]
     },
     "execution_count": 25,
     "metadata": {},
     "output_type": "execute_result"
    }
   ],
   "source": [
    "math.exp(1)"
   ]
  },
  {
   "cell_type": "markdown",
   "metadata": {},
   "source": [
    "### Stat 4: Geometric Distribution I\n",
    "\n",
    "\n",
    "https://www.hackerrank.com/challenges/s10-geometric-distribution-1/problem\n",
    "\n",
    "The probability that a machine produces a defective product is 1/3(p=1/3). What is the probability that the 1st defect (x=1) is found during the 5th inspection(n=5)?\n"
   ]
  },
  {
   "cell_type": "code",
   "execution_count": 30,
   "metadata": {},
   "outputs": [
    {
     "name": "stdout",
     "output_type": "stream",
     "text": [
      "0.066\n"
     ]
    }
   ],
   "source": [
    "import math\n",
    "\n",
    "\n",
    "# need to use negative binomial distribution\n",
    "# F F F F S\n",
    "n = 5\n",
    "x = 1\n",
    "p = 1/3\n",
    "def neg_binom(n,x,p):\n",
    "    neg_coef = math.factorial(n-1)/(math.factorial(x-1)*math.factorial(n-x))\n",
    "    neg_binom = neg_coef * (1-p)**(n-x) * p**x\n",
    "    return neg_binom\n",
    "\n",
    "print(round(neg_binom(n,x,p),3))"
   ]
  },
  {
   "cell_type": "code",
   "execution_count": 31,
   "metadata": {},
   "outputs": [
    {
     "data": {
      "text/plain": [
       "0.06584362139917699"
      ]
     },
     "execution_count": 31,
     "metadata": {},
     "output_type": "execute_result"
    }
   ],
   "source": [
    "# or\n",
    "q = 1 - p\n",
    "q**4 * p**1"
   ]
  },
  {
   "cell_type": "markdown",
   "metadata": {},
   "source": [
    "### Stat 4: Geometric Distribution 2\n",
    "\n",
    "https://www.hackerrank.com/challenges/s10-geometric-distribution-2/problem\n",
    "\n",
    "The probability that a machine produces a defective product is 1/3. What is the probability that the 1st defect is found during the first 5 inspections?"
   ]
  },
  {
   "cell_type": "code",
   "execution_count": 34,
   "metadata": {},
   "outputs": [
    {
     "name": "stdout",
     "output_type": "stream",
     "text": [
      "0.868\n"
     ]
    }
   ],
   "source": [
    "def neg_binom(n,x,p):\n",
    "    neg_coef = math.factorial(n-1)/(math.factorial(x-1)*math.factorial(n-x))\n",
    "    neg_binom = neg_coef * (1-p)**(n-x) * p**x\n",
    "    return neg_binom\n",
    "\n",
    "prob = 0\n",
    "\n",
    "for i in range(1,5+1):\n",
    "    prob += neg_binom(n=i,x=1,p =1/3)\n",
    "print(round(prob,3))"
   ]
  },
  {
   "cell_type": "code",
   "execution_count": 37,
   "metadata": {},
   "outputs": [
    {
     "data": {
      "text/plain": [
       "0.868312757201646"
      ]
     },
     "execution_count": 37,
     "metadata": {},
     "output_type": "execute_result"
    }
   ],
   "source": [
    "# or no defect found during first 5 inspections\n",
    "1 - (1-p)**5\n"
   ]
  },
  {
   "cell_type": "markdown",
   "metadata": {},
   "source": [
    "### Stat 5: Normal Distribution I\n",
    "\n",
    "Task. \n",
    "In a certain plant, the time taken to assemble a car is a random variable,X, having a normal distribution with a mean of 20 hours and a standard deviation of 2 hours. \n",
    "What is the probability that a car can be assembled at this plant in:\n",
    "\n",
    "1) Less than 19.5 hours?\n",
    "\n",
    "2) Between 20 and 22 hours?"
   ]
  },
  {
   "cell_type": "code",
   "execution_count": 11,
   "metadata": {},
   "outputs": [
    {
     "data": {
      "text/plain": [
       "0.4012936743170763"
      ]
     },
     "execution_count": 11,
     "metadata": {},
     "output_type": "execute_result"
    }
   ],
   "source": [
    "# 1 question\n",
    "stats.norm.cdf(19.5, loc=20, scale=2)"
   ]
  },
  {
   "cell_type": "code",
   "execution_count": 12,
   "metadata": {},
   "outputs": [
    {
     "data": {
      "text/plain": [
       "0.3413447460685429"
      ]
     },
     "execution_count": 12,
     "metadata": {},
     "output_type": "execute_result"
    }
   ],
   "source": [
    "# 2 question\n",
    "stats.norm.cdf(22, loc=20, scale=2)-stats.norm.cdf(20, loc=20, scale=2)"
   ]
  },
  {
   "cell_type": "code",
   "execution_count": 15,
   "metadata": {},
   "outputs": [],
   "source": [
    "# or alternatively using  = math.erf(z)\n",
    "def norm_cdf(mu, std, x):\n",
    "    z = (x - mu)/std\n",
    "    erf = math.erf(z/(2**0.5))\n",
    "    cdf = 0.5*(1+erf)\n",
    "    return cdf"
   ]
  },
  {
   "cell_type": "code",
   "execution_count": 13,
   "metadata": {},
   "outputs": [
    {
     "data": {
      "text/plain": [
       "0.4012936743170763"
      ]
     },
     "execution_count": 13,
     "metadata": {},
     "output_type": "execute_result"
    }
   ],
   "source": [
    "# 1 question\n",
    "norm_cdf(20,2,x=19.5)"
   ]
  },
  {
   "cell_type": "code",
   "execution_count": 14,
   "metadata": {},
   "outputs": [
    {
     "data": {
      "text/plain": [
       "0.34134474606854304"
      ]
     },
     "execution_count": 14,
     "metadata": {},
     "output_type": "execute_result"
    }
   ],
   "source": [
    "# 2 question\n",
    "norm_cdf(20,2,x=22)-norm_cdf(20,2,x=20)"
   ]
  },
  {
   "cell_type": "markdown",
   "metadata": {},
   "source": [
    "### Stat 5: Normal Distribution II.\n",
    "\n",
    "https://www.hackerrank.com/challenges/s10-normal-distribution-2/problem\n",
    "\n",
    "Task\n",
    "\n",
    "The final grades for a Physics exam taken by a large group of students have a mean of mu=70 and a standard deviation of stdv=10. If we can approximate the distribution of these grades by a normal distribution, what percentage of the students:\n",
    "\n",
    "1) Scored higher than 80(i.e., have a grade > 80)?\n",
    "\n",
    "2) Passed the test (i.e., have a grade >= 60)?\n",
    "\n",
    "3) Failed the test (i.e., have a grade < 60)?\n",
    "\n",
    "Find and print the answer to each question on a new line, rounded to a scale of 2 decimal places."
   ]
  },
  {
   "cell_type": "code",
   "execution_count": 18,
   "metadata": {},
   "outputs": [],
   "source": [
    "# or alternatively using  = math.erf(z), see above\n",
    "def norm_cdf(mu, std, x):\n",
    "    z = (x - mu)/std\n",
    "    erf = math.erf(z/(2**0.5))\n",
    "    cdf = 0.5*(1+erf)\n",
    "    return cdf"
   ]
  },
  {
   "cell_type": "code",
   "execution_count": 28,
   "metadata": {},
   "outputs": [
    {
     "data": {
      "text/plain": [
       "15.87"
      ]
     },
     "execution_count": 28,
     "metadata": {},
     "output_type": "execute_result"
    }
   ],
   "source": [
    "# 1 question: Scored higher than 80(i.e., have a grade > 80)?\n",
    "round(100 - 100*norm_cdf(mu=70,std=10,x=80),2)"
   ]
  },
  {
   "cell_type": "code",
   "execution_count": 29,
   "metadata": {},
   "outputs": [],
   "source": [
    "# norm_cdf(mu=70,std=10,x=90)-norm_cdf(mu=70,std=10,x=50)"
   ]
  },
  {
   "cell_type": "code",
   "execution_count": 30,
   "metadata": {},
   "outputs": [
    {
     "data": {
      "text/plain": [
       "84.13"
      ]
     },
     "execution_count": 30,
     "metadata": {},
     "output_type": "execute_result"
    }
   ],
   "source": [
    "# 2 question: Passed the test (i.e., have a grade >= 60)?\n",
    "round(100 - 100*norm_cdf(mu=70,std=10,x=60),2)"
   ]
  },
  {
   "cell_type": "code",
   "execution_count": 32,
   "metadata": {},
   "outputs": [
    {
     "data": {
      "text/plain": [
       "15.87"
      ]
     },
     "execution_count": 32,
     "metadata": {},
     "output_type": "execute_result"
    }
   ],
   "source": [
    "# 2 question: Failed the test (i.e., have a grade < 60)?\n",
    "round(100*norm_cdf(mu=70,std=10,x=60),2)"
   ]
  },
  {
   "cell_type": "markdown",
   "metadata": {},
   "source": [
    "### Stat 6: The Central Limit Theorem I\n",
    "https://www.hackerrank.com/challenges/s10-the-central-limit-theorem-1/problem\n",
    "\n",
    "Task.\n",
    "\n",
    "A large elevator can transport a maximum of 9800 pounds. Suppose a load of cargo containing 49 boxes must be transported via the elevator. The box weight of this type of cargo follows a distribution with a mean of mu=205 pounds and a standard deviation of sigma=15 pounds. Based on this information, what is the probability that all 49 boxes can be safely loaded into the freight elevator and transported?"
   ]
  },
  {
   "cell_type": "code",
   "execution_count": 88,
   "metadata": {},
   "outputs": [],
   "source": [
    "# initial data\n",
    "n = 49\n",
    "mu = 205\n",
    "sdv = 15"
   ]
  },
  {
   "cell_type": "code",
   "execution_count": 89,
   "metadata": {},
   "outputs": [
    {
     "name": "stdout",
     "output_type": "stream",
     "text": [
      "205 2.142857142857143\n"
     ]
    }
   ],
   "source": [
    "# sample distribution for 1 box\n",
    "sdv_1 = sdv/(n**0.5)\n",
    "print(mu,sdv_1)"
   ]
  },
  {
   "cell_type": "code",
   "execution_count": 90,
   "metadata": {},
   "outputs": [
    {
     "name": "stdout",
     "output_type": "stream",
     "text": [
      "10045 105.0\n"
     ]
    }
   ],
   "source": [
    "# The same as above but for the sum of 49 boxes\n",
    "mu_sum = n * mu \n",
    "sdv_sum = sdv_1 * n\n",
    "print(mu_sum, sdv_sum)"
   ]
  },
  {
   "cell_type": "code",
   "execution_count": 91,
   "metadata": {},
   "outputs": [],
   "source": [
    "def norm_cdf(mu, std, x):\n",
    "    z = (x - mu)/std\n",
    "    erf = math.erf(z/(2**0.5))\n",
    "    cdf = 0.5*(1+erf)\n",
    "    return cdf"
   ]
  },
  {
   "cell_type": "code",
   "execution_count": 92,
   "metadata": {},
   "outputs": [
    {
     "name": "stdout",
     "output_type": "stream",
     "text": [
      "probability = 0.0098\n"
     ]
    }
   ],
   "source": [
    "prob = norm_cdf(mu=mu_sum,std=sdv_sum, x=9800)\n",
    "print(f'probability = {round(prob,4)}')"
   ]
  },
  {
   "cell_type": "markdown",
   "metadata": {},
   "source": [
    "### Stat 6: The Central Limit Theorem II\n",
    "\n",
    "https://www.hackerrank.com/challenges/s10-the-central-limit-theorem-2/problem\n",
    "\n",
    "\n",
    "Task. \n",
    "\n",
    "The number of tickets purchased by each student for the University X vs. University Y football game follows a distribution that has a mean of mu = 2.4 and a standard deviation of sigma=2.0.\n",
    "\n",
    "A few hours before the game starts, 100 eager students line up to purchase last-minute tickets. If there are only 250 tickets left, what is the probability that all 100 students will be able to purchase tickets?"
   ]
  },
  {
   "cell_type": "code",
   "execution_count": 93,
   "metadata": {},
   "outputs": [],
   "source": [
    "# initial data\n",
    "n = 100\n",
    "x = 250\n",
    "mu = 2.4\n",
    "sdv = 2"
   ]
  },
  {
   "cell_type": "code",
   "execution_count": 94,
   "metadata": {},
   "outputs": [
    {
     "name": "stdout",
     "output_type": "stream",
     "text": [
      "2.4 0.2\n"
     ]
    }
   ],
   "source": [
    "# sample distribution for 1 student purchase\n",
    "sdv_1 = sdv/(n**0.5)\n",
    "print(mu,sdv_1)"
   ]
  },
  {
   "cell_type": "code",
   "execution_count": 95,
   "metadata": {},
   "outputs": [
    {
     "name": "stdout",
     "output_type": "stream",
     "text": [
      "240.0 20.0\n"
     ]
    }
   ],
   "source": [
    "# The same as above but for the all 100 students purchase (sum of all tickets)\n",
    "mu_sum = n * mu \n",
    "sdv_sum = sdv_1 * n\n",
    "print(mu_sum, sdv_sum)"
   ]
  },
  {
   "cell_type": "code",
   "execution_count": 96,
   "metadata": {},
   "outputs": [],
   "source": [
    "def norm_cdf(mu, std, x):\n",
    "    z = (x - mu)/std\n",
    "    erf = math.erf(z/(2**0.5))\n",
    "    cdf = 0.5*(1+erf)\n",
    "    return cdf"
   ]
  },
  {
   "cell_type": "code",
   "execution_count": 97,
   "metadata": {},
   "outputs": [
    {
     "name": "stdout",
     "output_type": "stream",
     "text": [
      "probability = 0.6915\n"
     ]
    }
   ],
   "source": [
    "# probability that all 100 students can buy tickets (max = 250)\n",
    "prob = norm_cdf(mu=mu_sum,std=sdv_sum, x=x)\n",
    "print(f'probability = {round(prob,4)}')"
   ]
  },
  {
   "cell_type": "markdown",
   "metadata": {},
   "source": [
    "### Stat 6: The Central Limit Theorem. Part III.\n",
    "\n",
    "Task \n",
    "\n",
    "You have a sample of 100 values from a population with mean mu=500 and with standard deviation sigma=80. \n",
    "\n",
    "Compute the interval that covers the middle 95% of the distribution of the sample mean; \n",
    "\n",
    "in other words, compute A and B such that P(A<x<b)=0.95. Use the value of z=1.96. Note that z is the z-score."
   ]
  },
  {
   "cell_type": "code",
   "execution_count": 98,
   "metadata": {},
   "outputs": [],
   "source": [
    "# initial data\n",
    "\n",
    "mu = 500 # population\n",
    "sdv = 80 # population\n",
    "\n",
    "n = 100 # sample size\n",
    "z = 1.96 # p=0.95"
   ]
  },
  {
   "cell_type": "code",
   "execution_count": 100,
   "metadata": {},
   "outputs": [
    {
     "name": "stdout",
     "output_type": "stream",
     "text": [
      "500 8.0\n"
     ]
    }
   ],
   "source": [
    "# sample distribution, size = 100\n",
    "sdv_sample = sdv/(n**0.5)\n",
    "print(mu, sdv_sample)"
   ]
  },
  {
   "cell_type": "code",
   "execution_count": 101,
   "metadata": {},
   "outputs": [],
   "source": [
    "def boundary(z,mu,sdv):\n",
    "    # calculates x\n",
    "    # z = (x - mu)/sdv\n",
    "    # x = z*sdv + mu\n",
    "    return (z * sdv + mu)"
   ]
  },
  {
   "cell_type": "code",
   "execution_count": 103,
   "metadata": {},
   "outputs": [
    {
     "name": "stdout",
     "output_type": "stream",
     "text": [
      "A = 484.32\n",
      "B = 515.68\n"
     ]
    }
   ],
   "source": [
    "print('A =', boundary(z=-z,mu=mu,sdv=sdv_sample))\n",
    "print('B =', boundary(z=z,mu=mu,sdv=sdv_sample))"
   ]
  },
  {
   "cell_type": "markdown",
   "metadata": {},
   "source": [
    "### Stat 7. Pearson Correlation Coefficient. Part 1.\n",
    "Task.\n",
    "\n",
    "Given two n-element data sets, X and Y, calculate the value of the Pearson correlation coefficient.\n",
    "\n",
    "https://www.hackerrank.com/challenges/s10-pearson-correlation-coefficient/problem"
   ]
  },
  {
   "cell_type": "code",
   "execution_count": 109,
   "metadata": {},
   "outputs": [
    {
     "name": "stdout",
     "output_type": "stream",
     "text": [
      "10\n",
      "10 9.8 8 7.8 7.7 7 6 5 4 2 \n",
      "200 44 32 24 22 17 15 12 8 4\n"
     ]
    }
   ],
   "source": [
    "n = int(input())\n",
    "x = [float(i) for i in input().split()]\n",
    "y = [float(i) for i in input().split()]"
   ]
  },
  {
   "cell_type": "code",
   "execution_count": 122,
   "metadata": {},
   "outputs": [],
   "source": [
    "def cov(x,y):\n",
    "    \n",
    "    # returns covariance of X and Y\n",
    "    mu_x = sum(x)/n # mean of list X\n",
    "    mu_y = sum(y)/n # mean of list Y\n",
    "    li = [(x[i]-mu_x)*(y[i]-mu_y) for i in range(n)]\n",
    "    \n",
    "    # covariance\n",
    "    cov = sum(li)/n \n",
    "    return cov\n",
    "\n",
    "def corr(x,y):\n",
    "    # returns correlation of X and Y\n",
    "    \n",
    "    #means\n",
    "    mu_x = sum(x)/n # mean of list X\n",
    "    mu_y = sum(y)/n # mean of list Y\n",
    "    \n",
    "    #list of squared differences\n",
    "    sq_list_x = [(i-mu_x)**2 for i in x]\n",
    "    sq_list_y = [(i-mu_y)**2 for i in y]\n",
    "    \n",
    "    # variance\n",
    "    var_x = sum(sq_list_x)/n\n",
    "    var_y = sum(sq_list_y)/n\n",
    "    \n",
    "    # std_deviations\n",
    "    sdv_x = var_x**0.5\n",
    "    sdv_y = var_y**0.5\n",
    "    \n",
    "    corr = cov(x,y)/(sdv_x * sdv_y)\n",
    "    return corr   "
   ]
  },
  {
   "cell_type": "code",
   "execution_count": 127,
   "metadata": {},
   "outputs": [],
   "source": [
    "# cov(x,y)"
   ]
  },
  {
   "cell_type": "code",
   "execution_count": 128,
   "metadata": {},
   "outputs": [
    {
     "data": {
      "text/plain": [
       "0.612"
      ]
     },
     "execution_count": 128,
     "metadata": {},
     "output_type": "execute_result"
    }
   ],
   "source": [
    "round(corr(x,y),3)"
   ]
  }
 ],
 "metadata": {
  "kernelspec": {
   "display_name": "Python 3",
   "language": "python",
   "name": "python3"
  },
  "language_info": {
   "codemirror_mode": {
    "name": "ipython",
    "version": 3
   },
   "file_extension": ".py",
   "mimetype": "text/x-python",
   "name": "python",
   "nbconvert_exporter": "python",
   "pygments_lexer": "ipython3",
   "version": "3.6.9"
  }
 },
 "nbformat": 4,
 "nbformat_minor": 4
}
