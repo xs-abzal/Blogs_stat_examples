{
 "cells": [
  {
   "cell_type": "markdown",
   "metadata": {},
   "source": [
    "## Review of basic operations & statistics in Python. \n",
    "## HackerRank\n",
    "\n",
    "https://www.hackerrank.com/challenges/s10-basic-statistics/problem"
   ]
  },
  {
   "cell_type": "code",
   "execution_count": 1,
   "metadata": {},
   "outputs": [],
   "source": [
    "# pip install statistics"
   ]
  },
  {
   "cell_type": "code",
   "execution_count": 2,
   "metadata": {},
   "outputs": [],
   "source": [
    "import numpy as np\n",
    "from scipy import stats\n",
    "import statistics as st"
   ]
  },
  {
   "cell_type": "markdown",
   "metadata": {},
   "source": [
    "## Stat 0. Mean, Median, and Mode"
   ]
  },
  {
   "cell_type": "code",
   "execution_count": 3,
   "metadata": {},
   "outputs": [
    {
     "name": "stdout",
     "output_type": "stream",
     "text": [
      "[11, 22, 22, 33, 33, 44, 44, 44, 55, 55, 55]\n",
      "11\n"
     ]
    }
   ],
   "source": [
    "l = [22,11,22,44,55,33,44,44,55,55,33]\n",
    "n=len(l)\n",
    "\n",
    "print(sorted(l))\n",
    "print(n)"
   ]
  },
  {
   "cell_type": "markdown",
   "metadata": {},
   "source": [
    "### Mean"
   ]
  },
  {
   "cell_type": "code",
   "execution_count": 4,
   "metadata": {},
   "outputs": [
    {
     "name": "stdout",
     "output_type": "stream",
     "text": [
      "38.0\n",
      "38.0\n",
      "38\n"
     ]
    }
   ],
   "source": [
    "# mean\n",
    "print(sum(l)/n)\n",
    "print(np.mean(l))\n",
    "print(st.mean(l))"
   ]
  },
  {
   "cell_type": "markdown",
   "metadata": {},
   "source": [
    "### Median"
   ]
  },
  {
   "cell_type": "code",
   "execution_count": 5,
   "metadata": {},
   "outputs": [
    {
     "name": "stdout",
     "output_type": "stream",
     "text": [
      "44.0\n",
      "44.0\n",
      "44\n"
     ]
    }
   ],
   "source": [
    "# for odd and even numbers idx = n//2 and idx = -(n//2 + 1)\n",
    "median = (sorted(l)[n//2]+sorted(l)[-(n//2 + 1)])/2\n",
    "print(median)\n",
    "\n",
    "# using numpy\n",
    "print(np.median(l))\n",
    "\n",
    "# using statistics\n",
    "print(st.median(l))"
   ]
  },
  {
   "cell_type": "markdown",
   "metadata": {},
   "source": [
    "### Mode"
   ]
  },
  {
   "cell_type": "code",
   "execution_count": 6,
   "metadata": {},
   "outputs": [
    {
     "name": "stdout",
     "output_type": "stream",
     "text": [
      "ModeResult(mode=array([44]), count=array([3]))\n"
     ]
    }
   ],
   "source": [
    "print(stats.mode(l))"
   ]
  },
  {
   "cell_type": "code",
   "execution_count": 7,
   "metadata": {},
   "outputs": [
    {
     "data": {
      "text/plain": [
       "44"
      ]
     },
     "execution_count": 7,
     "metadata": {},
     "output_type": "execute_result"
    }
   ],
   "source": [
    "# method 1\n",
    "max(sorted(l),key=sorted(l).count)"
   ]
  },
  {
   "cell_type": "code",
   "execution_count": 8,
   "metadata": {},
   "outputs": [
    {
     "name": "stdout",
     "output_type": "stream",
     "text": [
      "44\n"
     ]
    }
   ],
   "source": [
    "# method 2\n",
    "# sorted(set(l))=[11,22,33,44,55]\n",
    "#           frq = [1,2, 2, 3, 3] \n",
    "frq = [sorted(l).count(i) for i in sorted(set(l))]\n",
    "idx = frq.index(max(frq))\n",
    "\n",
    "mode = sorted(set(l))[idx]\n",
    "\n",
    "print(mode)"
   ]
  },
  {
   "cell_type": "markdown",
   "metadata": {},
   "source": [
    "### Weighted Mean"
   ]
  },
  {
   "cell_type": "code",
   "execution_count": 9,
   "metadata": {},
   "outputs": [
    {
     "name": "stdout",
     "output_type": "stream",
     "text": [
      "3\n",
      "1 2 3\n",
      "2 3 5\n",
      "2.3\n"
     ]
    }
   ],
   "source": [
    "# Enter your code here. Read input from STDIN. Print output to STDOUT\n",
    "n = int(input())\n",
    "x = [int(i) for i in input().split()]\n",
    "w = [float(i) for i in input().split()]\n",
    "\n",
    "numerator = 0\n",
    "for i in range(len(x)):\n",
    "    numerator += x[i]*w[i]\n",
    "w_mean = numerator/sum(w)\n",
    "\n",
    "print(round(w_mean,1))"
   ]
  },
  {
   "cell_type": "code",
   "execution_count": 10,
   "metadata": {},
   "outputs": [
    {
     "data": {
      "text/plain": [
       "([1, 2, 3], [2.0, 3.0, 5.0])"
      ]
     },
     "execution_count": 10,
     "metadata": {},
     "output_type": "execute_result"
    }
   ],
   "source": [
    "x, w"
   ]
  },
  {
   "cell_type": "code",
   "execution_count": 11,
   "metadata": {},
   "outputs": [
    {
     "data": {
      "text/plain": [
       "2.3"
      ]
     },
     "execution_count": 11,
     "metadata": {},
     "output_type": "execute_result"
    }
   ],
   "source": [
    "# using numpy\n",
    "np.average(x,weights = w)"
   ]
  },
  {
   "cell_type": "markdown",
   "metadata": {},
   "source": [
    "## Stat 1 a. Quartiles"
   ]
  },
  {
   "cell_type": "code",
   "execution_count": 12,
   "metadata": {},
   "outputs": [
    {
     "name": "stdout",
     "output_type": "stream",
     "text": [
      "4\n",
      "2 5 4 9\n",
      "3\n",
      "4\n",
      "7\n"
     ]
    }
   ],
   "source": [
    "#\n",
    "n = int(input())\n",
    "x = [int(i) for i in input().split()]\n",
    "\n",
    "def median(li, n):\n",
    "    return int((sorted(li)[n//2]+sorted(li)[-(n//2 + 1)])/2)\n",
    "# median or Q2\n",
    "q_2 = median(x,n)\n",
    "\n",
    "# Q1\n",
    "x_1 = sorted(x)[:(n//2)]\n",
    "q_1 = median(x_1, len(x_1))\n",
    "\n",
    "# Q3\n",
    "x_3 = sorted(x)[-(n//2):]\n",
    "q_3 = median(x_3, len(x_3))\n",
    "\n",
    "print(q_1)\n",
    "print(q_2)\n",
    "print(q_3)"
   ]
  },
  {
   "cell_type": "code",
   "execution_count": 13,
   "metadata": {},
   "outputs": [
    {
     "data": {
      "text/plain": [
       "[2, 4]"
      ]
     },
     "execution_count": 13,
     "metadata": {},
     "output_type": "execute_result"
    }
   ],
   "source": [
    "x_1"
   ]
  },
  {
   "cell_type": "code",
   "execution_count": 14,
   "metadata": {},
   "outputs": [
    {
     "data": {
      "text/plain": [
       "[5, 9]"
      ]
     },
     "execution_count": 14,
     "metadata": {},
     "output_type": "execute_result"
    }
   ],
   "source": [
    "x_3"
   ]
  },
  {
   "cell_type": "code",
   "execution_count": 15,
   "metadata": {},
   "outputs": [
    {
     "data": {
      "text/plain": [
       "[2, 5]"
      ]
     },
     "execution_count": 15,
     "metadata": {},
     "output_type": "execute_result"
    }
   ],
   "source": [
    "x[:2]"
   ]
  },
  {
   "cell_type": "markdown",
   "metadata": {},
   "source": [
    "## Stat_1 b. Interquartile Range"
   ]
  },
  {
   "cell_type": "code",
   "execution_count": 16,
   "metadata": {},
   "outputs": [
    {
     "name": "stdout",
     "output_type": "stream",
     "text": [
      "6\n",
      "6 12 8 10 20 16\n",
      "5 4 3 2 1 5\n",
      "9.0\n"
     ]
    }
   ],
   "source": [
    "# https://www.hackerrank.com/challenges/s10-interquartile-range/problem\n",
    "\n",
    "def median(x,n):\n",
    "    # returns median, given list x and length of x = n\n",
    "    return (sorted(x)[n//2]+sorted(x)[-(n//2+1)])/2\n",
    "\n",
    "n = int(input())\n",
    "x = [int(i) for i in input().split()]\n",
    "f = [int(i) for i in input().split()]\n",
    "\n",
    "s = []\n",
    "for i in range(len(x)):\n",
    "    for j in range(f[i]):\n",
    "        s.append(x[i])\n",
    "        \n",
    "s = sorted(s)\n",
    "\n",
    "l_1 = s[:len(s)//2]\n",
    "l_2 = s[-(len(s)//2):]\n",
    "\n",
    "int_quart = median(l_2, len(l_2))-median(l_1, len(l_1))\n",
    "print(round(int_quart,1))\n",
    "\n",
    "# 6\n",
    "# 6 12 8 10 20 16\n",
    "# 5 4 3 2 1 5"
   ]
  },
  {
   "cell_type": "markdown",
   "metadata": {},
   "source": [
    "## Stat 1c. Standard Deviation"
   ]
  },
  {
   "cell_type": "code",
   "execution_count": 17,
   "metadata": {},
   "outputs": [
    {
     "name": "stdout",
     "output_type": "stream",
     "text": [
      "4\n",
      "20 5 4 1\n",
      "7.4\n"
     ]
    }
   ],
   "source": [
    "# Enter your code here. Read input from STDIN. Print output to STDOUT\n",
    "n = int(input())\n",
    "x = [int(i) for i in input().split()]\n",
    "\n",
    "# mean\n",
    "mean = sum(x)/n\n",
    "\n",
    "# list of squared difference\n",
    "sq_list = [(i-mean)**2 for i in x]\n",
    "\n",
    "# variance\n",
    "var = sum(sq_list)/n\n",
    "\n",
    "# std_deviation\n",
    "s_dev = round(var**0.5,1)\n",
    "\n",
    "print(s_dev)"
   ]
  },
  {
   "cell_type": "markdown",
   "metadata": {},
   "source": [
    "### Time conversion \n",
    "https://www.hackerrank.com/challenges/time-conversion/problem"
   ]
  },
  {
   "cell_type": "code",
   "execution_count": 18,
   "metadata": {},
   "outputs": [],
   "source": [
    "# arr = [6, 2, 3, 4, 5, 4, 4, 5, 6]\n",
    "# max(arr)\n",
    "# arr.count(max(arr))"
   ]
  },
  {
   "cell_type": "code",
   "execution_count": 19,
   "metadata": {},
   "outputs": [],
   "source": [
    "def timeConversion(s):\n",
    "    #\n",
    "    # Write your code here.\n",
    "    #\n",
    "    \n",
    "    hour = int(s[:2])\n",
    "    if s[-2:] == 'PM':\n",
    "        res = '%02d' % (hour%12+12) + f'{s[2:-2]}'\n",
    "    else:\n",
    "        res = '%02d' % (hour%12) + f'{s[2:-2]}'\n",
    "    return res"
   ]
  },
  {
   "cell_type": "code",
   "execution_count": 20,
   "metadata": {},
   "outputs": [
    {
     "data": {
      "text/plain": [
       "'01:05:45'"
      ]
     },
     "execution_count": 20,
     "metadata": {},
     "output_type": "execute_result"
    }
   ],
   "source": [
    "timeConversion('01:05:45AM')"
   ]
  },
  {
   "cell_type": "markdown",
   "metadata": {},
   "source": [
    "### Counting Valleys\n",
    "https://www.hackerrank.com/challenges/counting-valleys/problem?h_l=interview&playlist_slugs%5B%5D=interview-preparation-kit&playlist_slugs%5B%5D=warmup"
   ]
  },
  {
   "cell_type": "code",
   "execution_count": 21,
   "metadata": {},
   "outputs": [],
   "source": [
    "### Using Numpy cummulative\n",
    "# import numpy as np\n",
    "# np.cumsum(path)"
   ]
  },
  {
   "cell_type": "code",
   "execution_count": 22,
   "metadata": {},
   "outputs": [],
   "source": [
    "def countingValleys(steps, path):\n",
    "    # counts number of valleys\n",
    "    # path is a string coded as U =up, D =down\n",
    "    # steps is number of U and D steps\n",
    "    \n",
    "    # convert U as +1, D as -1\n",
    "    new_path = [1 if elem=='U' else -1 for elem in path]\n",
    "    \n",
    "    \n",
    "    # create vertical coordinate list, starting with zero\n",
    "    coord = []\n",
    "    sum = 0\n",
    "    \n",
    "    for i in new_path:\n",
    "        sum += i\n",
    "        coord.append(sum)\n",
    "    coord = [0] + coord\n",
    "    \n",
    "    # get valleys(local minima)\n",
    "    count = 0\n",
    "    for i, j in enumerate(coord[:-1]):\n",
    "        if j == 0 and coord[i+1] == -1:\n",
    "            count += 1\n",
    "            \n",
    "    return count"
   ]
  },
  {
   "cell_type": "code",
   "execution_count": 23,
   "metadata": {},
   "outputs": [
    {
     "data": {
      "text/plain": [
       "2"
      ]
     },
     "execution_count": 23,
     "metadata": {},
     "output_type": "execute_result"
    }
   ],
   "source": [
    "countingValleys(10, 'UDDDUDUUDU')"
   ]
  },
  {
   "cell_type": "markdown",
   "metadata": {},
   "source": [
    "### Repeated String\n",
    "https://www.hackerrank.com/challenges/repeated-string/problem?h_l=interview&playlist_slugs%5B%5D=interview-preparation-kit&playlist_slugs%5B%5D=warmup"
   ]
  },
  {
   "cell_type": "code",
   "execution_count": 24,
   "metadata": {},
   "outputs": [],
   "source": [
    "def count_a(s):\n",
    "    # counts 'a' letters in string 's'\n",
    "    count = 0\n",
    "    for i in s:\n",
    "        if i == 'a':\n",
    "            count += 1\n",
    "    return count\n",
    "\n",
    "# num = n%len(s)\n",
    "# s[:num]\n",
    "\n",
    "def repeatedString(s, n):\n",
    "    # returns a total number of 'a' in  a string 's', \n",
    "    # repeated till reaching the length 'n'\n",
    "    total = n//len(s)*count_a(s) + count_a(s[:n%len(s)])\n",
    "    return total"
   ]
  },
  {
   "cell_type": "code",
   "execution_count": 25,
   "metadata": {},
   "outputs": [
    {
     "data": {
      "text/plain": [
       "7"
      ]
     },
     "execution_count": 25,
     "metadata": {},
     "output_type": "execute_result"
    }
   ],
   "source": [
    "# test 1\n",
    "s = 'aba'\n",
    "n = 10\n",
    "\n",
    "repeatedString(s, n)"
   ]
  },
  {
   "cell_type": "code",
   "execution_count": 1,
   "metadata": {},
   "outputs": [
    {
     "ename": "NameError",
     "evalue": "name 'repeatedString' is not defined",
     "output_type": "error",
     "traceback": [
      "\u001b[0;31m---------------------------------------------------------------------------\u001b[0m",
      "\u001b[0;31mNameError\u001b[0m                                 Traceback (most recent call last)",
      "\u001b[0;32m<ipython-input-1-0523cd2a959b>\u001b[0m in \u001b[0;36m<module>\u001b[0;34m\u001b[0m\n\u001b[1;32m      3\u001b[0m \u001b[0mn\u001b[0m \u001b[0;34m=\u001b[0m \u001b[0;36m100\u001b[0m\u001b[0;34m\u001b[0m\u001b[0;34m\u001b[0m\u001b[0m\n\u001b[1;32m      4\u001b[0m \u001b[0;34m\u001b[0m\u001b[0m\n\u001b[0;32m----> 5\u001b[0;31m \u001b[0mrepeatedString\u001b[0m\u001b[0;34m(\u001b[0m\u001b[0ms\u001b[0m\u001b[0;34m,\u001b[0m \u001b[0mn\u001b[0m\u001b[0;34m)\u001b[0m\u001b[0;34m\u001b[0m\u001b[0;34m\u001b[0m\u001b[0m\n\u001b[0m",
      "\u001b[0;31mNameError\u001b[0m: name 'repeatedString' is not defined"
     ]
    }
   ],
   "source": [
    "# test 2\n",
    "s = 'a'\n",
    "n = 100\n",
    "\n",
    "repeatedString(s, n)"
   ]
  },
  {
   "cell_type": "markdown",
   "metadata": {},
   "source": [
    "## Working on the problems"
   ]
  },
  {
   "cell_type": "markdown",
   "metadata": {},
   "source": [
    "### Jumping on the Clouds\n",
    "https://www.hackerrank.com/challenges/jumping-on-the-clouds/problem?h_l=interview&playlist_slugs%5B%5D=interview-preparation-kit&playlist_slugs%5B%5D=warmup"
   ]
  },
  {
   "cell_type": "code",
   "execution_count": 27,
   "metadata": {},
   "outputs": [],
   "source": []
  },
  {
   "cell_type": "code",
   "execution_count": 137,
   "metadata": {},
   "outputs": [
    {
     "data": {
      "text/plain": [
       "3"
      ]
     },
     "execution_count": 137,
     "metadata": {},
     "output_type": "execute_result"
    }
   ],
   "source": [
    "# minimum lemgth of c =2 per conditions:\n",
    "c = [0, 0, 0, 0, 1, 0]\n",
    "\n",
    "\n",
    "\n",
    "jump_count = 0 # jumps counter\n",
    "idx = 0 # index of the element in the list\n",
    "\n",
    "while idx <= len(c)-3:\n",
    "    if c[idx+2]: # == True == 1\n",
    "        idx += 1 # Jump to the next cloud\n",
    "    else:\n",
    "        idx += 2 # jump over one cloud\n",
    "    jump_count += 1\n",
    "    \n",
    "if idx < len(c) - 1:\n",
    "    jump_count += 1\n",
    "\n",
    "    \n",
    "jump_count\n",
    "        "
   ]
  },
  {
   "cell_type": "code",
   "execution_count": 144,
   "metadata": {},
   "outputs": [
    {
     "data": {
      "text/plain": [
       "3"
      ]
     },
     "execution_count": 144,
     "metadata": {},
     "output_type": "execute_result"
    }
   ],
   "source": [
    "def jumpingOnClouds(c):\n",
    "    jump_count = 0 # jumps counter\n",
    "    idx = 0 # index of the element in the list\n",
    "\n",
    "    while idx <= len(c)-3:\n",
    "        if c[idx+2]: # == True == 1\n",
    "            idx += 1 # Jump to the next cloud\n",
    "        else:\n",
    "            idx += 2 # jump over one cloud\n",
    "        jump_count += 1\n",
    "\n",
    "    if idx < len(c) - 1:\n",
    "        jump_count += 1\n",
    "\n",
    "    return jump_count\n",
    "\n",
    "jumpingOnClouds([0, 0, 1, 0, 0])"
   ]
  },
  {
   "cell_type": "markdown",
   "metadata": {},
   "source": [
    "### 2D Array Problem\n",
    "https://www.hackerrank.com/challenges/2d-array/problem?h_l=interview&playlist_slugs%5B%5D=interview-preparation-kit&playlist_slugs%5B%5D=arrays"
   ]
  },
  {
   "cell_type": "code",
   "execution_count": null,
   "metadata": {},
   "outputs": [],
   "source": [
    "# Hourglass arrays 3x3 from 6x6 array\n",
    "# find the maxima from'hourglasses' array\n",
    "# see link above for the full desciption "
   ]
  },
  {
   "cell_type": "code",
   "execution_count": 6,
   "metadata": {},
   "outputs": [],
   "source": [
    "import random as ra\n",
    "random.seed(1)"
   ]
  },
  {
   "cell_type": "markdown",
   "metadata": {},
   "source": [
    "### method 1"
   ]
  },
  {
   "cell_type": "code",
   "execution_count": 30,
   "metadata": {},
   "outputs": [
    {
     "data": {
      "text/plain": [
       "[[2, 4, 9, -9, -1, 5],\n",
       " [1, 5, -9, -2, 9, -7],\n",
       " [8, -4, -7, -1, -9, 4],\n",
       " [-7, 9, -9, 5, 7, 3],\n",
       " [-1, -2, 9, -6, 3, 0],\n",
       " [-4, 2, 0, -7, 6, 5]]"
      ]
     },
     "execution_count": 30,
     "metadata": {},
     "output_type": "execute_result"
    }
   ],
   "source": [
    "x = []\n",
    "for i in range(6):\n",
    "    x.append(random.sample(range(-9,10), 6))\n",
    "n = len(x)\n",
    "x"
   ]
  },
  {
   "cell_type": "code",
   "execution_count": 57,
   "metadata": {},
   "outputs": [
    {
     "data": {
      "text/plain": [
       "-9"
      ]
     },
     "execution_count": 57,
     "metadata": {},
     "output_type": "execute_result"
    }
   ],
   "source": [
    "x[3][2]"
   ]
  },
  {
   "cell_type": "code",
   "execution_count": 105,
   "metadata": {},
   "outputs": [],
   "source": [
    "def hourglassSum(x,n=6):\n",
    "    # returns the maximum sum of 'hourglasses' arrays\n",
    "    \n",
    "    hour_glass = []\n",
    "    for i in range(n-2):\n",
    "        for j in range(n-2):\n",
    "            hour_glass.append(\n",
    "                x[i][j]+x[i][j+1]+x[i][j+2]+\n",
    "                x[i+1][j+1]+\n",
    "                x[i+2][j]+x[i+2][j+1]+x[i+2][j+2])\n",
    "        \n",
    "    return max(hour_glass)\n",
    "\n",
    "# or  similary\n",
    "\n",
    "def hourglassSum_2(x,n=6):\n",
    "    # returns the maximum sum of 'hourglasses' arrays\n",
    "    \n",
    "    maxima = -63 # 7*9\n",
    "    for i in range(n-2):\n",
    "        for j in range(n-2):\n",
    "            \n",
    "            # sum top row, mid element and bottom row\n",
    "            hour_glass = \\\n",
    "            sum(x[i][j:(j+3)]) + \\\n",
    "            x[i+1][j+1] +  \\\n",
    "            sum(x[i+2][j:(j+3)])\n",
    "            \n",
    "            if hour_glass > maxima:\n",
    "                maxima = hour_glass\n",
    "        \n",
    "    return maxima\n"
   ]
  },
  {
   "cell_type": "code",
   "execution_count": 104,
   "metadata": {},
   "outputs": [
    {
     "data": {
      "text/plain": [
       "(22, 22)"
      ]
     },
     "execution_count": 104,
     "metadata": {},
     "output_type": "execute_result"
    }
   ],
   "source": [
    "hourglassSum(x,n=6), hourglassSum_2(x,n=6)"
   ]
  },
  {
   "cell_type": "code",
   "execution_count": null,
   "metadata": {},
   "outputs": [],
   "source": []
  },
  {
   "cell_type": "markdown",
   "metadata": {},
   "source": [
    "### method 2"
   ]
  },
  {
   "cell_type": "code",
   "execution_count": 76,
   "metadata": {},
   "outputs": [],
   "source": [
    "# import numpy as np"
   ]
  },
  {
   "cell_type": "code",
   "execution_count": 131,
   "metadata": {},
   "outputs": [
    {
     "data": {
      "text/plain": [
       "array([[ 2,  4,  9],\n",
       "       [ 1,  5, -9],\n",
       "       [ 8, -4, -7]])"
      ]
     },
     "execution_count": 131,
     "metadata": {},
     "output_type": "execute_result"
    }
   ],
   "source": [
    "arr = np.asarray(x)\n",
    "arr[:3,:3]"
   ]
  },
  {
   "cell_type": "code",
   "execution_count": 134,
   "metadata": {},
   "outputs": [
    {
     "data": {
      "text/plain": [
       "(11, 1, -9)"
      ]
     },
     "execution_count": 134,
     "metadata": {},
     "output_type": "execute_result"
    }
   ],
   "source": [
    "np.sum(arr), arr[1,0], arr[1,2]"
   ]
  },
  {
   "cell_type": "code",
   "execution_count": 135,
   "metadata": {},
   "outputs": [],
   "source": [
    "def hourglassSum_3(x,n=6):\n",
    "    # returns the maximum sum of 'hourglasses' arrays\n",
    "\n",
    "    \n",
    "    x = np.asarray(x)\n",
    "    maxima = -63 # 7*9\n",
    "    \n",
    "    for i in range(n-2):\n",
    "        for j in range(n-2):\n",
    "            \n",
    "            # create np array 3x3\n",
    "            arr = x[i:i+3,j:j+3] \n",
    "            \n",
    "            # sum top row, mid element and bottom row\n",
    "            hour_glass = np.sum(arr) - arr[1,0] - arr[1,2]\n",
    "            \n",
    "            if hour_glass > maxima:\n",
    "                maxima = hour_glass\n",
    "        \n",
    "    return maxima"
   ]
  },
  {
   "cell_type": "code",
   "execution_count": 136,
   "metadata": {},
   "outputs": [
    {
     "data": {
      "text/plain": [
       "(22, 22)"
      ]
     },
     "execution_count": 136,
     "metadata": {},
     "output_type": "execute_result"
    }
   ],
   "source": [
    "hourglassSum(x,n=6), hourglassSum_3(x,n=6)"
   ]
  },
  {
   "cell_type": "markdown",
   "metadata": {},
   "source": [
    "### Arrays: Left Rotation\n",
    "https://www.hackerrank.com/challenges/ctci-array-left-rotation/problem?h_l=interview&playlist_slugs%5B%5D=interview-preparation-kit&playlist_slugs%5B%5D=arrays\n",
    "\n"
   ]
  },
  {
   "cell_type": "code",
   "execution_count": 151,
   "metadata": {},
   "outputs": [
    {
     "data": {
      "text/plain": [
       "[2, 3, 4, 5, 0, 1]"
      ]
     },
     "execution_count": 151,
     "metadata": {},
     "output_type": "execute_result"
    }
   ],
   "source": [
    "x = [0,1,2,3,4,5]\n",
    "n=2\n",
    "\n",
    "x[n:] + x[:n]"
   ]
  },
  {
   "cell_type": "code",
   "execution_count": 154,
   "metadata": {},
   "outputs": [],
   "source": [
    "def solve(a, d):\n",
    "    \n",
    "    # return 'left rotated' list 'a' by 'd' number of first elements \n",
    "    # see link for detailed description of the task\n",
    "    i = d%len(a)# general solution when d can be more than n\n",
    "    return(a[i:]+a[:i])"
   ]
  },
  {
   "cell_type": "code",
   "execution_count": 153,
   "metadata": {},
   "outputs": [
    {
     "data": {
      "text/plain": [
       "[2, 3, 4, 5, 0, 1]"
      ]
     },
     "execution_count": 153,
     "metadata": {},
     "output_type": "execute_result"
    }
   ],
   "source": [
    "solve(x,n)"
   ]
  },
  {
   "cell_type": "code",
   "execution_count": null,
   "metadata": {},
   "outputs": [],
   "source": []
  },
  {
   "cell_type": "markdown",
   "metadata": {},
   "source": [
    "### Minimum Swaps 2\n",
    "\n",
    "https://www.hackerrank.com/challenges/minimum-swaps-2/problem?h_l=interview&playlist_slugs%5B%5D=interview-preparation-kit&playlist_slugs%5B%5D=arrays\n",
    "\n",
    "Task: need to find the minimum number of swaps required to sort the array in ascending order.\n",
    "Array elements are integers (== 1,2,3,4,...)\n",
    "\n"
   ]
  },
  {
   "cell_type": "code",
   "execution_count": 271,
   "metadata": {},
   "outputs": [
    {
     "name": "stdout",
     "output_type": "stream",
     "text": [
      "[1, 7, 3, 2, 4, 5, 6] 1\n",
      "[1, 2, 3, 7, 4, 5, 6] 2\n",
      "[1, 2, 3, 4, 7, 5, 6] 3\n",
      "[1, 2, 3, 4, 5, 7, 6] 4\n",
      "[1, 2, 3, 4, 5, 6, 7] 5\n"
     ]
    }
   ],
   "source": [
    "# method 1\n",
    "\n",
    "x = [7, 1, 3, 2, 4, 5, 6]\n",
    "xc= x.copy()\n",
    "\n",
    "# [7, 1, 3, 2, 4, 5, 6] - initial\n",
    "# [1,7,3,2,4,5,6] - swap 1\n",
    "# [1,2,3,7,4,5,6] - swap 2\n",
    "# [1,2,3,4,7,5,6] - swap 3\n",
    "# [1,2,3,4,5,7,6] - swap 4\n",
    "# [1,2,3,4,5,6,7] - swap 5\n",
    "\n",
    "\n",
    "# xc[0],xc[1]=xc[1],xc[0]\n",
    "\n",
    "count = 0\n",
    "for idx,val in enumerate(sorted(xc)):\n",
    "    swap_idx = xc.index(val) # index = 1\n",
    "    \n",
    "    if xc != sorted(xc) and xc[idx] != xc[swap_idx]:\n",
    "        xc[idx], xc[swap_idx] = xc[swap_idx], xc[idx]\n",
    "        count += 1\n",
    "        print(xc, count)\n"
   ]
  },
  {
   "cell_type": "code",
   "execution_count": 272,
   "metadata": {},
   "outputs": [
    {
     "data": {
      "text/plain": [
       "5"
      ]
     },
     "execution_count": 272,
     "metadata": {},
     "output_type": "execute_result"
    }
   ],
   "source": [
    "# The same as above in function\n",
    "\n",
    "#        x  = [7, 1, 3, 2, 4, 5, 6] \n",
    "# sorted(x) = [1, 2, 3, 4, 5, 6, 7]\n",
    "\n",
    "def minimumSwaps(x):\n",
    "    # returns number of swaps required to orginize \n",
    "    # list 'x' in the ascending order\n",
    "    count = 0\n",
    "    for idx, val in enumerate(sorted(x)):\n",
    "        swap_idx = x.index(val)\n",
    "        if x != sorted(x) and x[idx] != x[swap_idx]:\n",
    "            x[idx], x[swap_idx] = x [swap_idx], x[idx]\n",
    "            count += 1\n",
    "    return count\n",
    "\n",
    "minimumSwaps([7, 1, 3, 2, 4, 5, 6])"
   ]
  },
  {
   "cell_type": "code",
   "execution_count": 279,
   "metadata": {},
   "outputs": [
    {
     "data": {
      "text/plain": [
       "5"
      ]
     },
     "execution_count": 279,
     "metadata": {},
     "output_type": "execute_result"
    }
   ],
   "source": [
    "# Method 2 \n",
    "\n",
    "# xc.insert(0,1)\n",
    "# xc.pop(2)\n",
    "\n",
    "# The same as above in function\n",
    "#        x  = [7, 1, 3, 2, 4, 5, 6] \n",
    "# sorted(x) = [1, 2, 3, 4, 5, 6, 7]\n",
    "\n",
    "def minimumSwaps_2(x):\n",
    "    # returns number of swaps required to orginize \n",
    "    # list 'x' in the ascending order\n",
    "    count = 0\n",
    "    for idx, val in enumerate(sorted(x)):\n",
    "        swap_idx = x.index(val)\n",
    "        swap_val = x[idx]\n",
    "        if x != sorted(x) and x[idx] != x[swap_idx]:\n",
    "            \n",
    "            x.pop(idx)\n",
    "            x.insert(idx,val)\n",
    "            \n",
    "            x.pop(swap_idx)\n",
    "            x.insert(swap_idx,swap_val)\n",
    "            \n",
    "            count += 1\n",
    "    return count\n",
    "\n",
    "minimumSwaps_2([7, 1, 3, 2, 4, 5, 6])"
   ]
  },
  {
   "cell_type": "code",
   "execution_count": null,
   "metadata": {},
   "outputs": [],
   "source": []
  }
 ],
 "metadata": {
  "kernelspec": {
   "display_name": "Python 3",
   "language": "python",
   "name": "python3"
  },
  "language_info": {
   "codemirror_mode": {
    "name": "ipython",
    "version": 3
   },
   "file_extension": ".py",
   "mimetype": "text/x-python",
   "name": "python",
   "nbconvert_exporter": "python",
   "pygments_lexer": "ipython3",
   "version": "3.6.9"
  }
 },
 "nbformat": 4,
 "nbformat_minor": 4
}
