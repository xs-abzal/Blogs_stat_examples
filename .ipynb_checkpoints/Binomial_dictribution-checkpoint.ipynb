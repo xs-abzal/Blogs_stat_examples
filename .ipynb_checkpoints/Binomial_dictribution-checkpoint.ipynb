{
 "cells": [
  {
   "cell_type": "markdown",
   "metadata": {},
   "source": [
    "# Introduction to Discrete Distributions"
   ]
  },
  {
   "cell_type": "markdown",
   "metadata": {},
   "source": [
    "## Distributions\n",
    "\n",
    "\n",
    "\n",
    "### Density Functions\n",
    "\n",
    "Distrubtions are often described in terms of their density functions.\n",
    "\n",
    "Two types of density functions are probability density functions and cumulative density functions.\n",
    "\n",
    "* **Probability Density function** (PDF): calculates the probability of observing a given value.\n",
    "* **Cumulative Density function** (CDF): calculates the probability of an observation equal or less than a value.\n",
    "\n",
    "Both PDFs and CDFs are continuous functions. The equivalent of a PDF for a discrete distribution is called a probability mass function, or PMF. And similarly we have CMFs for the cumulative discrete-analogue."
   ]
  },
  {
   "cell_type": "code",
   "execution_count": 1,
   "metadata": {},
   "outputs": [],
   "source": [
    "import matplotlib.pyplot as plt\n",
    "import seaborn as sns; sns.set()\n",
    "%matplotlib inline\n",
    "\n",
    "import numpy as np\n",
    "import pandas as pd\n",
    "import math\n",
    "\n",
    "import scipy.stats as stats\n",
    "import random"
   ]
  },
  {
   "cell_type": "markdown",
   "metadata": {},
   "source": [
    "## 1. Binomial distribution"
   ]
  },
  {
   "cell_type": "code",
   "execution_count": 6,
   "metadata": {},
   "outputs": [],
   "source": [
    "def binom_pmf(n,k,p):\n",
    "    # calculates PMF of Binomial distribution\n",
    "    # n= number of trials\n",
    "    # k = number of succeses\n",
    "    # p = probability of success k\n",
    "    \n",
    "    pmf = (math.factorial(n)/(math.factorial(k)*math.factorial(n-k)))*(p**k)*(1-p)**(n-k)\n",
    "    return pmf\n",
    "\n",
    "def binom_cmf(lower, upper, n, p):\n",
    "    # calculates CMF of Binomial distribution\n",
    "    # lower = min number of successful trials\n",
    "    # upper = max number of successful trials\n",
    "    # n = number of trials\n",
    "    # p = probability of success\n",
    "    cmf = 0\n",
    "    for k in range(lower,upper+1):\n",
    "        cmf += binom_pmf(n,k,p)\n",
    "    return cmf"
   ]
  },
  {
   "cell_type": "code",
   "execution_count": 7,
   "metadata": {},
   "outputs": [
    {
     "data": {
      "text/plain": [
       "0.6296482639026698"
      ]
     },
     "execution_count": 7,
     "metadata": {},
     "output_type": "execute_result"
    }
   ],
   "source": [
    "binom_cmf(0,4,20,0.2)"
   ]
  },
  {
   "cell_type": "code",
   "execution_count": 8,
   "metadata": {},
   "outputs": [
    {
     "data": {
      "text/plain": [
       "0.9133074864326008"
      ]
     },
     "execution_count": 8,
     "metadata": {},
     "output_type": "execute_result"
    }
   ],
   "source": [
    "binom_cmf(0,6,20,0.2)"
   ]
  },
  {
   "cell_type": "code",
   "execution_count": 9,
   "metadata": {},
   "outputs": [],
   "source": [
    "### binomial test"
   ]
  },
  {
   "cell_type": "code",
   "execution_count": 10,
   "metadata": {},
   "outputs": [
    {
     "data": {
      "text/plain": [
       "0.06976539191673142"
      ]
     },
     "execution_count": 10,
     "metadata": {},
     "output_type": "execute_result"
    }
   ],
   "source": [
    "binom_pmf(235,39,1/6)"
   ]
  },
  {
   "cell_type": "code",
   "execution_count": null,
   "metadata": {},
   "outputs": [],
   "source": []
  }
 ],
 "metadata": {
  "kernelspec": {
   "display_name": "Python 3",
   "language": "python",
   "name": "python3"
  },
  "language_info": {
   "codemirror_mode": {
    "name": "ipython",
    "version": 3
   },
   "file_extension": ".py",
   "mimetype": "text/x-python",
   "name": "python",
   "nbconvert_exporter": "python",
   "pygments_lexer": "ipython3",
   "version": "3.6.9"
  }
 },
 "nbformat": 4,
 "nbformat_minor": 2
}
